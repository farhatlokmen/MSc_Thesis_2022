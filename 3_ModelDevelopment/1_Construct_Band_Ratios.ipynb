{
 "cells": [
  {
   "cell_type": "code",
   "execution_count": 1,
   "metadata": {
    "ExecuteTime": {
     "end_time": "2021-02-11T17:12:44.941809Z",
     "start_time": "2021-02-11T17:12:44.721390Z"
    }
   },
   "outputs": [],
   "source": [
    "import os\n",
    "import rasterio\n",
    "import numpy as np"
   ]
  },
  {
   "cell_type": "code",
   "execution_count": 2,
   "metadata": {
    "ExecuteTime": {
     "end_time": "2021-02-11T17:13:55.064571Z",
     "start_time": "2021-02-11T17:12:45.365980Z"
    }
   },
   "outputs": [],
   "source": [
    "# Rename files to B,G,R\n",
    "maindir1 = r'G:\\MScThesis\\waterQualityMonitoring\\Data\\MLearning\\ReflectanceLayers'\n",
    "cases = ['withoutGF','withGF']\n",
    "n = [35,38]\n",
    "for k in range(2):\n",
    "    subdir1 = os.path.join(maindir1, cases[k], 'France')\n",
    "    \n",
    "    for file1 in os.listdir(subdir1): \n",
    "        subdir2 = os.path.join(subdir1,file1)\n",
    "        for file2 in os.listdir(subdir2):\n",
    "            if len(file2) == n[k]:\n",
    "                name = 'B.tiff'\n",
    "                if 'B03' in file2:\n",
    "                    name = 'G.tiff'\n",
    "                elif 'B04' in file2:\n",
    "                    name = 'R.tiff'\n",
    "                img_temp = rasterio.open(os.path.join(subdir2, file2))\n",
    "                arr_temp = img_temp.read(1)\n",
    "                outputdir = os.path.join(subdir2, name)\n",
    "                with rasterio.open(outputdir,'w',driver='Gtiff', width=img_temp.width, height=img_temp.height, \n",
    "                                    count=1,crs=img_temp.crs,transform=img_temp.transform, dtype='float32', nodata=9.96921e+36) as newImg:\n",
    "                    newImg.write(arr_temp,1)\n",
    "                    newImg.close()    \n",
    "        # Clear cache\n",
    "        img_temp = None\n",
    "        del newImg\n",
    "        # Delete old files \n",
    "        for file2 in os.listdir(subdir2): \n",
    "            if len(file2) == n[k]:\n",
    "                os.remove(os.path.join(subdir2, file2))"
   ]
  },
  {
   "cell_type": "code",
   "execution_count": 3,
   "metadata": {
    "ExecuteTime": {
     "end_time": "2021-02-11T17:30:54.803113Z",
     "start_time": "2021-02-11T17:13:55.124375Z"
    },
    "scrolled": true
   },
   "outputs": [],
   "source": [
    "# Construct Band Ratios\n",
    "\n",
    "maindir1 = r'G:\\MScThesis\\waterQualityMonitoring\\Data\\MLearning\\ReflectanceLayers'\n",
    "\n",
    "cases = ['withoutGF','withGF']\n",
    "for case in cases:\n",
    "    subdir1 = os.path.join(maindir1, case, 'France')\n",
    "    img_ref = rasterio.open(os.path.join(subdir1,'20190123','B.tiff')) \n",
    "    arr_ref = img_ref.read() # to be used for initializing an empty array with same dimensions\n",
    "    EPSILON = 1e-10\n",
    "    for file1 in os.listdir(subdir1): # file dates\n",
    "        subdir2 = os.path.join(subdir1,file1)\n",
    "        my_array = np.zeros((arr_ref.shape[0],arr_ref.shape[1],arr_ref.shape[2]),dtype=np.float32)\n",
    "        for file2 in os.listdir(subdir2): # Combine bands into 1 nD array\n",
    "            if len(file2) == 6: # to avoid confusion with ratio bands as they will be assigned to same folder\n",
    "                arr_temp = rasterio.open(os.path.join(subdir2, file2)).read()\n",
    "                my_array = np.append(my_array, arr_temp, axis=0)\n",
    "        my_array1 = np.array(my_array[1:,:,:])    \n",
    "        # New band combinations    \n",
    "        names = ['B', 'G', 'R']\n",
    "        L = [i for i in range(len(names))]\n",
    "        for k in range(len(L)):\n",
    "            primaryBand = my_array1[k]\n",
    "            primaryName = names[k]\n",
    "            l = L.copy()\n",
    "            if k in l:\n",
    "                l.remove(k)        \n",
    "            for index in l:\n",
    "                secondaryBand = my_array1[index]\n",
    "                secondaryName = names[index]\n",
    "                ratioArray = primaryBand.copy()\n",
    "                for k1 in range(ratioArray.shape[0]):\n",
    "                    for k2 in range(ratioArray.shape[1]):\n",
    "                        if primaryBand[k1,k2] > 1e+36 or secondaryBand[k1,k2] > 1e+36:\n",
    "                            ratioArray[k1,k2] = 9.96921e+36\n",
    "                        elif primaryBand[k1,k2] == -99 or secondaryBand[k1,k2] == -99:\n",
    "                            ratioArray[k1,k2] = -99\n",
    "                        elif secondaryBand[k1,k2] == 0:\n",
    "                            ratioArray[k1,k2] = primaryBand[k1,k2]/(secondaryBand[k1,k2]+EPSILON)\n",
    "                        else:\n",
    "                            ratioArray[k1,k2] = primaryBand[k1,k2]/secondaryBand[k1,k2]\n",
    "                # Save as separate files\n",
    "                outputdir = os.path.join(subdir2, primaryName+'_'+secondaryName+'.tiff')\n",
    "                with rasterio.open(outputdir,'w',driver='Gtiff', width=img_ref.width, height=img_ref.height, \n",
    "                                    count=1,crs=img_ref.crs,transform=img_ref.transform, dtype='float32', nodata=9.96921e+36) as newImg:\n",
    "                    newImg.write(ratioArray,1)\n",
    "                    newImg.close()"
   ]
  },
  {
   "cell_type": "code",
   "execution_count": null,
   "metadata": {},
   "outputs": [],
   "source": []
  }
 ],
 "metadata": {
  "kernelspec": {
   "display_name": "Python 3",
   "language": "python",
   "name": "python3"
  },
  "language_info": {
   "codemirror_mode": {
    "name": "ipython",
    "version": 3
   },
   "file_extension": ".py",
   "mimetype": "text/x-python",
   "name": "python",
   "nbconvert_exporter": "python",
   "pygments_lexer": "ipython3",
   "version": "3.8.3"
  },
  "toc": {
   "base_numbering": 1,
   "nav_menu": {},
   "number_sections": true,
   "sideBar": true,
   "skip_h1_title": false,
   "title_cell": "Table of Contents",
   "title_sidebar": "Contents",
   "toc_cell": false,
   "toc_position": {},
   "toc_section_display": true,
   "toc_window_display": false
  },
  "varInspector": {
   "cols": {
    "lenName": 16,
    "lenType": 16,
    "lenVar": 40
   },
   "kernels_config": {
    "python": {
     "delete_cmd_postfix": "",
     "delete_cmd_prefix": "del ",
     "library": "var_list.py",
     "varRefreshCmd": "print(var_dic_list())"
    },
    "r": {
     "delete_cmd_postfix": ") ",
     "delete_cmd_prefix": "rm(",
     "library": "var_list.r",
     "varRefreshCmd": "cat(var_dic_list()) "
    }
   },
   "types_to_exclude": [
    "module",
    "function",
    "builtin_function_or_method",
    "instance",
    "_Feature"
   ],
   "window_display": false
  }
 },
 "nbformat": 4,
 "nbformat_minor": 4
}
