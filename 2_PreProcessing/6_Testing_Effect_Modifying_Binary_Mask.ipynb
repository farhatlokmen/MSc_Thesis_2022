{
 "cells": [
  {
   "cell_type": "code",
   "execution_count": 1,
   "metadata": {
    "ExecuteTime": {
     "end_time": "2021-12-24T07:09:25.447439Z",
     "start_time": "2021-12-24T07:09:24.668633Z"
    }
   },
   "outputs": [],
   "source": [
    "import os\n",
    "import rasterio\n",
    "import numpy as np\n",
    "from osgeo import gdal, gdalconst\n",
    "import pandas as pd\n",
    "from shutil import copy2"
   ]
  },
  {
   "cell_type": "code",
   "execution_count": 2,
   "metadata": {
    "ExecuteTime": {
     "end_time": "2021-12-24T07:09:28.965281Z",
     "start_time": "2021-12-24T07:09:25.490906Z"
    }
   },
   "outputs": [],
   "source": [
    "# Apply Land Mask\n",
    "\n",
    "maskArr_noModication = rasterio.open(r'G:\\MScThesis\\waterQualityMonitoring\\Data\\TestEffectBinaryMask\\Masks\\binaryMask_noBuffer_v3.tiff').read(1)\n",
    "maskArr_withModication = rasterio.open(r'G:\\MScThesis\\waterQualityMonitoring\\Data\\TestEffectBinaryMask\\Masks\\binaryMask_v3.tiff').read(1)\n",
    "my_dir = r'G:\\MScThesis\\waterQualityMonitoring\\Data\\TestEffectBinaryMask'\n",
    "\n",
    "for folder1 in ['GFresults_BV','GFresults_UV']:\n",
    "    dir1 = os.path.join(my_dir, folder1,'inputData')\n",
    "    for folder2 in ['targetImg','trainingImg']:\n",
    "        dir2 = os.path.join(dir1, folder2,'step2_PreProcessingS2','20190912')\n",
    "        for file in os.listdir(dir2):\n",
    "            img = rasterio.open(os.path.join(dir2, file))\n",
    "            arr = img.read(1)\n",
    "            masked_noModication = np.multiply(maskArr_noModication, arr)\n",
    "            masked_withModication = np.multiply(maskArr_withModication, arr)\n",
    "            # Save file\n",
    "            masked_noModication[masked_noModication==0]=9.96921e+36 # permanent change for nodata values\n",
    "            masked_withModication[masked_withModication==0]=9.96921e+36 # permanent change for nodata values\n",
    "\n",
    "            subdir = os.path.join(dir1, folder2,'step3ElevMask_PreProcessingS2')\n",
    "            os.makedirs(subdir, exist_ok=True) # Creates the folder if it does not exist\n",
    "\n",
    "            outputdir_noModication = os.path.join(subdir, 'masked__noModication'+file)\n",
    "            with rasterio.open(outputdir_noModication,'w',driver='Gtiff', width=img.width, height=img.height, \n",
    "                          count=1,crs=img.crs,transform=img.transform, dtype=np.float32, nodata=9.96921e+36) as newImg:\n",
    "                newImg.write(masked_noModication, indexes=1)    \n",
    "                newImg.close()\n",
    "            outputdir_withModication = os.path.join(subdir, 'masked__withModication'+file)\n",
    "            with rasterio.open(outputdir_withModication,'w',driver='Gtiff', width=img.width, height=img.height, \n",
    "                          count=1,crs=img.crs,transform=img.transform, dtype=np.float32, nodata=9.96921e+36) as newImg:\n",
    "                newImg.write(masked_withModication, indexes=1)    \n",
    "                newImg.close()"
   ]
  },
  {
   "cell_type": "code",
   "execution_count": null,
   "metadata": {},
   "outputs": [],
   "source": [
    "##### GF tests #####\n",
    "# UV\n",
    "# BV"
   ]
  }
 ],
 "metadata": {
  "kernelspec": {
   "display_name": "Python 3",
   "language": "python",
   "name": "python3"
  },
  "language_info": {
   "codemirror_mode": {
    "name": "ipython",
    "version": 3
   },
   "file_extension": ".py",
   "mimetype": "text/x-python",
   "name": "python",
   "nbconvert_exporter": "python",
   "pygments_lexer": "ipython3",
   "version": "3.8.3"
  },
  "toc": {
   "base_numbering": 1,
   "nav_menu": {},
   "number_sections": true,
   "sideBar": true,
   "skip_h1_title": false,
   "title_cell": "Table of Contents",
   "title_sidebar": "Contents",
   "toc_cell": false,
   "toc_position": {},
   "toc_section_display": true,
   "toc_window_display": false
  },
  "varInspector": {
   "cols": {
    "lenName": 16,
    "lenType": 16,
    "lenVar": 40
   },
   "kernels_config": {
    "python": {
     "delete_cmd_postfix": "",
     "delete_cmd_prefix": "del ",
     "library": "var_list.py",
     "varRefreshCmd": "print(var_dic_list())"
    },
    "r": {
     "delete_cmd_postfix": ") ",
     "delete_cmd_prefix": "rm(",
     "library": "var_list.r",
     "varRefreshCmd": "cat(var_dic_list()) "
    }
   },
   "types_to_exclude": [
    "module",
    "function",
    "builtin_function_or_method",
    "instance",
    "_Feature"
   ],
   "window_display": false
  }
 },
 "nbformat": 4,
 "nbformat_minor": 4
}
