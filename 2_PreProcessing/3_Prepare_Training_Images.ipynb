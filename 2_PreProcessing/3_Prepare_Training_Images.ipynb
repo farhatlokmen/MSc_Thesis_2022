{
 "cells": [
  {
   "cell_type": "code",
   "execution_count": 1,
   "metadata": {
    "ExecuteTime": {
     "end_time": "2021-01-24T19:34:50.808826Z",
     "start_time": "2021-01-24T19:34:50.329206Z"
    }
   },
   "outputs": [],
   "source": [
    "import os\n",
    "import rasterio\n",
    "import numpy as np\n",
    "from osgeo import gdal, gdalconst\n",
    "import pandas as pd\n",
    "from shutil import copy2"
   ]
  },
  {
   "cell_type": "markdown",
   "metadata": {},
   "source": [
    "# Step0: Resample B08"
   ]
  },
  {
   "cell_type": "code",
   "execution_count": 4,
   "metadata": {
    "ExecuteTime": {
     "end_time": "2021-01-09T20:45:38.006514Z",
     "start_time": "2021-01-09T20:45:06.295595Z"
    }
   },
   "outputs": [],
   "source": [
    "maindir = r'G:\\MScThesis\\waterQualityMonitoring\\Data\\GapFilling\\testingPhase_France\\Training_Images\\Step0_ResampleB08'\n",
    "reference = gdal.Open(os.path.join(maindir,'refImg' ,'T31TFJ_20190910T104021_B02_20m.jp2'), gdalconst.GA_ReadOnly)\n",
    "referenceProj = reference.GetProjection()\n",
    "referenceTrans = reference.GetGeoTransform()\n",
    "bandreference = reference.GetRasterBand(1)    \n",
    "x = reference.RasterXSize \n",
    "y = reference.RasterYSize\n",
    "    \n",
    "for file in os.listdir(os.path.join(maindir,'input')):\n",
    "    inputfile = gdal.Open(os.path.join(maindir,'input', file), gdalconst.GA_ReadOnly)\n",
    "    inputProj = inputfile.GetProjection()\n",
    "    inputTrans = inputfile.GetGeoTransform()\n",
    "    \n",
    "    outputfile = os.path.join(maindir,'output',file[:-8]+'_20m'+'.tiff')\n",
    "    driver= gdal.GetDriverByName('GTiff')\n",
    "    output = driver.Create(outputfile,x,y,1,bandreference.DataType)\n",
    "    output.SetGeoTransform(referenceTrans)\n",
    "    output.SetProjection(referenceProj)\n",
    "\n",
    "    gdal.ReprojectImage(inputfile,output,inputProj,referenceProj,gdalconst.GRA_Bilinear) # options: nearest neighbor, bilinear, cubic\n",
    "\n",
    "    del output\n",
    "    inputFile.FlushCache()\n",
    "    inputFile = None"
   ]
  },
  {
   "cell_type": "code",
   "execution_count": 5,
   "metadata": {
    "ExecuteTime": {
     "end_time": "2021-01-09T20:46:56.987277Z",
     "start_time": "2021-01-09T20:46:52.626329Z"
    }
   },
   "outputs": [],
   "source": [
    "# Copy resampled B08 files to another directory\n",
    "\n",
    "for file in os.listdir(os.path.join(maindir,'output')):\n",
    "    src = os.path.join(os.path.join(maindir,'output',file))\n",
    "    dst = r'G:\\MScThesis\\waterQualityMonitoring\\Data\\GapFilling\\testingPhase_France\\Training_Images\\Step1_ApplySCLMask'\n",
    "    copy2(src, dst)"
   ]
  },
  {
   "cell_type": "markdown",
   "metadata": {},
   "source": [
    "# Assign -99 to cloud pixels using corresponding SCL files"
   ]
  },
  {
   "cell_type": "code",
   "execution_count": 28,
   "metadata": {
    "ExecuteTime": {
     "end_time": "2021-01-09T21:40:01.540738Z",
     "start_time": "2021-01-09T21:33:15.026311Z"
    }
   },
   "outputs": [],
   "source": [
    "maindir1 = r'G:\\MScThesis\\waterQualityMonitoring\\Data\\GapFilling\\testingPhase_France\\Training_Images\\Step1_ApplySCLMask'\n",
    "dates = ['before','after']\n",
    "\n",
    "for date in dates:\n",
    "    subdir1 = os.path.join(maindir1, date)\n",
    "    scl = rasterio.open(os.path.join(subdir1,os.listdir(subdir1)[-1])).read() # Read the corresponding SCL file\n",
    "    # Transform the SCL layer into a binary mask \n",
    "    vals = np.unique(scl).tolist()\n",
    "    other_values = vals.copy()\n",
    "    shadow_cloud_values = [3.0, 8.0, 9.0, 10.0]  # List of shadow and cloud values                              \n",
    "    for item in shadow_cloud_values:\n",
    "        if item in other_values:\n",
    "            other_values.remove(item)    # List of values other than shadow and clouds                                          \n",
    "    for item in other_values:\n",
    "        scl[scl==item] = 1\n",
    "    for item in shadow_cloud_values:\n",
    "        scl[scl==item] = 0\n",
    "    for file in os.listdir(subdir1)[:8]:        \n",
    "        img = rasterio.open(os.path.join(subdir1, file))\n",
    "        img_arr = img.read() \n",
    "        # Apply mask\n",
    "        cloudMask = np.array(scl)\n",
    "        new_img = np.multiply(cloudMask, img_arr).astype(np.float32)\n",
    "        new_img[new_img==0]=-99\n",
    "        # Save file\n",
    "        outputdir = os.path.join(maindir1,'output', file[7:30]+'.tiff')\n",
    "        with rasterio.open(outputdir,'w',driver='Gtiff', width=img.width, height=img.height, \n",
    "                      count=1,crs=img.crs,transform=img.transform, dtype=np.float32, nodata=9.96921e+36) as newImg:\n",
    "            newImg.write(new_img)    \n",
    "            newImg.close()"
   ]
  },
  {
   "cell_type": "markdown",
   "metadata": {},
   "source": [
    "# Assign CRS, resample and clip"
   ]
  },
  {
   "cell_type": "code",
   "execution_count": 2,
   "metadata": {
    "ExecuteTime": {
     "end_time": "2021-01-10T05:55:53.811257Z",
     "start_time": "2021-01-10T05:55:53.781338Z"
    }
   },
   "outputs": [],
   "source": [
    "maindir1 = r'G:\\MScThesis\\waterQualityMonitoring\\Data\\CopernicusTurbidityLayers\\France'\n",
    "\n",
    "reference = gdal.Open(os.path.join(maindir1, 'c_gls_LWQ100-turbidity-blended-mean_201902110000_CUSTOM_MSI_V1.3.tiff'), gdalconst.GA_ReadOnly)\n",
    "referenceProj = reference.GetProjection()\n",
    "referenceTrans = reference.GetGeoTransform()\n",
    "bandreference = reference.GetRasterBand(1)    \n",
    "x = reference.RasterXSize \n",
    "y = reference.RasterYSize"
   ]
  },
  {
   "cell_type": "code",
   "execution_count": 3,
   "metadata": {
    "ExecuteTime": {
     "end_time": "2021-01-10T05:56:04.285681Z",
     "start_time": "2021-01-10T05:55:54.341566Z"
    }
   },
   "outputs": [],
   "source": [
    "maindir2 = r'G:\\MScThesis\\waterQualityMonitoring\\Data\\GapFilling\\testingPhase_France\\Training_Images\\Step1_ApplySCLMask'\n",
    "maindir3 = r'G:\\MScThesis\\waterQualityMonitoring\\Data\\GapFilling\\testingPhase_France\\Training_Images\\Step2_AssignCRS_Resample_Clip'\n",
    "for file in os.listdir(os.path.join(maindir2, 'output')):  \n",
    "    inputfile = gdal.Open(os.path.join(maindir2, 'output',file), gdalconst.GA_ReadOnly)    \n",
    "    inputProj = inputfile.GetProjection()\n",
    "    inputTrans = inputfile.GetGeoTransform()\n",
    "\n",
    "    outputfile = os.path.join(maindir3,'resampled_'+file)\n",
    "    driver= gdal.GetDriverByName('GTiff')\n",
    "    output = driver.Create(outputfile,x,y,1,bandreference.DataType)\n",
    "    output.SetGeoTransform(referenceTrans)\n",
    "    output.SetProjection(referenceProj)\n",
    "\n",
    "    gdal.ReprojectImage(inputfile,output,inputProj,referenceProj,gdalconst.GRA_NearestNeighbour) # choose nearest neighbor to avoid averaging with -99\n",
    "\n",
    "    del output\n",
    "    inputfile.FlushCache()\n",
    "    inputfile = None  "
   ]
  },
  {
   "cell_type": "markdown",
   "metadata": {},
   "source": [
    "# Apply land mask"
   ]
  },
  {
   "cell_type": "code",
   "execution_count": 2,
   "metadata": {
    "ExecuteTime": {
     "end_time": "2021-01-24T19:35:18.813405Z",
     "start_time": "2021-01-24T19:35:17.672630Z"
    }
   },
   "outputs": [],
   "source": [
    "maindir1 = r'G:\\MScThesis\\waterQualityMonitoring\\Data\\Bathymetry\\France\\binaryMask'\n",
    "mask_img = rasterio.open(os.path.join(maindir1, 'binaryMask_v3.tiff'))\n",
    "mask_arr = mask_img.read(1)\n",
    "\n",
    "maindir2 = r'G:\\MScThesis\\waterQualityMonitoring\\Data\\GapFilling\\testingPhase_France\\Training_Images\\Step2_AssignCRS_Resample_Clip'\n",
    "maindir3 = r'G:\\MScThesis\\waterQualityMonitoring\\Data\\GapFilling\\testingPhase_France\\Training_Images\\Step3_ApplyElevMask'\n",
    "\n",
    "names = np.array([]).astype('str')\n",
    "percent = np.array([]).astype('float')\n",
    "for file in os.listdir(maindir2):\n",
    "    img = rasterio.open(os.path.join(maindir2, file))\n",
    "    arr = img.read(1)\n",
    "    masked = np.multiply(mask_arr, arr)\n",
    "    # calculate cloud%\n",
    "    allNumPixels = np.sum(masked!=0) # nan values\n",
    "    cloudPixels = np.sum(masked==-99)\n",
    "    percentage = np.round(100*(cloudPixels/allNumPixels), 2)\n",
    "    names = np.append(names, file[26:33])\n",
    "    percent = np.append(percent, percentage)\n",
    "      \n",
    "    # Save file\n",
    "    masked[masked==0]=9.96921e+36 # permanent change for nodata values\n",
    "    outputdir = os.path.join(maindir3, 'masked_'+file[10:])\n",
    "    with rasterio.open(outputdir,'w',driver='Gtiff', width=img.width, height=img.height, \n",
    "                  count=1,crs=img.crs,transform=img.transform, dtype=np.float32, nodata=9.96921e+36) as newImg:\n",
    "        newImg.write(masked, indexes=1)    \n",
    "        newImg.close()\n",
    "\n",
    "# Save percentage file\n",
    "df = pd.DataFrame({'Image': names,'Cloud Percentage': percent})\n",
    "outputdir = r'G:\\MScThesis\\waterQualityMonitoring\\Data\\GapFilling\\testingPhase_France\\Training_Images\\summary_cloud_percent.xlsx'\n",
    "df[7:9].to_excel(outputdir, index=False)"
   ]
  },
  {
   "cell_type": "code",
   "execution_count": null,
   "metadata": {},
   "outputs": [],
   "source": []
  }
 ],
 "metadata": {
  "kernelspec": {
   "display_name": "Python 3",
   "language": "python",
   "name": "python3"
  },
  "language_info": {
   "codemirror_mode": {
    "name": "ipython",
    "version": 3
   },
   "file_extension": ".py",
   "mimetype": "text/x-python",
   "name": "python",
   "nbconvert_exporter": "python",
   "pygments_lexer": "ipython3",
   "version": "3.8.3"
  },
  "toc": {
   "base_numbering": 1,
   "nav_menu": {},
   "number_sections": true,
   "sideBar": true,
   "skip_h1_title": false,
   "title_cell": "Table of Contents",
   "title_sidebar": "Contents",
   "toc_cell": false,
   "toc_position": {},
   "toc_section_display": true,
   "toc_window_display": false
  },
  "varInspector": {
   "cols": {
    "lenName": 16,
    "lenType": 16,
    "lenVar": 40
   },
   "kernels_config": {
    "python": {
     "delete_cmd_postfix": "",
     "delete_cmd_prefix": "del ",
     "library": "var_list.py",
     "varRefreshCmd": "print(var_dic_list())"
    },
    "r": {
     "delete_cmd_postfix": ") ",
     "delete_cmd_prefix": "rm(",
     "library": "var_list.r",
     "varRefreshCmd": "cat(var_dic_list()) "
    }
   },
   "types_to_exclude": [
    "module",
    "function",
    "builtin_function_or_method",
    "instance",
    "_Feature"
   ],
   "window_display": false
  }
 },
 "nbformat": 4,
 "nbformat_minor": 4
}
