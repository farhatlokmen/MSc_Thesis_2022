{
 "cells": [
  {
   "cell_type": "code",
   "execution_count": null,
   "metadata": {},
   "outputs": [],
   "source": [
    "import os\n",
    "import numpy as np\n",
    "import itertools\n",
    "import rasterio\n",
    "from osgeo import gdal, gdalconst\n",
    "from joblib import Parallel, delayed"
   ]
  },
  {
   "cell_type": "code",
   "execution_count": null,
   "metadata": {},
   "outputs": [],
   "source": [
    "def generate_list(offset):\n",
    "    L = list(range(offset+1))\n",
    "    L1 = [-item for item in L if item != 0]\n",
    "    L += L1 \n",
    "    return L\n",
    "def coord_Nx_Of_NoData(index1,index2,array,buffer):\n",
    "    idx = list()\n",
    "    idy = list()    \n",
    "    if array[index1,index2] == 0:\n",
    "        for k1 in buffer:\n",
    "            if index1+k1>=0 and index1+k1<array.shape[0]:      \n",
    "                for k2 in buffer:\n",
    "                    if k1 != 0 or k2 != 0:          \n",
    "                        if index2+k2>=0 and index2+k2<array.shape[1]: \n",
    "                            if array[int(index1+k1),int(index2+k2)] == 1:\n",
    "                                idx.append(int(index1+k1))\n",
    "                                idy.append(int(index2+k2))\n",
    "    idx = list(idx)\n",
    "    idy = list(idy)\n",
    "    return idx,idy"
   ]
  },
  {
   "cell_type": "code",
   "execution_count": null,
   "metadata": {},
   "outputs": [],
   "source": [
    "bathymetry_dir = r'G:\\bathymetry'\n",
    "original_files_dir = os.path.join(bathymetry_dir,'inputFile')\n",
    "resampled_files_dir = os.path.join(bathymetry_dir,'resampled')\n",
    "masked_files_dir = os.path.join(bathymetry_dir,'binaryMask')\n",
    "\n",
    "tur_dir = r'G:\\copernicusTurLayers'\n",
    "tur_file = 'c_gls_LWQ100-turbidity-blended-mean_201902110000_CUSTOM_MSI_V1.3.tiff'\n",
    "reference = gdal.Open(os.path.join(tur_dir, tur_file), gdalconst.GA_ReadOnly)\n",
    "referenceProj = reference.GetProjection()\n",
    "referenceTrans = reference.GetGeoTransform()\n",
    "bandreference = reference.GetRasterBand(1)    \n",
    "x = reference.RasterXSize \n",
    "y = reference.RasterYSize"
   ]
  },
  {
   "cell_type": "code",
   "execution_count": null,
   "metadata": {},
   "outputs": [],
   "source": [
    "for fileName in os.listdir(original_files_dir):\n",
    "    inputFile = gdal.Open(os.path.join(original_files_dir, fileName), gdalconst.GA_ReadOnly)    \n",
    "    inputProj = inputFile.GetProjection()\n",
    "    inputTrans = inputFile.GetGeoTransform()\n",
    "    \n",
    "    outputFile = os.path.join(resampled_files_dir,'resampled_'+fileName)\n",
    "    driver= gdal.GetDriverByName('GTiff')\n",
    "    output = driver.Create(outputFile,x,y,1,bandreference.DataType)\n",
    "    output.SetGeoTransform(referenceTrans)\n",
    "    output.SetProjection(referenceProj)\n",
    "    gdal.ReprojectImage(inputFile,output,inputProj,referenceProj,gdalconst.GRA_NearestNeighbour) \n",
    "\n",
    "inputFile.FlushCache()\n",
    "inputFile = None  \n",
    "del output"
   ]
  },
  {
   "cell_type": "code",
   "execution_count": null,
   "metadata": {},
   "outputs": [],
   "source": [
    "for fileName in os.listdir(resampled_files_dir):\n",
    "    inputFile = gdal.Open(os.path.join(resampled_files_dir,fileName))\n",
    "    inputArray = inputFile.ReadAsArray()\n",
    "    Mask_Zero = inputArray > -1 \n",
    "    Ones_array = np.ones((inputArray.shape[0],inputArray.shape[1]),dtype=np.float32)\n",
    "    Ones_array[Mask_Zero] = 0     \n",
    "    buffer = generate_list(6)\n",
    "    coord = Parallel(n_jobs=-1)(delayed(coord_Nx_Of_NoData)(i,j,Ones_array,buffer) for j in range(Ones_array.shape[1]) for i in range(Ones_array.shape[0]))\n",
    "    coord = [x for x in coord if x != ([], [])] \n",
    "    L = []\n",
    "    for k in range(len(coord)):\n",
    "        rows = coord[k][0]\n",
    "        cols = coord[k][1]\n",
    "        for m in range(len(rows)):\n",
    "            L.append([rows[m],cols[m]])\n",
    "    L.sort() \n",
    "    L=list(L for L,_ in itertools.groupby(L)) \n",
    "    for k in range(len(L)): \n",
    "        Ones_array[L[k][0],L[k][1]] = 0 \n",
    "    Ones_array[80:160,600:790][Ones_array[80:160,600:790]==1]=0 \n",
    "    subArrays = [Ones_array[50:190,200:400],Ones_array[100:250,520:650]] \n",
    "    for sub_array in subArrays:\n",
    "        buffer = generate_list(8) \n",
    "        coord = Parallel(n_jobs=-1)(delayed(coord_Nx_Of_NoData)(i,j,sub_array,buffer) for j in range(sub_array.shape[1]) for i in range(sub_array.shape[0]))\n",
    "        coord = [x for x in coord if x != ([], [])] \n",
    "        L = []\n",
    "        for k in range(len(coord)):\n",
    "            rows = coord[k][0]\n",
    "            cols = coord[k][1]\n",
    "            for m in range(len(rows)):\n",
    "                L.append([rows[m],cols[m]])\n",
    "        L.sort() \n",
    "        L=list(L for L,_ in itertools.groupby(L)) \n",
    "        for k in range(len(L)): \n",
    "            sub_array[L[k][0],L[k][1]] = 0 \n",
    "    outputFile = os.path.join(masked_files_dir,'binaryMask_'+fileName[14:16]+'.tiff')\n",
    "    driver= gdal.GetDriverByName('GTiff')    \n",
    "    output = driver.CreateCopy(outputFile, inputFile) \n",
    "    output.GetRasterBand(1).WriteArray(Ones_array)\n",
    "    output.GetRasterBand(1).SetNoDataValue(0)     \n",
    "inputFile.FlushCache()\n",
    "inputFile = None  \n",
    "del output"
   ]
  },
  {
   "cell_type": "code",
   "execution_count": null,
   "metadata": {},
   "outputs": [],
   "source": []
  }
 ],
 "metadata": {
  "kernelspec": {
   "display_name": "Python 3",
   "language": "python",
   "name": "python3"
  },
  "language_info": {
   "codemirror_mode": {
    "name": "ipython",
    "version": 3
   },
   "file_extension": ".py",
   "mimetype": "text/x-python",
   "name": "python",
   "nbconvert_exporter": "python",
   "pygments_lexer": "ipython3",
   "version": "3.8.3"
  },
  "toc": {
   "base_numbering": 1,
   "nav_menu": {},
   "number_sections": true,
   "sideBar": true,
   "skip_h1_title": false,
   "title_cell": "Table of Contents",
   "title_sidebar": "Contents",
   "toc_cell": false,
   "toc_position": {},
   "toc_section_display": true,
   "toc_window_display": false
  },
  "varInspector": {
   "cols": {
    "lenName": 16,
    "lenType": 16,
    "lenVar": 40
   },
   "kernels_config": {
    "python": {
     "delete_cmd_postfix": "",
     "delete_cmd_prefix": "del ",
     "library": "var_list.py",
     "varRefreshCmd": "print(var_dic_list())"
    },
    "r": {
     "delete_cmd_postfix": ") ",
     "delete_cmd_prefix": "rm(",
     "library": "var_list.r",
     "varRefreshCmd": "cat(var_dic_list()) "
    }
   },
   "types_to_exclude": [
    "module",
    "function",
    "builtin_function_or_method",
    "instance",
    "_Feature"
   ],
   "window_display": false
  }
 },
 "nbformat": 4,
 "nbformat_minor": 4
}
