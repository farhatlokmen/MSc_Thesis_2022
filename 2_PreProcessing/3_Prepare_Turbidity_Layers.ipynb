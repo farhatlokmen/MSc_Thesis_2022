{
 "cells": [
  {
   "cell_type": "code",
   "execution_count": 1,
   "metadata": {
    "ExecuteTime": {
     "end_time": "2021-01-24T19:35:46.839860Z",
     "start_time": "2021-01-24T19:35:46.624590Z"
    }
   },
   "outputs": [],
   "source": [
    "import os\n",
    "import numpy as np\n",
    "import rasterio\n",
    "from rasterio.plot import show"
   ]
  },
  {
   "cell_type": "code",
   "execution_count": 3,
   "metadata": {
    "ExecuteTime": {
     "end_time": "2021-01-24T19:36:20.892377Z",
     "start_time": "2021-01-24T19:36:18.976493Z"
    }
   },
   "outputs": [],
   "source": [
    "maindir1 = r'G:\\MScThesis\\waterQualityMonitoring\\Data\\Bathymetry\\France\\binaryMask'\n",
    "mask_img = rasterio.open(os.path.join(maindir1, 'binaryMask_v3.tiff'))\n",
    "mask_arr = mask_img.read(1)\n",
    "\n",
    "maindir2 = r'G:\\MScThesis\\waterQualityMonitoring\\Data\\CopernicusTurbidityLayers'\n",
    "subdir = os.path.join(maindir2,'France')\n",
    "for file1 in os.listdir(subdir):    \n",
    "    inputFile = rasterio.open(os.path.join(subdir,file1))\n",
    "    inputArray = inputFile.read(1)\n",
    "    masked = np.multiply(mask_arr, inputArray)\n",
    "    masked[masked==0]=9.96921e+36\n",
    "    # Save file\n",
    "    outputdir = os.path.join(subdir, 'masked')\n",
    "    os.makedirs(outputdir, exist_ok=True) # Creates the folder if it does not exist\n",
    "    outputFile = os.path.join(outputdir, file1[36:44]+'.tiff')\n",
    "    with rasterio.open(outputFile,'w',driver='Gtiff', width=inputFile.width, height=inputFile.height, count=1,crs=inputFile.crs,\n",
    "                       transform=inputFile.transform, dtype=inputFile.dtypes[0], nodata=9.96921e+36) as newImg:\n",
    "        newImg.write(masked, indexes=1)    \n",
    "        newImg.close()"
   ]
  },
  {
   "cell_type": "code",
   "execution_count": null,
   "metadata": {},
   "outputs": [],
   "source": []
  }
 ],
 "metadata": {
  "kernelspec": {
   "display_name": "Python 3",
   "language": "python",
   "name": "python3"
  },
  "language_info": {
   "codemirror_mode": {
    "name": "ipython",
    "version": 3
   },
   "file_extension": ".py",
   "mimetype": "text/x-python",
   "name": "python",
   "nbconvert_exporter": "python",
   "pygments_lexer": "ipython3",
   "version": "3.8.3"
  },
  "toc": {
   "base_numbering": 1,
   "nav_menu": {},
   "number_sections": true,
   "sideBar": true,
   "skip_h1_title": false,
   "title_cell": "Table of Contents",
   "title_sidebar": "Contents",
   "toc_cell": false,
   "toc_position": {},
   "toc_section_display": true,
   "toc_window_display": false
  },
  "varInspector": {
   "cols": {
    "lenName": 16,
    "lenType": 16,
    "lenVar": 40
   },
   "kernels_config": {
    "python": {
     "delete_cmd_postfix": "",
     "delete_cmd_prefix": "del ",
     "library": "var_list.py",
     "varRefreshCmd": "print(var_dic_list())"
    },
    "r": {
     "delete_cmd_postfix": ") ",
     "delete_cmd_prefix": "rm(",
     "library": "var_list.r",
     "varRefreshCmd": "cat(var_dic_list()) "
    }
   },
   "types_to_exclude": [
    "module",
    "function",
    "builtin_function_or_method",
    "instance",
    "_Feature"
   ],
   "window_display": false
  }
 },
 "nbformat": 4,
 "nbformat_minor": 4
}
