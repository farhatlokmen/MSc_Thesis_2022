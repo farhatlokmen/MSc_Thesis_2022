{
 "cells": [
  {
   "cell_type": "code",
   "execution_count": 1,
   "metadata": {
    "ExecuteTime": {
     "end_time": "2021-12-25T10:44:53.939724Z",
     "start_time": "2021-12-25T10:44:51.825722Z"
    }
   },
   "outputs": [],
   "source": [
    "import os\n",
    "import random\n",
    "import numpy as np\n",
    "import pandas as pd\n",
    "import rasterio\n",
    "from rasterio.plot import show\n",
    "import rioxarray as rxr\n",
    "import seaborn as sns\n",
    "import matplotlib.pyplot as plt\n",
    "import matplotlib.colors as colors\n",
    "from joblib import Parallel, delayed\n",
    "from tqdm import tqdm\n",
    "from time import time, strftime, gmtime\n",
    "from sklearn.metrics import mean_absolute_error, mean_squared_error, r2_score\n",
    "from scipy.stats import skew"
   ]
  },
  {
   "cell_type": "code",
   "execution_count": 2,
   "metadata": {
    "ExecuteTime": {
     "end_time": "2021-12-25T10:44:54.075006Z",
     "start_time": "2021-12-25T10:44:54.071017Z"
    }
   },
   "outputs": [],
   "source": [
    "########## Parameters ##########\n",
    "n1 = str(20)              # Define a n° of neighbors # Available options: 8/14/20/24/34/38/44/62/80 # Default: 24\n",
    "t = 0.008               # Lower distance Threshold\n",
    "f = 0.8                 # how much of the training image will be searched (float number between 0 and 1)\n",
    "n2 = 100                 # N° defined sub-groups\n",
    "minNx = 3               # Min n° of neighbors for a selected UP before starting the algorithm"
   ]
  },
  {
   "cell_type": "code",
   "execution_count": 14,
   "metadata": {
    "ExecuteTime": {
     "end_time": "2021-12-24T07:25:37.786442Z",
     "start_time": "2021-12-24T07:25:37.767070Z"
    },
    "scrolled": true
   },
   "outputs": [],
   "source": [
    "inputdir1 = r'G:\\MScThesis\\waterQualityMonitoring\\Data\\GapFilling\\testingPhase_France\\Target_Image\\Step3_ApplyElevMask'\n",
    "file_names = np.array([]).astype('str')\n",
    "for file in os.listdir(inputdir1):\n",
    "    if \"tiff\" in file:\n",
    "        file_names = np.append(file_names, file)\n",
    "        \n",
    "inputdir2 = r'G:\\MScThesis\\waterQualityMonitoring\\Data\\GapFilling\\testingPhase_France\\Training_Images\\Step3_ApplyElevMask'\n",
    "file_names1 = np.array([]).astype('str')\n",
    "for file in os.listdir(inputdir2):\n",
    "    if \"tiff\" in file:\n",
    "        file_names1 = np.append(file_names1, file)"
   ]
  },
  {
   "cell_type": "code",
   "execution_count": 12,
   "metadata": {
    "ExecuteTime": {
     "end_time": "2021-12-24T07:14:04.073246Z",
     "start_time": "2021-12-24T07:14:04.056884Z"
    }
   },
   "outputs": [
    {
     "data": {
      "text/plain": [
       "array(['masked__noModicationresampled_B02_20m_1.tiff',\n",
       "       'masked__noModicationresampled_B03_20m_1.tiff',\n",
       "       'masked__noModicationresampled_B04_20m_1.tiff',\n",
       "       'masked__withModicationresampled_B02_20m_1.tiff',\n",
       "       'masked__withModicationresampled_B03_20m_1.tiff',\n",
       "       'masked__withModicationresampled_B04_20m_1.tiff'], dtype='<U46')"
      ]
     },
     "execution_count": 12,
     "metadata": {},
     "output_type": "execute_result"
    }
   ],
   "source": [
    "file_names"
   ]
  },
  {
   "cell_type": "code",
   "execution_count": 4,
   "metadata": {
    "ExecuteTime": {
     "end_time": "2021-03-05T05:19:22.037037Z",
     "start_time": "2021-03-05T05:19:18.860560Z"
    }
   },
   "outputs": [],
   "source": [
    "########## Read as arrays ##########\n",
    "band = 2              # b2:0/b3:1/b4:2/b5:3/b6:4/b7:5/b8:6/b8a:7\n",
    "targetband = 10        # b2:0/b3:5/b4:10/b5:15/b6:20/b7:25/b8:30/b8a:35\n",
    "c = 4                 # 0 .. 4 (clouded1 .. clouded5)\n",
    "img = rasterio.open(os.path.join(inputdir1, file_names[40+band]))\n",
    "cloudFreeImg = rasterio.open(os.path.join(inputdir1, file_names[40+band])).read(1) \n",
    "targetImg = rasterio.open(os.path.join(inputdir1, file_names[targetband+c])).read(1)\n",
    "my_array1 = rasterio.open(os.path.join(inputdir2, file_names1[0+band])).read(1) # image before target image\n",
    "my_array2 = rasterio.open(os.path.join(inputdir2, file_names1[8+band])).read(1) # image after target image\n",
    "\n",
    "########## Plot Histogram ##########\n",
    "# sns.set(font_scale=1.5, style=\"whitegrid\")                                   # Prettier plotting with seaborn\n",
    "# fig, ax = plt.subplots(figsize=(5, 4))                                         # Set figure size\n",
    "# Img = rxr.open_rasterio(os.path.join(inputdir1, file_names[targetband+c]), masked=True) # Target Image\n",
    "# Img.plot.hist(ax=ax, color=\"green\", bins=50)\n",
    "# ax.set(title=\"Distribution of Reflectance Values\", xlabel='Reflectance', ylabel='Frequency')\n",
    "# plt.show()"
   ]
  },
  {
   "cell_type": "code",
   "execution_count": 46,
   "metadata": {
    "ExecuteTime": {
     "end_time": "2021-12-24T14:25:53.074441Z",
     "start_time": "2021-12-24T14:25:52.642591Z"
    }
   },
   "outputs": [
    {
     "data": {
      "image/png": "[encoded data removed]",
      "text/plain": [
       "<Figure size 432x288 with 1 Axes>"
      ]
     },
     "metadata": {
      "needs_background": "light"
     },
     "output_type": "display_data"
    },
    {
     "data": {
      "text/plain": [
       "<matplotlib.axes._subplots.AxesSubplot at 0x1f1888842b0>"
      ]
     },
     "execution_count": 46,
     "metadata": {},
     "output_type": "execute_result"
    }
   ],
   "source": [
    "levels = [-99, 0, 250, 500, 750, 1000, 1250, 1500, 2000, 4000]\n",
    "clrs = ['black','#7400b8','#6930c3','#5e60ce','#5390d9','#4ea8de','#e85d04','#f48c06', '#faa307', 'white']    \n",
    "cmap, norm = colors.from_levels_and_colors(levels,clrs,extend='max')\n",
    "show(targetImg,cmap=cmap,norm=norm,interpolation='bilinear')"
   ]
  },
  {
   "cell_type": "code",
   "execution_count": null,
   "metadata": {},
   "outputs": [],
   "source": []
  },
  {
   "cell_type": "code",
   "execution_count": null,
   "metadata": {},
   "outputs": [],
   "source": []
  },
  {
   "cell_type": "code",
   "execution_count": 3,
   "metadata": {
    "ExecuteTime": {
     "end_time": "2021-12-25T10:45:03.353443Z",
     "start_time": "2021-12-25T10:45:03.164737Z"
    }
   },
   "outputs": [],
   "source": [
    "inputdir1 = r'G:\\MScThesis\\waterQualityMonitoring\\Data\\TestEffectBinaryMask\\GFresults_BV\\inputData\\targetImg\\step3ElevMask_PreProcessingS2'\n",
    "file_names = np.array([]).astype('str')\n",
    "original_names = np.array([]).astype('str')\n",
    "for file in os.listdir(inputdir1):\n",
    "    if \"tiff\" in file:\n",
    "        if 'original' in file:\n",
    "            original_names = np.append(original_names, file)\n",
    "        else:\n",
    "            file_names = np.append(file_names, file)\n",
    "        \n",
    "inputdir2 = r'G:\\MScThesis\\waterQualityMonitoring\\Data\\TestEffectBinaryMask\\GFresults_BV\\inputData\\trainingImg\\step3ElevMask_PreProcessingS2'\n",
    "file_namesBefore = np.array([]).astype('str')\n",
    "file_namesAfter = np.array([]).astype('str')\n",
    "for file in os.listdir(inputdir2):\n",
    "    if \"tiff\" in file:\n",
    "        if '20190910' in file:\n",
    "            file_namesBefore = np.append(file_namesBefore, file)\n",
    "        else:\n",
    "            file_namesAfter = np.append(file_namesAfter, file)"
   ]
  },
  {
   "cell_type": "code",
   "execution_count": null,
   "metadata": {},
   "outputs": [],
   "source": []
  },
  {
   "cell_type": "code",
   "execution_count": null,
   "metadata": {},
   "outputs": [],
   "source": []
  },
  {
   "cell_type": "code",
   "execution_count": 39,
   "metadata": {
    "ExecuteTime": {
     "end_time": "2021-12-25T15:51:19.925987Z",
     "start_time": "2021-12-25T15:51:17.741791Z"
    }
   },
   "outputs": [],
   "source": [
    "band = 2              # b2:0/b3:1/b4:2\n",
    "\n",
    "img_noM = rasterio.open(os.path.join(inputdir1, original_names[band]))\n",
    "cloudFreeImg_noM = rasterio.open(os.path.join(inputdir1, original_names[band])).read(1)\n",
    "img_wM = rasterio.open(os.path.join(inputdir1, original_names[3+band]))\n",
    "cloudFreeImg_wM = rasterio.open(os.path.join(inputdir1, original_names[3+band])).read(1) \n",
    "\n",
    "targetImg_noM = rasterio.open(os.path.join(inputdir1, file_names[band])).read(1)\n",
    "targetImg_wM = rasterio.open(os.path.join(inputdir1, file_names[band+3])).read(1)\n",
    "\n",
    "my_array1_noM = rasterio.open(os.path.join(inputdir2, file_namesBefore[band])).read(1) # image before target image\n",
    "my_array1_wM = rasterio.open(os.path.join(inputdir2, file_namesBefore[3+band])).read(1) # image before target image\n",
    "\n",
    "my_array2_noM = rasterio.open(os.path.join(inputdir2, file_namesAfter[band])).read(1) \n",
    "my_array2_wM = rasterio.open(os.path.join(inputdir2, file_namesAfter[3+band])).read(1) "
   ]
  },
  {
   "cell_type": "code",
   "execution_count": 40,
   "metadata": {
    "ExecuteTime": {
     "end_time": "2021-12-25T15:51:27.249811Z",
     "start_time": "2021-12-25T15:51:27.245796Z"
    }
   },
   "outputs": [],
   "source": [
    "img = img_wM\n",
    "cloudFreeImg = cloudFreeImg_wM \n",
    "targetImg = targetImg_wM\n",
    "my_array1 = my_array1_wM\n",
    "my_array2 = my_array2_wM"
   ]
  },
  {
   "cell_type": "code",
   "execution_count": null,
   "metadata": {},
   "outputs": [],
   "source": []
  },
  {
   "cell_type": "code",
   "execution_count": null,
   "metadata": {},
   "outputs": [],
   "source": []
  },
  {
   "cell_type": "code",
   "execution_count": 41,
   "metadata": {
    "ExecuteTime": {
     "end_time": "2021-12-25T15:51:36.821748Z",
     "start_time": "2021-12-25T15:51:34.455168Z"
    }
   },
   "outputs": [],
   "source": [
    "def get_coordKP(item, array):    \n",
    "    if array[item[0],item[1]] != -99:\n",
    "        return item\n",
    "########## Get coordUP & Get coordKP & Identify training image to be used ##########\n",
    "coordMP_t0 = np.argwhere(targetImg < 1e+36).tolist()                # MP: Mixed Pixels\n",
    "coord_KP_t0 = Parallel(n_jobs=-1)(delayed(get_coordKP)(coordMP_t0[k],targetImg) for k in range(len(coordMP_t0)))\n",
    "coordKP_t0 = [x for x in coord_KP_t0 if x != None]                  # KP: Known Pixels\n",
    "\n",
    "coordUP = np.argwhere(targetImg == -99).tolist()                    # UP: Unknown Pixels\n",
    "\n",
    "if len(coordKP_t0) >= len(coordUP):\n",
    "    trainingImg = targetImg.copy() \n",
    "    coordKP = coordKP_t0.copy()\n",
    "    used_training_Img = 'target image'\n",
    "else:\n",
    "    coordMP_t3b = np.argwhere(my_array1 < 1e+36).tolist()  # Get indices of known and NaN pixels\n",
    "    coord_KP_t3b = Parallel(n_jobs=-1)(delayed(get_coordKP)(coordMP_t3b[k],my_array1) for k in range(len(coordMP_t3b)))\n",
    "    coordKP_t3b = [x for x in coord_KP_t3b if x != None]\n",
    "    coordMP_t3a = np.argwhere(my_array1 < 1e+36).tolist()  # Get indices of known and NaN pixels\n",
    "    coord_KP_t3a = Parallel(n_jobs=-1)(delayed(get_coordKP)(coordMP_t3a[k],my_array2) for k in range(len(coordMP_t3a)))\n",
    "    coordKP_t3a = [x for x in coord_KP_t3a if x != None]\n",
    "    if len(coordKP_t3b) > len(coordKP_t3a):\n",
    "        trainingImg = my_array1.copy()\n",
    "        coordKP = coordKP_t3b.copy()\n",
    "        used_training_Img = 'before'\n",
    "    else:\n",
    "        trainingImg = my_array2.copy()\n",
    "        coordKP = coordKP_t3a.copy()\n",
    "        used_training_Img = 'after'"
   ]
  },
  {
   "cell_type": "code",
   "execution_count": 42,
   "metadata": {
    "ExecuteTime": {
     "end_time": "2021-12-25T15:51:43.826454Z",
     "start_time": "2021-12-25T15:51:43.810842Z"
    }
   },
   "outputs": [
    {
     "data": {
      "text/plain": [
       "'target image'"
      ]
     },
     "execution_count": 42,
     "metadata": {},
     "output_type": "execute_result"
    }
   ],
   "source": [
    "used_training_Img"
   ]
  },
  {
   "cell_type": "code",
   "execution_count": 43,
   "metadata": {
    "ExecuteTime": {
     "end_time": "2021-12-25T15:51:50.742130Z",
     "start_time": "2021-12-25T15:51:50.710892Z"
    }
   },
   "outputs": [],
   "source": [
    "def find_best_replicate(rowsList_item,colList_item,L1,L2,targetImg,trainingImg,list_boundary_values,groups_KP,list_KP_Values,t,dmax,f):\n",
    "    i = int(rowsList_item)\n",
    "    j = int(colList_item)\n",
    "    lagv = np.array([], dtype=np.int)\n",
    "    lagh = np.array([], dtype=np.int)\n",
    "    Nx = []\n",
    "    ##################################################\n",
    "    ## Identify Nx, lag vectors, and the data event ##\n",
    "    ##################################################\n",
    "    for k1 in L1:\n",
    "        if i+k1>=0 and i+k1<targetImg.shape[0]:             # Make sure we are within array boundaries\n",
    "            for k2 in L2:\n",
    "                if k1 != 0 or k2 != 0:                      # Skip the central point (i,j)\n",
    "                    if j+k2>=0 and j+k2<targetImg.shape[1]: # Make sure we are within array boundaries\n",
    "                        Zx = targetImg[int(i+k1),int(j+k2)]\n",
    "                        if Zx != -99 and Zx < 1e+36:        # need to save only known neihboring values\n",
    "                            lagv = np.append(lagv, k1)\n",
    "                            lagh = np.append(lagh, k2)                    \n",
    "                            Nx = np.append(Nx,Zx)\n",
    "    ##################################################################################\n",
    "    ## Search for replicate'y' that has the smallest d(Nx,Ny) in the training image ##\n",
    "    ##################################################################################\n",
    "    seed1 = 77\n",
    "    ###### narrow down search based on which class pixels of Nx are part of ######\n",
    "    if len(groups_KP) == 1:\n",
    "        n1 = int(len(groups_KP['list0'])*f)                  # n° of elts to be randomly selected\n",
    "        random.seed(seed1)\n",
    "        subset_list_KP = random.sample(groups_KP['list0'], n1)             # get subset based on specified fraction # Random selection without repetition\n",
    "    else:\n",
    "        list_names = []\n",
    "        list_KP = []\n",
    "        for value in Nx:\n",
    "            if value == round(max(list_boundary_values),0):     # round() solved an error attributed to the pc reading 2700.0 as 2699.9999\n",
    "                list_name_temp = 'list'+str(len(groups_KP)-1)\n",
    "            else:\n",
    "                for i in range(len(list_boundary_values)-1): \n",
    "                    if (value>=list_boundary_values[i]) and (value<list_boundary_values[i+1]): # identify the closest 2 boundaries\n",
    "                        list_name_temp = 'list'+str(i)\n",
    "            list_names.append(list_name_temp) \n",
    "\n",
    "        for list_name in list_names:                            # Join all sub-lists that have a pixel in Nx\n",
    "            list_KP += groups_KP[list_name]\n",
    "\n",
    "        n1 = int(len(list_KP)*f)                  # n° of elts to be randomly selected\n",
    "        random.seed(seed1)\n",
    "        subset_list_KP = random.sample(list_KP, n1)             # get subset based on specified fraction # Random selection without repetition\n",
    "\n",
    "    ###### Search for replicate ######\n",
    "    idx = 999999                                            # initial value until replicate is found\n",
    "    idy = 999999 \n",
    "    Zy = 999999 \n",
    "    ned_temp = 999999\n",
    "    ned_final = 999999 \n",
    "    \n",
    "    for item in subset_list_KP:                             # Search for replicate 'y'\n",
    "        Ny = []\n",
    "        for p in range(len(Nx)):\n",
    "            m1 = item[0] + lagv[p]                          # go up or down\n",
    "            m2 = item[1] + lagh[p]                          # go left or right\n",
    "            if (m1>=0) and (m2>=0) and (m1<trainingImg.shape[0]) and (m2<trainingImg.shape[1]): # Make sure we are within array boundaries\n",
    "                if trainingImg[m1,m2] != -99 and trainingImg[m1,m2] < 1e+36:\n",
    "                    Ny = np.append(Ny, trainingImg[m1,m2])  # Get a list of neighboring pixel values while excluding Nan and unknown values\n",
    "\n",
    "        if len(Ny) == len(Nx):                              # Only when Ny and Nx are similar in terms of n° of neighbors, Calculate Normalized Euclidean Distance (NED)\n",
    "            list_temp = []\n",
    "            for o in range(len(Ny)):\n",
    "                list_temp = np.append(list_temp,(Nx[o]-Ny[o])**2)\n",
    "            ned_temp = np.sqrt(sum(list_temp))/dmax\n",
    "\n",
    "            if ned_temp < t:\n",
    "                idx = item[0]\n",
    "                idy = item[1]\n",
    "                ned_final = ned_temp                        # Stop searching if the distance threshold is reached\n",
    "                break\n",
    "            else:\n",
    "                if ned_temp < ned_final:\n",
    "                    idx = item[0]\n",
    "                    idy = item[1]\n",
    "                    ned_final = ned_temp                    # In case the distance threshold is not reached, save the smaller number and continue\n",
    "\n",
    "    if ned_final < 1:                     # If a good match was found (distance between threshold1 and threshold2)                                \n",
    "        Zy = trainingImg[idx,idy] \n",
    "    else:                                  # In case no good match is found OR all known pixels were checked with no replicate to be found (due to not having the same n° of known neighbors: ned_final == 999999)                  \n",
    "        idx = i\n",
    "        idy = j       \n",
    "        ned_final = np.nan\n",
    "        random.seed()\n",
    "        Zy = random.sample(list_KP_Values,1)[0]  \n",
    "     \n",
    "    return Zy"
   ]
  },
  {
   "cell_type": "code",
   "execution_count": 44,
   "metadata": {
    "ExecuteTime": {
     "end_time": "2021-12-25T15:51:58.702279Z",
     "start_time": "2021-12-25T15:51:57.608631Z"
    }
   },
   "outputs": [],
   "source": [
    "def generate_list(offset): \n",
    "    L = list(range(offset+1))\n",
    "    L1 = [-item for item in L if item != 0]\n",
    "    L += L1 \n",
    "    return L\n",
    "\n",
    "def Convert_To_Offsets(x):\n",
    "    return {'8': [1,1],'14':[1,2],'20':[1,3],'24':[2,2],'34':[2,3],'38':[3,3],'44':[2,4],'62':[3,4],'80':[4,4]}.get(x, [2,2])    # 24 is default if x not found\n",
    "\n",
    "def get_known_values(list_item, array):     # Calculate dmax from all known pixels in training image\n",
    "    pixelValue = array[list_item[0],list_item[1]]\n",
    "    return pixelValue\n",
    "\n",
    "offsetV = Convert_To_Offsets(n1)[0]          # offset rows\n",
    "offsetH = Convert_To_Offsets(n1)[1]          # offset cols\n",
    "L1 = generate_list(offsetV)                 # Define all possible movements (forward or backward)\n",
    "L2 = generate_list(offsetH)                 # Define all possible movements (forward or backward)\n",
    "\n",
    "########## calculate dmax ##########\n",
    "list_KP_Values = Parallel(n_jobs=-1)(delayed(get_known_values)(coordKP[x1],trainingImg) for x1 in range(len(coordKP)))\n",
    "Max_value = max(list_KP_Values)\n",
    "Min_value = min(list_KP_Values)\n",
    "dmax = Max_value - Min_value"
   ]
  },
  {
   "cell_type": "code",
   "execution_count": 45,
   "metadata": {
    "ExecuteTime": {
     "end_time": "2021-12-25T15:52:05.762924Z",
     "start_time": "2021-12-25T15:52:05.513007Z"
    }
   },
   "outputs": [],
   "source": [
    "def separate_coord_item(coord_item):\n",
    "    return coord_item[0], coord_item[1]\n",
    "\n",
    "originalCoordUP = np.argwhere(targetImg == -99).tolist()\n",
    "originalNumberUP = len(originalCoordUP)              # UP: unknown pixels\n",
    "if originalNumberUP != 0:\n",
    "    res = Parallel(n_jobs=-1)(delayed(separate_coord_item)(originalCoordUP[k]) for k in range(len(originalCoordUP)))\n",
    "    original_rowIndex, original_colIndex = zip(*res) # unpack results # will be used for accuracy assessment\n",
    "else:\n",
    "    print(\"There is 0 unknown pixels\")"
   ]
  },
  {
   "cell_type": "code",
   "execution_count": 46,
   "metadata": {
    "ExecuteTime": {
     "end_time": "2021-12-25T15:52:53.278337Z",
     "start_time": "2021-12-25T15:52:12.573850Z"
    }
   },
   "outputs": [],
   "source": [
    "########## Divide coordKP into n2 ##########\n",
    "# Determine the values representing the boundaries of each of the n2\n",
    "Range_known_values = dmax/n2\n",
    "boundary_value = Min_value\n",
    "list_boundary_values = [Min_value]\n",
    "for k in range(n2):\n",
    "    boundary_value+=Range_known_values               # divided into equal groups\n",
    "    list_boundary_values = np.append(list_boundary_values, boundary_value)\n",
    "for k in range(n2):\n",
    "    boundary_value+=Range_known_values               \n",
    "    list_boundary_values = np.append(list_boundary_values, boundary_value)\n",
    "if used_training_Img != 'target image': # The training and target Images do not necessarily sharee the same MinMax boundaries\n",
    "    list_KP_Values_t0 = Parallel(n_jobs=-1)(delayed(get_known_values)(coordKP_t0[x1],targetImg) for x1 in range(len(coordKP_t0)))\n",
    "    Max_value_t0 = max(list_KP_Values_t0)\n",
    "    Min_value_t0 = min(list_KP_Values_t0)\n",
    "    if min(list_boundary_values)>Min_value_t0:\n",
    "        list_boundary_values[0]=Min_value_t0\n",
    "    if max(list_boundary_values)<Max_value_t0:\n",
    "        list_boundary_values[-1]=Max_value_t0\n",
    "        \n",
    "# initialize a dictionnary of empty lists to store coord of known pixels corresponding to each N_group\n",
    "list_names=['list'+str(i) for i in range(len(list_boundary_values)-1)]\n",
    "groups_KP = {}\n",
    "for list_name in list_names:\n",
    "    groups_KP[list_name] = []\n",
    "\n",
    "# Fill the lists with corresponding coord of known pixel values\n",
    "for k in range(len(list_KP_Values)):                 # Determine to which group the selected value corresponds to \n",
    "    if list_KP_Values[k] == max(list_boundary_values):\n",
    "        groups_KP['list'+str(n2-1)].append(coordKP[k])\n",
    "    else:\n",
    "        for i in range(len(list_boundary_values)-1): # identify the closest 2 boundaries\n",
    "            if (list_KP_Values[k]>=list_boundary_values[i]) and (list_KP_Values[k]<list_boundary_values[i+1]):\n",
    "                groups_KP['list'+str(i)].append(coordKP[k])"
   ]
  },
  {
   "cell_type": "code",
   "execution_count": 47,
   "metadata": {
    "ExecuteTime": {
     "end_time": "2021-12-25T15:53:00.183927Z",
     "start_time": "2021-12-25T15:53:00.168347Z"
    }
   },
   "outputs": [],
   "source": [
    "def selectUP_minNx(coord_item,array,L1,L2,minNx):# need to adopt the same L1/L2 so that calculating avg(Nx) won't give NaN\n",
    "    i = coord_item[0]\n",
    "    j = coord_item[1]\n",
    "    Nx = []\n",
    "    for k1 in L1:\n",
    "        if i+k1>=0 and i+k1<array.shape[0]:      # Make sure we are within array boundaries\n",
    "            for k2 in L2:\n",
    "                if k1 != 0 or k2 != 0:           # Skip the central point (i,j)\n",
    "                    if j+k2>=0 and j+k2<array.shape[1]: # Make sure we are within array boundaries\n",
    "                        if array[int(i+k1),int(j+k2)] != -99 and array[int(i+k1),int(j+k2)] < 1e+36:\n",
    "                            Nx = np.append(Nx, array[int(i+k1),int(j+k2)])\n",
    "    if len(Nx)>=minNx:\n",
    "        return i,j"
   ]
  },
  {
   "cell_type": "code",
   "execution_count": 48,
   "metadata": {
    "ExecuteTime": {
     "end_time": "2021-12-25T18:43:52.309140Z",
     "start_time": "2021-12-25T15:53:07.041717Z"
    },
    "scrolled": true
   },
   "outputs": [
    {
     "name": "stderr",
     "output_type": "stream",
     "text": [
      "100%|█████████████████████████████████████████████████████████████████████████| 11927/11927 [00:00<00:00, 25735.58it/s]\n",
      "100%|██████████████████████████████████████████████████████████████████████████████| 2475/2475 [50:40<00:00,  1.23s/it]\n",
      "  1%|▉                                                                            | 120/9452 [00:00<00:08, 1061.74it/s]"
     ]
    },
    {
     "name": "stdout",
     "output_type": "stream",
     "text": [
      "% of finished task 20.8 Processing Time so far (min): 00:53:45\n"
     ]
    },
    {
     "name": "stderr",
     "output_type": "stream",
     "text": [
      "100%|███████████████████████████████████████████████████████████████████████████| 9452/9452 [00:00<00:00, 21866.00it/s]\n",
      "100%|██████████████████████████████████████████████████████████████████████████████| 1353/1353 [20:39<00:00,  1.09it/s]\n",
      "  2%|█▋                                                                           | 184/8099 [00:00<00:04, 1626.09it/s]"
     ]
    },
    {
     "name": "stdout",
     "output_type": "stream",
     "text": [
      "% of finished task 32.1 Processing Time so far (min): 01:18:52\n"
     ]
    },
    {
     "name": "stderr",
     "output_type": "stream",
     "text": [
      "100%|███████████████████████████████████████████████████████████████████████████| 8099/8099 [00:00<00:00, 22071.87it/s]\n",
      "100%|████████████████████████████████████████████████████████████████████████████████| 705/705 [17:16<00:00,  1.47s/it]\n",
      "  2%|█▏                                                                           | 120/7394 [00:00<00:06, 1055.37it/s]"
     ]
    },
    {
     "name": "stdout",
     "output_type": "stream",
     "text": [
      "% of finished task 38.0 Processing Time so far (min): 01:39:58\n"
     ]
    },
    {
     "name": "stderr",
     "output_type": "stream",
     "text": [
      "100%|███████████████████████████████████████████████████████████████████████████| 7394/7394 [00:00<00:00, 20238.56it/s]\n",
      "100%|████████████████████████████████████████████████████████████████████████████████| 509/509 [03:13<00:00,  2.63it/s]\n",
      "  3%|█▉                                                                           | 176/6885 [00:00<00:04, 1617.66it/s]"
     ]
    },
    {
     "name": "stdout",
     "output_type": "stream",
     "text": [
      "% of finished task 42.3 Processing Time so far (min): 01:43:46\n"
     ]
    },
    {
     "name": "stderr",
     "output_type": "stream",
     "text": [
      "100%|███████████████████████████████████████████████████████████████████████████| 6885/6885 [00:00<00:00, 20752.23it/s]\n",
      "100%|████████████████████████████████████████████████████████████████████████████████| 510/510 [02:57<00:00,  2.88it/s]\n",
      "  2%|█▍                                                                           | 120/6375 [00:00<00:05, 1102.13it/s]"
     ]
    },
    {
     "name": "stdout",
     "output_type": "stream",
     "text": [
      "% of finished task 46.5 Processing Time so far (min): 01:47:12\n"
     ]
    },
    {
     "name": "stderr",
     "output_type": "stream",
     "text": [
      "100%|███████████████████████████████████████████████████████████████████████████| 6375/6375 [00:00<00:00, 18357.42it/s]\n",
      "100%|████████████████████████████████████████████████████████████████████████████████| 508/508 [02:54<00:00,  2.91it/s]\n",
      "  3%|█▉                                                                           | 149/5867 [00:00<00:04, 1398.61it/s]"
     ]
    },
    {
     "name": "stdout",
     "output_type": "stream",
     "text": [
      "% of finished task 50.8 Processing Time so far (min): 01:50:16\n"
     ]
    },
    {
     "name": "stderr",
     "output_type": "stream",
     "text": [
      "100%|███████████████████████████████████████████████████████████████████████████| 5867/5867 [00:00<00:00, 17920.50it/s]\n",
      "100%|████████████████████████████████████████████████████████████████████████████████| 475/475 [02:56<00:00,  2.68it/s]\n",
      "  3%|██▌                                                                          | 176/5392 [00:00<00:03, 1657.08it/s]"
     ]
    },
    {
     "name": "stdout",
     "output_type": "stream",
     "text": [
      "% of finished task 54.8 Processing Time so far (min): 01:53:23\n"
     ]
    },
    {
     "name": "stderr",
     "output_type": "stream",
     "text": [
      "100%|███████████████████████████████████████████████████████████████████████████| 5392/5392 [00:00<00:00, 18336.36it/s]\n",
      "100%|████████████████████████████████████████████████████████████████████████████████| 442/442 [02:39<00:00,  2.77it/s]\n",
      "  4%|██▋                                                                          | 176/4950 [00:00<00:02, 1655.66it/s]"
     ]
    },
    {
     "name": "stdout",
     "output_type": "stream",
     "text": [
      "% of finished task 58.5 Processing Time so far (min): 01:56:15\n"
     ]
    },
    {
     "name": "stderr",
     "output_type": "stream",
     "text": [
      "100%|███████████████████████████████████████████████████████████████████████████| 4950/4950 [00:00<00:00, 17152.18it/s]\n",
      "100%|████████████████████████████████████████████████████████████████████████████████| 409/409 [02:29<00:00,  2.73it/s]\n",
      "  4%|██▉                                                                          | 176/4541 [00:00<00:02, 1663.81it/s]"
     ]
    },
    {
     "name": "stdout",
     "output_type": "stream",
     "text": [
      "% of finished task 61.9 Processing Time so far (min): 01:58:56\n"
     ]
    },
    {
     "name": "stderr",
     "output_type": "stream",
     "text": [
      "100%|███████████████████████████████████████████████████████████████████████████| 4541/4541 [00:00<00:00, 14664.96it/s]\n",
      "100%|████████████████████████████████████████████████████████████████████████████████| 382/382 [02:11<00:00,  2.91it/s]\n",
      "  4%|███▎                                                                         | 176/4159 [00:00<00:02, 1656.96it/s]"
     ]
    },
    {
     "name": "stdout",
     "output_type": "stream",
     "text": [
      "% of finished task 65.1 Processing Time so far (min): 02:01:48\n"
     ]
    },
    {
     "name": "stderr",
     "output_type": "stream",
     "text": [
      "100%|███████████████████████████████████████████████████████████████████████████| 4159/4159 [00:00<00:00, 12344.79it/s]\n",
      "100%|████████████████████████████████████████████████████████████████████████████████| 379/379 [02:25<00:00,  2.60it/s]\n",
      "  5%|███▌                                                                         | 176/3780 [00:00<00:02, 1661.01it/s]"
     ]
    },
    {
     "name": "stdout",
     "output_type": "stream",
     "text": [
      "% of finished task 68.3 Processing Time so far (min): 02:04:44\n"
     ]
    },
    {
     "name": "stderr",
     "output_type": "stream",
     "text": [
      "100%|███████████████████████████████████████████████████████████████████████████| 3780/3780 [00:00<00:00, 13431.52it/s]\n",
      "100%|████████████████████████████████████████████████████████████████████████████████| 378/378 [02:19<00:00,  2.71it/s]\n",
      "  7%|█████▍                                                                       | 240/3402 [00:00<00:01, 2269.70it/s]"
     ]
    },
    {
     "name": "stdout",
     "output_type": "stream",
     "text": [
      "% of finished task 71.5 Processing Time so far (min): 02:07:41\n"
     ]
    },
    {
     "name": "stderr",
     "output_type": "stream",
     "text": [
      "100%|███████████████████████████████████████████████████████████████████████████| 3402/3402 [00:00<00:00, 12848.72it/s]\n",
      "100%|████████████████████████████████████████████████████████████████████████████████| 377/377 [02:14<00:00,  2.80it/s]\n",
      "  1%|▍                                                                              | 16/3025 [00:00<00:22, 131.61it/s]"
     ]
    },
    {
     "name": "stdout",
     "output_type": "stream",
     "text": [
      "% of finished task 74.6 Processing Time so far (min): 02:10:40\n"
     ]
    },
    {
     "name": "stderr",
     "output_type": "stream",
     "text": [
      "100%|████████████████████████████████████████████████████████████████████████████| 3025/3025 [00:00<00:00, 8388.14it/s]\n",
      "100%|████████████████████████████████████████████████████████████████████████████████| 375/375 [02:14<00:00,  2.78it/s]\n",
      "  4%|███▎                                                                         | 112/2650 [00:00<00:02, 1063.03it/s]"
     ]
    },
    {
     "name": "stdout",
     "output_type": "stream",
     "text": [
      "% of finished task 77.8 Processing Time so far (min): 02:13:15\n"
     ]
    },
    {
     "name": "stderr",
     "output_type": "stream",
     "text": [
      "100%|███████████████████████████████████████████████████████████████████████████| 2650/2650 [00:00<00:00, 10579.16it/s]\n",
      "100%|████████████████████████████████████████████████████████████████████████████████| 365/365 [02:17<00:00,  2.65it/s]\n",
      "  8%|█████▉                                                                       | 176/2285 [00:00<00:01, 1671.49it/s]"
     ]
    },
    {
     "name": "stdout",
     "output_type": "stream",
     "text": [
      "% of finished task 80.8 Processing Time so far (min): 02:15:38\n"
     ]
    },
    {
     "name": "stderr",
     "output_type": "stream",
     "text": [
      "100%|████████████████████████████████████████████████████████████████████████████| 2285/2285 [00:00<00:00, 9192.02it/s]\n",
      "100%|████████████████████████████████████████████████████████████████████████████████| 352/352 [02:06<00:00,  2.79it/s]\n",
      "  6%|████▍                                                                        | 112/1933 [00:00<00:01, 1067.82it/s]"
     ]
    },
    {
     "name": "stdout",
     "output_type": "stream",
     "text": [
      "% of finished task 83.8 Processing Time so far (min): 02:17:50\n"
     ]
    },
    {
     "name": "stderr",
     "output_type": "stream",
     "text": [
      "100%|████████████████████████████████████████████████████████████████████████████| 1933/1933 [00:00<00:00, 7789.40it/s]\n",
      "100%|████████████████████████████████████████████████████████████████████████████████| 339/339 [02:01<00:00,  2.79it/s]\n",
      "  0%|                                                                                         | 0/1594 [00:00<?, ?it/s]"
     ]
    },
    {
     "name": "stdout",
     "output_type": "stream",
     "text": [
      "% of finished task 86.6 Processing Time so far (min): 02:20:11\n"
     ]
    },
    {
     "name": "stderr",
     "output_type": "stream",
     "text": [
      "100%|████████████████████████████████████████████████████████████████████████████| 1594/1594 [00:00<00:00, 4815.14it/s]\n",
      "100%|████████████████████████████████████████████████████████████████████████████████| 337/337 [02:00<00:00,  2.80it/s]\n",
      " 14%|██████████▊                                                                  | 176/1257 [00:00<00:00, 1676.36it/s]"
     ]
    },
    {
     "name": "stdout",
     "output_type": "stream",
     "text": [
      "% of finished task 89.5 Processing Time so far (min): 02:22:25\n"
     ]
    },
    {
     "name": "stderr",
     "output_type": "stream",
     "text": [
      "100%|████████████████████████████████████████████████████████████████████████████| 1257/1257 [00:00<00:00, 6366.72it/s]\n",
      "100%|████████████████████████████████████████████████████████████████████████████████| 335/335 [01:54<00:00,  2.93it/s]\n",
      "100%|██████████████████████████████████████████████████████████████████████████████| 922/922 [00:00<00:00, 5183.62it/s]"
     ]
    },
    {
     "name": "stdout",
     "output_type": "stream",
     "text": [
      "% of finished task 92.3 Processing Time so far (min): 02:25:08\n"
     ]
    },
    {
     "name": "stderr",
     "output_type": "stream",
     "text": [
      "\n",
      "100%|████████████████████████████████████████████████████████████████████████████████| 336/336 [02:03<00:00,  2.71it/s]\n",
      "100%|██████████████████████████████████████████████████████████████████████████████| 586/586 [00:00<00:00, 3573.21it/s]"
     ]
    },
    {
     "name": "stdout",
     "output_type": "stream",
     "text": [
      "% of finished task 95.1 Processing Time so far (min): 02:27:50\n"
     ]
    },
    {
     "name": "stderr",
     "output_type": "stream",
     "text": [
      "\n",
      "100%|████████████████████████████████████████████████████████████████████████████████| 280/280 [02:47<00:00,  1.67it/s]\n",
      "100%|██████████████████████████████████████████████████████████████████████████████| 306/306 [00:00<00:00, 2576.61it/s]"
     ]
    },
    {
     "name": "stdout",
     "output_type": "stream",
     "text": [
      "% of finished task 97.4 Processing Time so far (min): 02:31:03\n"
     ]
    },
    {
     "name": "stderr",
     "output_type": "stream",
     "text": [
      "\n",
      "100%|████████████████████████████████████████████████████████████████████████████████| 190/190 [06:36<00:00,  2.09s/it]\n",
      "100%|██████████████████████████████████████████████████████████████████████████████| 116/116 [00:00<00:00, 1291.99it/s]"
     ]
    },
    {
     "name": "stdout",
     "output_type": "stream",
     "text": [
      "% of finished task 99.0 Processing Time so far (min): 02:39:11\n"
     ]
    },
    {
     "name": "stderr",
     "output_type": "stream",
     "text": [
      "\n",
      "100%|██████████████████████████████████████████████████████████████████████████████████| 91/91 [05:42<00:00,  3.76s/it]\n",
      "100%|█████████████████████████████████████████████████████████████████████████████████| 25/25 [00:00<00:00, 900.78it/s]\n",
      "  0%|                                                                                           | 0/25 [00:00<?, ?it/s]"
     ]
    },
    {
     "name": "stdout",
     "output_type": "stream",
     "text": [
      "% of finished task 99.8 Processing Time so far (min): 02:47:05\n"
     ]
    },
    {
     "name": "stderr",
     "output_type": "stream",
     "text": [
      "100%|██████████████████████████████████████████████████████████████████████████████████| 25/25 [00:22<00:00,  1.09it/s]\n"
     ]
    },
    {
     "name": "stdout",
     "output_type": "stream",
     "text": [
      "% of finished task 100.0 Processing Time so far (min): 02:50:45\n"
     ]
    }
   ],
   "source": [
    "t_temp = 0\n",
    "PercentageDone = 0\n",
    "NumberUP = len(np.argwhere(targetImg == -99).tolist())\n",
    "seed2 = 90\n",
    "while (NumberUP != 0):\n",
    "    ########## Find coord of unknown pixels with at least 3 known neighbors ##########\n",
    "    ts = time()\n",
    "    # Get indice of unknown pixels with at least 3 immediate neighbors (v=1, h=1)\n",
    "    coordUP = np.argwhere(targetImg == -99).tolist() # Get indices of unknown pixels    \n",
    "    res = Parallel(n_jobs=-1)(delayed(selectUP_minNx)(coordUP[k],targetImg,L1,L2,minNx) for k in tqdm(range(len(coordUP))))\n",
    "    selectedUP = [x for x in res if x != None]\n",
    "    if len(selectedUP) != 0:                                     # In case there are UP with the indicated minNx condition\n",
    "        random.seed(seed2)\n",
    "        reorderedUP = random.sample(selectedUP, len(selectedUP)) # need to reorder, so that the predicted value of unknown pixel 'x2' is not hugely affected by the previously 'x1'\n",
    "        rowsList, colList = zip(*reorderedUP)                    # unpack results\n",
    "    else:                                                        # In case there are no UP with  with the indicated minNx condition\n",
    "        if len(coordUP) > 5:\n",
    "            random.seed(seed2)        \n",
    "            selectedUP = random.sample(coordUP, 5)\n",
    "            rowsList, colList = zip(*selectedUP) # unpack results  \n",
    "        else:\n",
    "            random.seed(seed2)        \n",
    "            selectedUP = random.sample(coordUP, 1)\n",
    "            rowsList, colList = zip(*selectedUP) # unpack results \n",
    "    \n",
    "    ########## Search for best replicate using all laptop cores (in the selected sub-group) ##########\n",
    "    results = Parallel(backend='loky',n_jobs=-2,verbose=0)(delayed(find_best_replicate)(rowsList[iteration],colList[iteration],L1,L2,targetImg,trainingImg,list_boundary_values,groups_KP,list_KP_Values,t,dmax,f) for iteration in tqdm(range(len(rowsList))))\n",
    "    \n",
    "    ########## Update Arrays with new simulated values ##########\n",
    "    for item in range(len(rowsList)):\n",
    "        targetImg[int(rowsList[item]),int(colList[item])] = results[item]\n",
    "\n",
    "    if used_training_Img == 'target image':\n",
    "        trainingImg = targetImg.copy()\n",
    "    PercentageDone += round(100*(len(selectedUP)/originalNumberUP),2)\n",
    "    t_temp += (time()-ts)\n",
    "    print('% of finished task',round(PercentageDone,1),'Processing Time so far (min):',strftime(\"%H:%M:%S\", gmtime(t_temp)))\n",
    "    NumberUP = len(np.argwhere(targetImg == -99).tolist())"
   ]
  },
  {
   "cell_type": "markdown",
   "metadata": {},
   "source": [
    "# Assess Performance"
   ]
  },
  {
   "cell_type": "code",
   "execution_count": 49,
   "metadata": {
    "ExecuteTime": {
     "end_time": "2021-12-25T18:44:00.194109Z",
     "start_time": "2021-12-25T18:43:58.913165Z"
    }
   },
   "outputs": [],
   "source": [
    "def get_values(X_item, Y_item, array):                     # The order matters \n",
    "    return array[X_item,Y_item]                            # input variables that will be assigned a default value need to be written at the end\n",
    "\n",
    "actual_values = Parallel(n_jobs=-1)(delayed(get_values)(original_rowIndex[m],original_colIndex[m],cloudFreeImg) for m in range(len(original_rowIndex)))\n",
    "replicate_values = Parallel(n_jobs=-1)(delayed(get_values)(original_rowIndex[m],original_colIndex[m],targetImg) for m in range(len(original_rowIndex)))\n",
    "\n",
    "df1 = pd.DataFrame({'X_idx': original_rowIndex,'X_idy': original_colIndex,'actualValue': actual_values,'replicateValue': replicate_values})\n",
    "df1 = df1.drop(df1[df1[\"actualValue\"]>=1e+36].index)       # Drop any row containing NaN values (the original image contains 1 NaN pixel)\n",
    "df1 = df1.drop(df1[df1[\"replicateValue\"]>=1e+36].index)    # Drop any row containing NaN values (the original image contains 1 NaN pixel)\n",
    "df1.reset_index(drop=True, inplace=True)                   # reset index (necessary after dropping some rows)"
   ]
  },
  {
   "cell_type": "code",
   "execution_count": 50,
   "metadata": {
    "ExecuteTime": {
     "end_time": "2021-12-25T18:44:06.820169Z",
     "start_time": "2021-12-25T18:44:06.804568Z"
    }
   },
   "outputs": [],
   "source": [
    "## https://gist.github.com/bshishov/5dc237f59f019b26145648e2124ca1c9\n",
    "\n",
    "EPSILON = 1e-10\n",
    "\n",
    "def _error(actual: np.ndarray, predicted: np.ndarray):\n",
    "    \"\"\" Simple error \"\"\"\n",
    "    return actual - predicted\n",
    "def _absolute_error(actual: np.ndarray, predicted: np.ndarray):\n",
    "    \"\"\" absolute error \"\"\"\n",
    "    return abs(actual - predicted)\n",
    "def _percentage_error(actual: np.ndarray, predicted: np.ndarray):\n",
    "    \"\"\"\n",
    "    Percentage error\n",
    "    Note: result is NOT multiplied by 100\n",
    "    \"\"\"\n",
    "    return _error(actual, predicted) / (actual + EPSILON)\n",
    "def mse(actual: np.ndarray, predicted: np.ndarray):\n",
    "    \"\"\" Mean Squared Error \"\"\"\n",
    "    return round(np.mean(np.square(_error(actual, predicted))), 3)\n",
    "def rmsle(actual: np.ndarray, predicted: np.ndarray):\n",
    "    \"\"\" Root Mean Squared Logarithmic Error \"\"\"\n",
    "    return round(np.sqrt(mse(np.log10(actual), np.log10(predicted))), 3)\n",
    "def mdape(actual: np.ndarray, predicted: np.ndarray):\n",
    "    \"\"\"\n",
    "    Median Absolute Percentage Error\n",
    "    \"\"\"\n",
    "    return round(np.median(np.abs(_percentage_error(actual, predicted)))*100, 2)\n",
    "def inrse(actual: np.ndarray, predicted: np.ndarray):\n",
    "    \"\"\" Integral Normalized Root Squared Error \"\"\"\n",
    "    return round(np.sqrt(np.sum(np.square(_error(actual, predicted))) / np.sum(np.square(actual - np.mean(actual)))), 3)\n",
    "\n",
    "METRICS = {\n",
    "    'mse': mse,\n",
    "    'rmsle':rmsle,  # less affected by outliers\n",
    "    'mdape': mdape, # less affected by outliers\n",
    "    'inrse': inrse, # not affected by outliers\n",
    "}\n",
    "\n",
    "def evaluate(actual: np.ndarray, predicted: np.ndarray, metrics=('rmsle', 'mdape', 'inrse')):\n",
    "    results = {}\n",
    "    for name in metrics:\n",
    "        try:\n",
    "            results[name] = METRICS[name](actual, predicted)\n",
    "        except Exception as err:\n",
    "            results[name] = np.nan\n",
    "            print('Unable to compute metric {0}: {1}'.format(name, err))\n",
    "    return results\n",
    "\n",
    "def evaluate_all(actual: np.ndarray, predicted: np.ndarray):\n",
    "    return evaluate(actual, predicted, metrics=set(METRICS.keys()))"
   ]
  },
  {
   "cell_type": "code",
   "execution_count": 51,
   "metadata": {
    "ExecuteTime": {
     "end_time": "2021-12-25T18:44:13.537366Z",
     "start_time": "2021-12-25T18:44:13.521740Z"
    }
   },
   "outputs": [],
   "source": [
    "# Use error metrics that do not penalize large differences between actual and predicted\n",
    "errorMetrics = evaluate(df1[\"actualValue\"], df1[\"replicateValue\"], metrics=('rmsle', 'mdape'))"
   ]
  },
  {
   "cell_type": "code",
   "execution_count": 52,
   "metadata": {
    "ExecuteTime": {
     "end_time": "2021-12-25T18:44:20.504441Z",
     "start_time": "2021-12-25T18:44:20.473198Z"
    }
   },
   "outputs": [],
   "source": [
    "AE = _absolute_error(df1[\"actualValue\"], df1[\"replicateValue\"])\n",
    "df2 = pd.DataFrame({'X_idx': original_rowIndex,'X_idy': original_colIndex,'actualValue': df1[\"actualValue\"],'replicateValue':df1[\"replicateValue\"],'absoluteError':AE})\n",
    "df2.sort_values('absoluteError', inplace=True)\n",
    "df2.reset_index(drop=True, inplace=True)\n",
    "# df2"
   ]
  },
  {
   "cell_type": "code",
   "execution_count": 53,
   "metadata": {
    "ExecuteTime": {
     "end_time": "2021-12-25T18:44:27.393532Z",
     "start_time": "2021-12-25T18:44:27.377915Z"
    }
   },
   "outputs": [],
   "source": [
    "# plt.subplots(figsize=(5, 5))                                         # Set figure size\n",
    "# plt.hist(df2[\"absoluteError\"], color=\"green\", bins=50)\n",
    "# plt.title(\"Distribution of Absolute Error Values\")\n",
    "# plt.ylabel('Frequency')\n",
    "# plt.xlabel('Absolute Error')"
   ]
  },
  {
   "cell_type": "code",
   "execution_count": 54,
   "metadata": {
    "ExecuteTime": {
     "end_time": "2021-12-25T18:44:34.048179Z",
     "start_time": "2021-12-25T18:44:34.016905Z"
    }
   },
   "outputs": [
    {
     "data": {
      "text/html": [
       "<div>\n",
       "<style scoped>\n",
       "    .dataframe tbody tr th:only-of-type {\n",
       "        vertical-align: middle;\n",
       "    }\n",
       "\n",
       "    .dataframe tbody tr th {\n",
       "        vertical-align: top;\n",
       "    }\n",
       "\n",
       "    .dataframe thead th {\n",
       "        text-align: right;\n",
       "    }\n",
       "</style>\n",
       "<table border=\"1\" class=\"dataframe\">\n",
       "  <thead>\n",
       "    <tr style=\"text-align: right;\">\n",
       "      <th></th>\n",
       "      <th>rmsle</th>\n",
       "      <th>mdape</th>\n",
       "      <th>maeValues</th>\n",
       "      <th>rmseValues</th>\n",
       "      <th>r2Values</th>\n",
       "    </tr>\n",
       "  </thead>\n",
       "  <tbody>\n",
       "    <tr>\n",
       "      <th>0</th>\n",
       "      <td>0.377</td>\n",
       "      <td>21.43</td>\n",
       "      <td>13.75</td>\n",
       "      <td>20.97</td>\n",
       "      <td>50.81</td>\n",
       "    </tr>\n",
       "  </tbody>\n",
       "</table>\n",
       "</div>"
      ],
      "text/plain": [
       "   rmsle  mdape  maeValues  rmseValues  r2Values\n",
       "0  0.377  21.43      13.75       20.97     50.81"
      ]
     },
     "execution_count": 54,
     "metadata": {},
     "output_type": "execute_result"
    }
   ],
   "source": [
    "# Quantify loss With Error Metrics\n",
    "rmsle = []\n",
    "mdape = []\n",
    "maeValues = []\n",
    "rmseValues = []\n",
    "r2Values = []\n",
    "# n3 = [0.95, 0.97, 1]\n",
    "n3 = [1]\n",
    "for k in n3:    \n",
    "    threshold = int(len(df2)*k)\n",
    "    MAE2 = round(mean_absolute_error(df2[\"actualValue\"][:threshold], df2[\"replicateValue\"][:threshold]),2) # in units of variable # less affected by outliers than rmse\n",
    "    RMSE2 = round(mean_squared_error(df2[\"actualValue\"][:threshold], df2[\"replicateValue\"][:threshold], squared=False),2)\n",
    "    R2_score2 = round(r2_score(df2[\"actualValue\"][:threshold], df2[\"replicateValue\"][:threshold])*100,2)\n",
    "    \n",
    "    rmsle.append(errorMetrics['rmsle'])\n",
    "    mdape.append(errorMetrics['mdape'])\n",
    "    maeValues.append(MAE2)\n",
    "    rmseValues.append(RMSE2)\n",
    "    r2Values.append(R2_score2)\n",
    "    \n",
    "df3 = pd.DataFrame({'rmsle':rmsle,'mdape':mdape,'maeValues':maeValues, 'rmseValues':rmseValues, 'r2Values':r2Values})\n",
    "df3"
   ]
  },
  {
   "cell_type": "code",
   "execution_count": 55,
   "metadata": {
    "ExecuteTime": {
     "end_time": "2021-12-25T18:44:45.226514Z",
     "start_time": "2021-12-25T18:44:40.609143Z"
    }
   },
   "outputs": [
    {
     "data": {
      "text/html": [
       "<div>\n",
       "<style scoped>\n",
       "    .dataframe tbody tr th:only-of-type {\n",
       "        vertical-align: middle;\n",
       "    }\n",
       "\n",
       "    .dataframe tbody tr th {\n",
       "        vertical-align: top;\n",
       "    }\n",
       "\n",
       "    .dataframe thead th {\n",
       "        text-align: right;\n",
       "    }\n",
       "</style>\n",
       "<table border=\"1\" class=\"dataframe\">\n",
       "  <thead>\n",
       "    <tr style=\"text-align: right;\">\n",
       "      <th></th>\n",
       "      <th>array_name</th>\n",
       "      <th>meanReflectance</th>\n",
       "      <th>sdReflectance</th>\n",
       "      <th>skReflectance</th>\n",
       "    </tr>\n",
       "  </thead>\n",
       "  <tbody>\n",
       "    <tr>\n",
       "      <th>0</th>\n",
       "      <td>cloudFreeImg</td>\n",
       "      <td>24.988</td>\n",
       "      <td>30.824</td>\n",
       "      <td>3.886</td>\n",
       "    </tr>\n",
       "    <tr>\n",
       "      <th>1</th>\n",
       "      <td>targetImg</td>\n",
       "      <td>23.944</td>\n",
       "      <td>29.667</td>\n",
       "      <td>4.194</td>\n",
       "    </tr>\n",
       "  </tbody>\n",
       "</table>\n",
       "</div>"
      ],
      "text/plain": [
       "     array_name  meanReflectance  sdReflectance  skReflectance\n",
       "0  cloudFreeImg           24.988         30.824          3.886\n",
       "1     targetImg           23.944         29.667          4.194"
      ]
     },
     "execution_count": 55,
     "metadata": {},
     "output_type": "execute_result"
    }
   ],
   "source": [
    "# Quantify loss With Statistical Metrics\n",
    "\n",
    "def get_coordKP(item, array):    \n",
    "    if array[item[0],item[1]] != -99:\n",
    "        return item\n",
    "def get_known_values(list_item, array):     \n",
    "    pixelValue = array[list_item[0],list_item[1]]\n",
    "    return pixelValue\n",
    "\n",
    "my_arrays = [cloudFreeImg, targetImg]\n",
    "names = ['cloudFreeImg','targetImg']\n",
    "array_name = []\n",
    "meanReflectance = []\n",
    "sdReflectance = []\n",
    "skReflectance = []\n",
    "for i in [0,1]:\n",
    "    my_array = my_arrays[i]\n",
    "    coordMP = np.argwhere(my_array < 1e+36).tolist()                \n",
    "    coord_KP = Parallel(n_jobs=-1)(delayed(get_coordKP)(coordMP[k],my_array) for k in range(len(coordMP)))\n",
    "    coordKP = [x for x in coord_KP if x != None]\n",
    "    list_KP_Values = Parallel(n_jobs=-1)(delayed(get_known_values)(coordKP[x1],my_array) for x1 in range(len(coordKP)))\n",
    "\n",
    "    name = names[i]\n",
    "    M = round(float(np.mean(list_KP_Values)),3)\n",
    "    SD = round(float(np.std(list_KP_Values)),3)\n",
    "    Sk = round(float(skew(list_KP_Values)),3)\n",
    "    \n",
    "    array_name.append(name)\n",
    "    meanReflectance.append(M)\n",
    "    sdReflectance.append(SD)\n",
    "    skReflectance.append(Sk)\n",
    "df4 = pd.DataFrame({'array_name':array_name,'meanReflectance':meanReflectance,'sdReflectance':sdReflectance, 'skReflectance':skReflectance})\n",
    "df4  "
   ]
  },
  {
   "cell_type": "code",
   "execution_count": null,
   "metadata": {},
   "outputs": [],
   "source": [
    "# visualize AE as raster image\n",
    "arrayAE = np.absolute(cloudFreeImg-targetImg)\n",
    "for i in range(cloudFreeImg.shape[0]):\n",
    "    for j in range(cloudFreeImg.shape[1]):\n",
    "        if cloudFreeImg[i,j] > 1e+36:\n",
    "            arrayAE[i,j] = cloudFreeImg[i,j]\n",
    "            \n",
    "maindir = r'G:\\MScThesis\\waterQualityMonitoring\\Data\\GapFilling\\testingPhase_France\\ExperimentOutput'\n",
    "name = 'Band'+str(band)+'___'+'clouded'+str(c)+'___'+'Experiment_'+n1+'_'+str(t)+'_'+str(f)+'_'+str(n2)\n",
    "\n",
    "path = os.path.join(maindir,name)\n",
    "os.makedirs(path, exist_ok=True) # Creates the folder if it does not exist\n",
    "\n",
    "\n",
    "outputdir1 = os.path.join(path, name+'.tiff')\n",
    "with rasterio.open(outputdir1,'w',driver='Gtiff', width=img.width, height=img.height, \n",
    "                    count=1,crs=img.crs,transform=img.transform, dtype='float32', nodata=9.96921e+36) as newImg:\n",
    "    newImg.write(arrayAE,1)\n",
    "    newImg.close()\n",
    "    \n",
    "outputdir2 = os.path.join(path, name+'.xlsx')\n",
    "df2.to_excel(outputdir2, index=False) "
   ]
  },
  {
   "cell_type": "code",
   "execution_count": null,
   "metadata": {},
   "outputs": [],
   "source": []
  }
 ],
 "metadata": {
  "kernelspec": {
   "display_name": "Python 3",
   "language": "python",
   "name": "python3"
  },
  "language_info": {
   "codemirror_mode": {
    "name": "ipython",
    "version": 3
   },
   "file_extension": ".py",
   "mimetype": "text/x-python",
   "name": "python",
   "nbconvert_exporter": "python",
   "pygments_lexer": "ipython3",
   "version": "3.8.3"
  },
  "toc": {
   "base_numbering": 1,
   "nav_menu": {},
   "number_sections": true,
   "sideBar": true,
   "skip_h1_title": false,
   "title_cell": "Table of Contents",
   "title_sidebar": "Contents",
   "toc_cell": false,
   "toc_position": {},
   "toc_section_display": true,
   "toc_window_display": false
  },
  "varInspector": {
   "cols": {
    "lenName": 16,
    "lenType": 16,
    "lenVar": 40
   },
   "kernels_config": {
    "python": {
     "delete_cmd_postfix": "",
     "delete_cmd_prefix": "del ",
     "library": "var_list.py",
     "varRefreshCmd": "print(var_dic_list())"
    },
    "r": {
     "delete_cmd_postfix": ") ",
     "delete_cmd_prefix": "rm(",
     "library": "var_list.r",
     "varRefreshCmd": "cat(var_dic_list()) "
    }
   },
   "types_to_exclude": [
    "module",
    "function",
    "builtin_function_or_method",
    "instance",
    "_Feature"
   ],
   "window_display": false
  }
 },
 "nbformat": 4,
 "nbformat_minor": 4
}
