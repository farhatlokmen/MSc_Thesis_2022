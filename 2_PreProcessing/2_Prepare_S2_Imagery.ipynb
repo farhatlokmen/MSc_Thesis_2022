{
 "cells": [
  {
   "cell_type": "code",
   "execution_count": null,
   "metadata": {},
   "outputs": [],
   "source": [
    "import os\n",
    "import rasterio\n",
    "import numpy as np\n",
    "from osgeo import gdal, gdalconst\n",
    "import pandas as pd\n",
    "from shutil import copy2\n",
    "from tqdm import tqdm"
   ]
  },
  {
   "cell_type": "code",
   "execution_count": null,
   "metadata": {},
   "outputs": [],
   "source": [
    "S2_dir = r'G:\\S2Imagery\\originalS2'\n",
    "S2_B02_dir = os.path.join(S2_dir, '20190121\\S2A_MSIL2A_20190120T103341_N0211_R108_T31TFJ_20190120T131644.SAFE\\GRANULE\\L2A_T31TFJ_A018695_20190120T103339\\IMG_DATA\\R20m')\n",
    "original_B08_dir = r'G:\\S2Imagery\\Step0_ResampleB08\\inputFile'\n",
    "ref_B02file_dir = r'G:\\S2Imagery\\Step0_ResampleB08\\refFile'\n",
    "resampled_B08_dir = r'G:\\S2Imagery\\Step0_ResampleB08\\outputFile'\n",
    "preparedS2_forGF_dir = r'G:\\prepareS2\\Step1_ApplySCLMask\\inputFiles'\n",
    "cloudMaskedS2 = r'G:\\prepareS2\\Step1_ApplySCLMask\\cloudMaskedS2'\n",
    "resampling_cloudMaskedS2_dir = r'G:\\prepareS2\\Step2_AssignCRS_Resample_Clip'\n",
    "bathymetryMask_dir = r'G:\\bathymetry\\binaryMask'\n",
    "landMaskedS2 = r'G:\\prepareS2\\Step3_ApplyElevMask'"
   ]
  },
  {
   "cell_type": "code",
   "execution_count": null,
   "metadata": {},
   "outputs": [],
   "source": [
    "for fileName1 in os.listdir(S2_dir):\n",
    "    subdir1 = os.path.join(S2_dir,fileName1)\n",
    "    for fileName2 in os.listdir(subdir1):\n",
    "        date = fileName2[11:19]\n",
    "        subdir2 = os.path.join(subdir1,fileName2,'GRANULE')\n",
    "        for fileName3 in os.listdir(subdir2):\n",
    "            subdir3 = os.path.join(subdir2,fileName3,'IMG_DATA','R10m')\n",
    "            for fileName4 in os.listdir(subdir3):\n",
    "                if 'B08' in fileName4:\n",
    "                    src1 = os.path.join(subdir3,fileName4)\n",
    "                    copy2(src1, original_B08_dir)\n",
    "B02_file = 'T31TFJ_20190120T103341_B02_20m.jp2'\n",
    "src2 = os.path.join(S2_B02_dir, B02_file)\n",
    "copy2(src2, ref_B02file_dir)\n",
    "reference = gdal.Open(os.path.join(ref_B02file_dir ,B02_file), gdalconst.GA_ReadOnly)\n",
    "referenceProj = reference.GetProjection()\n",
    "referenceTrans = reference.GetGeoTransform()\n",
    "bandreference = reference.GetRasterBand(1)    \n",
    "x = reference.RasterXSize \n",
    "y = reference.RasterYSize    \n",
    "for fileName in os.listdir(original_B08_dir):\n",
    "    inputfile = gdal.Open(os.path.join(original_B08_dir, fileName), gdalconst.GA_ReadOnly)\n",
    "    inputProj = inputfile.GetProjection()\n",
    "    inputTrans = inputfile.GetGeoTransform()    \n",
    "    outputfile = os.path.join(resampled_B08_dir,fileName[:-8]+'_20m'+'.tiff')\n",
    "    driver= gdal.GetDriverByName('GTiff')\n",
    "    output = driver.Create(outputfile,x,y,1,bandreference.DataType)\n",
    "    output.SetGeoTransform(referenceTrans)\n",
    "    output.SetProjection(referenceProj)\n",
    "    gdal.ReprojectImage(inputfile,output,inputProj,referenceProj,gdalconst.GRA_Bilinear) \n",
    "inputfile.FlushCache()\n",
    "inputfile = None\n",
    "del output\n",
    "for fileName in os.listdir(resampled_B08_dir):    \n",
    "    src = os.path.join(resampled_B08_dir,fileName)\n",
    "    dst = os.path.join(preparedS2_forGF_dir,fileName[7:15])\n",
    "    os.makedirs(dst, exist_ok=True) \n",
    "    copy2(src, dst)"
   ]
  },
  {
   "cell_type": "code",
   "execution_count": null,
   "metadata": {},
   "outputs": [],
   "source": [
    "for fileName1 in os.listdir(S2_dir):\n",
    "    subdir1 = os.path.join(S2_dir,fileName1)\n",
    "    for fileName2 in os.listdir(subdir1):\n",
    "        date = fileName2[11:19]\n",
    "        subdir2 = os.path.join(subdir1,fileName2,'GRANULE')\n",
    "        for fileName3 in os.listdir(subdir2):\n",
    "            subdir3 = os.path.join(subdir2,fileName3,'IMG_DATA','R20m')\n",
    "            for fileName4 in os.listdir(subdir3):\n",
    "                if 'B02' in fileName4 or 'B03' in fileName4 or 'B04' in fileName4 or 'B05' in fileName4 or 'B06' in fileName4 or 'B07' in fileName4 or 'B8A' in fileName4 or 'SCL' in fileName4:\n",
    "                    src = os.path.join(subdir3,fileName4)\n",
    "                    dst = os.path.join(preparedS2_forGF_dir,fileName4[7:15])\n",
    "                    os.makedirs(dst, exist_ok=True) \n",
    "                    copy2(src, dst)\n",
    "for i in tqdm(range(len(os.listdir(preparedS2_forGF_dir)))):\n",
    "    fileName1 = os.listdir(preparedS2_forGF_dir)[i]\n",
    "    subdir1 = os.path.join(preparedS2_forGF_dir,fileName1)    \n",
    "    scl = rasterio.open(os.path.join(subdir1,os.listdir(subdir1)[-1])).read() \n",
    "    vals = np.unique(scl).tolist()\n",
    "    other_values = vals.copy()\n",
    "    shadow_cloud_values = [3.0, 8.0, 9.0, 10.0]                               \n",
    "    for item in shadow_cloud_values:\n",
    "        if item in other_values:\n",
    "            other_values.remove(item)                                           \n",
    "    for item in other_values:\n",
    "        scl[scl==item] = 1\n",
    "    for item in shadow_cloud_values:\n",
    "        scl[scl==item] = 0\n",
    "    for fileName2 in os.listdir(subdir1)[:8]:\n",
    "        img = rasterio.open(os.path.join(subdir1, fileName2))\n",
    "        img_arr = img.read() \n",
    "        cloudMask = np.array(scl)\n",
    "        new_img = np.multiply(cloudMask, img_arr).astype(np.float32)\n",
    "        new_img[new_img==0]=-99\n",
    "        subdir2 = os.path.join(cloudMaskedS2,fileName1)\n",
    "        os.makedirs(subdir2, exist_ok=True) \n",
    "        outputdir = os.path.join(subdir2, fileName2[7:30]+'.tiff')\n",
    "        with rasterio.open(outputdir,'w',driver='Gtiff', width=img.width, height=img.height, \n",
    "                      count=1,crs=img.crs,transform=img.transform, dtype=np.float32, nodata=9.96921e+36) as newImg:\n",
    "            newImg.write(new_img)    \n",
    "            newImg.close()"
   ]
  },
  {
   "cell_type": "code",
   "execution_count": null,
   "metadata": {},
   "outputs": [],
   "source": [
    "tur_dir = r'G:\\copernicusTurLayers'\n",
    "tur_file = 'c_gls_LWQ100-turbidity-blended-mean_201902110000_CUSTOM_MSI_V1.3.tiff'\n",
    "reference = gdal.Open(os.path.join(tur_dir, tur_file), gdalconst.GA_ReadOnly)\n",
    "referenceProj = reference.GetProjection()\n",
    "referenceTrans = reference.GetGeoTransform()\n",
    "bandreference = reference.GetRasterBand(1)    \n",
    "x = reference.RasterXSize \n",
    "y = reference.RasterYSize\n",
    "for fileName1 in os.listdir(cloudMaskedS2):\n",
    "    subdir1 = os.path.join(cloudMaskedS2, fileName1)\n",
    "    for fileName2 in os.listdir(subdir1):        \n",
    "        inputfile = gdal.Open(os.path.join(subdir1, fileName2), gdalconst.GA_ReadOnly)    \n",
    "        inputProj = inputfile.GetProjection()\n",
    "        inputTrans = inputfile.GetGeoTransform()\n",
    "        subdir2 = os.path.join(resampling_cloudMaskedS2_dir, fileName1)\n",
    "        os.makedirs(subdir2, exist_ok=True)         \n",
    "        outputfile = os.path.join(subdir2,'resampled_'+fileName2)\n",
    "        driver= gdal.GetDriverByName('GTiff')\n",
    "        output = driver.Create(outputfile,x,y,1,bandreference.DataType)\n",
    "        output.SetGeoTransform(referenceTrans)\n",
    "        output.SetProjection(referenceProj)\n",
    "        gdal.ReprojectImage(inputfile,output,inputProj,referenceProj,gdalconst.GRA_NearestNeighbour) \n",
    "inputfile.FlushCache()\n",
    "inputfile = None  \n",
    "del output"
   ]
  },
  {
   "cell_type": "code",
   "execution_count": null,
   "metadata": {},
   "outputs": [],
   "source": [
    "bathymetryMask_dir = r'G:\\Bathymetry\\binaryMask'\n",
    "mask_img = rasterio.open(os.path.join(bathymetryMask_dir, 'binaryMask.tiff'))\n",
    "mask_arr = mask_img.read(1)\n",
    "names = np.array([]).astype('str')\n",
    "percent = np.array([]).astype('float')\n",
    "for fileName1 in os.listdir(resampling_cloudMaskedS2_dir):\n",
    "    subdir1 = os.path.join(resampling_cloudMaskedS2_dir,fileName1)    \n",
    "    for fileName2 in os.listdir(subdir1):\n",
    "        img = rasterio.open(os.path.join(subdir1, fileName2))\n",
    "        arr = img.read(1)\n",
    "        masked = np.multiply(mask_arr, arr)\n",
    "        allNumPixels = np.sum(masked!=0) \n",
    "        cloudPixels = np.sum(masked==-99)\n",
    "        percentage = np.round(100*(cloudPixels/allNumPixels), 2)\n",
    "        masked[masked==0]=9.96921e+36 \n",
    "        subdir2 = os.path.join(landMaskedS2, fileName1)\n",
    "        os.makedirs(subdir2, exist_ok=True)         \n",
    "        outputdir = os.path.join(subdir2, 'masked_'+fileName2[10:])\n",
    "        with rasterio.open(outputdir,'w',driver='Gtiff', width=img.width, height=img.height, \n",
    "                      count=1,crs=img.crs,transform=img.transform, dtype=np.float32, nodata=9.96921e+36) as newImg:\n",
    "            newImg.write(masked, indexes=1)    \n",
    "            newImg.close()\n",
    "    names = np.append(names, fileName1)\n",
    "    percent = np.append(percent, percentage)\n",
    "df = pd.DataFrame({'Image': names,'Cloud Percentage': percent}) \n",
    "outputdir = os.path.join(landMaskedS2,'summary_cloud_percent.xlsx')\n",
    "df.to_excel(outputdir, index=False)"
   ]
  },
  {
   "cell_type": "code",
   "execution_count": null,
   "metadata": {},
   "outputs": [],
   "source": []
  }
 ],
 "metadata": {
  "kernelspec": {
   "display_name": "Python 3",
   "language": "python",
   "name": "python3"
  },
  "language_info": {
   "codemirror_mode": {
    "name": "ipython",
    "version": 3
   },
   "file_extension": ".py",
   "mimetype": "text/x-python",
   "name": "python",
   "nbconvert_exporter": "python",
   "pygments_lexer": "ipython3",
   "version": "3.8.3"
  },
  "toc": {
   "base_numbering": 1,
   "nav_menu": {},
   "number_sections": true,
   "sideBar": true,
   "skip_h1_title": false,
   "title_cell": "Table of Contents",
   "title_sidebar": "Contents",
   "toc_cell": false,
   "toc_position": {},
   "toc_section_display": true,
   "toc_window_display": false
  },
  "varInspector": {
   "cols": {
    "lenName": 16,
    "lenType": 16,
    "lenVar": 40
   },
   "kernels_config": {
    "python": {
     "delete_cmd_postfix": "",
     "delete_cmd_prefix": "del ",
     "library": "var_list.py",
     "varRefreshCmd": "print(var_dic_list())"
    },
    "r": {
     "delete_cmd_postfix": ") ",
     "delete_cmd_prefix": "rm(",
     "library": "var_list.r",
     "varRefreshCmd": "cat(var_dic_list()) "
    }
   },
   "types_to_exclude": [
    "module",
    "function",
    "builtin_function_or_method",
    "instance",
    "_Feature"
   ],
   "window_display": false
  }
 },
 "nbformat": 4,
 "nbformat_minor": 4
}
