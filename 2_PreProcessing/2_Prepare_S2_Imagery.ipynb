{
 "cells": [
  {
   "cell_type": "code",
   "execution_count": 1,
   "metadata": {
    "ExecuteTime": {
     "end_time": "2022-02-04T07:17:18.150201Z",
     "start_time": "2022-02-04T07:17:17.648139Z"
    }
   },
   "outputs": [],
   "source": [
    "import os\n",
    "import rasterio\n",
    "import numpy as np\n",
    "from osgeo import gdal, gdalconst\n",
    "import pandas as pd\n",
    "from shutil import copy2\n",
    "from tqdm import tqdm"
   ]
  },
  {
   "cell_type": "code",
   "execution_count": 9,
   "metadata": {
    "ExecuteTime": {
     "end_time": "2022-02-04T07:48:28.339301Z",
     "start_time": "2022-02-04T07:48:28.323883Z"
    }
   },
   "outputs": [],
   "source": [
    "S2_dir = r'G:\\Thesis_Code\\Data_Analysis\\2_PreProcessing\\S2Imagery\\originalS2'\n",
    "S2_B02_dir = os.path.join(S2_dir, '20190121\\S2A_MSIL2A_20190120T103341_N0211_R108_T31TFJ_20190120T131644.SAFE\\GRANULE\\L2A_T31TFJ_A018695_20190120T103339\\IMG_DATA\\R20m')\n",
    "original_B08_dir = r'G:\\Thesis_Code\\Data_Analysis\\2_PreProcessing\\S2Imagery\\Step0_ResampleB08\\inputFile'\n",
    "ref_B02file_dir = r'G:\\Thesis_Code\\Data_Analysis\\2_PreProcessing\\S2Imagery\\Step0_ResampleB08\\refFile'\n",
    "resampled_B08_dir = r'G:\\Thesis_Code\\Data_Analysis\\2_PreProcessing\\S2Imagery\\Step0_ResampleB08\\outputFile'\n",
    "preparedS2_forGF_dir = r'G:\\Thesis_Code\\Data_Analysis\\2_PreProcessing\\gapFilling\\prepareS2\\Step1_ApplySCLMask\\inputFiles'\n",
    "cloudMaskedS2 = r'G:\\Thesis_Code\\Data_Analysis\\2_PreProcessing\\gapFilling\\prepareS2\\Step1_ApplySCLMask\\cloudMaskedS2'\n",
    "resampling_cloudMaskedS2_dir = r'G:\\Thesis_Code\\Data_Analysis\\2_PreProcessing\\gapFilling\\prepareS2\\Step2_AssignCRS_Resample_Clip'\n",
    "bathymetryMask_dir = r'G:\\Thesis_Code\\Data_Analysis\\2_PreProcessing\\bathymetry\\binaryMask'\n",
    "landMaskedS2 = r'G:\\Thesis_Code\\Data_Analysis\\2_PreProcessing\\gapFilling\\prepareS2\\Step3_ApplyElevMask'"
   ]
  },
  {
   "cell_type": "code",
   "execution_count": 3,
   "metadata": {
    "ExecuteTime": {
     "end_time": "2022-02-04T06:18:25.946848Z",
     "start_time": "2022-02-04T06:14:52.241004Z"
    }
   },
   "outputs": [],
   "source": [
    "#########################################################################\n",
    "# Resampling B08 (so it shares the same spatial res. as other S2 bands) #\n",
    "#########################################################################\n",
    "\n",
    "# Copy original B08 (10m) files to another directory\n",
    "for fileName1 in os.listdir(S2_dir):\n",
    "    subdir1 = os.path.join(S2_dir,fileName1)\n",
    "    for fileName2 in os.listdir(subdir1):\n",
    "        date = fileName2[11:19]\n",
    "        subdir2 = os.path.join(subdir1,fileName2,'GRANULE')\n",
    "        for fileName3 in os.listdir(subdir2):\n",
    "            subdir3 = os.path.join(subdir2,fileName3,'IMG_DATA','R10m')\n",
    "            for fileName4 in os.listdir(subdir3):\n",
    "                if 'B08' in fileName4:\n",
    "                    src1 = os.path.join(subdir3,fileName4)\n",
    "                    copy2(src1, original_B08_dir)\n",
    "\n",
    "# Copy one original B02 (20m) file to another directory # to be used as reference\n",
    "B02_file = 'T31TFJ_20190120T103341_B02_20m.jp2'\n",
    "src2 = os.path.join(S2_B02_dir, B02_file)\n",
    "copy2(src2, ref_B02file_dir)\n",
    "\n",
    "# Resample B08 from 10m to 20m using a reference B02 image\n",
    "reference = gdal.Open(os.path.join(ref_B02file_dir ,B02_file), gdalconst.GA_ReadOnly)\n",
    "referenceProj = reference.GetProjection()\n",
    "referenceTrans = reference.GetGeoTransform()\n",
    "bandreference = reference.GetRasterBand(1)    \n",
    "x = reference.RasterXSize \n",
    "y = reference.RasterYSize\n",
    "    \n",
    "for fileName in os.listdir(original_B08_dir):\n",
    "    inputfile = gdal.Open(os.path.join(original_B08_dir, fileName), gdalconst.GA_ReadOnly)\n",
    "    inputProj = inputfile.GetProjection()\n",
    "    inputTrans = inputfile.GetGeoTransform()\n",
    "    \n",
    "    outputfile = os.path.join(resampled_B08_dir,fileName[:-8]+'_20m'+'.tiff')\n",
    "    driver= gdal.GetDriverByName('GTiff')\n",
    "    output = driver.Create(outputfile,x,y,1,bandreference.DataType)\n",
    "    output.SetGeoTransform(referenceTrans)\n",
    "    output.SetProjection(referenceProj)\n",
    "    # options: nearest neighbor, bilinear, cubic\n",
    "    gdal.ReprojectImage(inputfile,output,inputProj,referenceProj,gdalconst.GRA_Bilinear) \n",
    "\n",
    "inputfile.FlushCache()\n",
    "inputfile = None\n",
    "del output\n",
    "\n",
    "# Copy resampled B08 files to another directory\n",
    "for fileName in os.listdir(resampled_B08_dir):    \n",
    "    src = os.path.join(resampled_B08_dir,fileName)\n",
    "    dst = os.path.join(preparedS2_forGF_dir,fileName[7:15])\n",
    "    os.makedirs(dst, exist_ok=True) # Creates the folder if it does not exist\n",
    "    copy2(src, dst)"
   ]
  },
  {
   "cell_type": "code",
   "execution_count": 6,
   "metadata": {
    "ExecuteTime": {
     "end_time": "2022-02-04T07:39:04.594856Z",
     "start_time": "2022-02-04T07:19:49.534016Z"
    }
   },
   "outputs": [
    {
     "name": "stderr",
     "output_type": "stream",
     "text": [
      "100%|███████████████████████████████████████████████████████████████████████████████████| 6/6 [18:57<00:00, 189.64s/it]\n"
     ]
    }
   ],
   "source": [
    "################################################\n",
    "# Assign -99 to clouded pixels using SCL files #\n",
    "################################################\n",
    "# Copy original band (20m) files to another directory\n",
    "for fileName1 in os.listdir(S2_dir):\n",
    "    subdir1 = os.path.join(S2_dir,fileName1)\n",
    "    for fileName2 in os.listdir(subdir1):\n",
    "        date = fileName2[11:19]\n",
    "        subdir2 = os.path.join(subdir1,fileName2,'GRANULE')\n",
    "        for fileName3 in os.listdir(subdir2):\n",
    "            subdir3 = os.path.join(subdir2,fileName3,'IMG_DATA','R20m')\n",
    "            for fileName4 in os.listdir(subdir3):\n",
    "                if 'B02' in fileName4 or 'B03' in fileName4 or 'B04' in fileName4 or 'B05' in fileName4 or 'B06' in fileName4 or 'B07' in fileName4 or 'B8A' in fileName4 or 'SCL' in fileName4:\n",
    "                    src = os.path.join(subdir3,fileName4)\n",
    "                    dst = os.path.join(preparedS2_forGF_dir,fileName4[7:15])\n",
    "                    os.makedirs(dst, exist_ok=True) # Creates the folder if it does not exist\n",
    "                    copy2(src, dst)\n",
    "\n",
    "# Assign -99 to clouded pixels\n",
    "for i in tqdm(range(len(os.listdir(preparedS2_forGF_dir)))):\n",
    "    fileName1 = os.listdir(preparedS2_forGF_dir)[i]\n",
    "    subdir1 = os.path.join(preparedS2_forGF_dir,fileName1)\n",
    "    # Transform the SCL layer into a binary mask\n",
    "    scl = rasterio.open(os.path.join(subdir1,os.listdir(subdir1)[-1])).read() # Read the corresponding SCL file\n",
    "    vals = np.unique(scl).tolist()\n",
    "    other_values = vals.copy()\n",
    "    shadow_cloud_values = [3.0, 8.0, 9.0, 10.0]  # List of shadow and cloud values                              \n",
    "    for item in shadow_cloud_values:\n",
    "        if item in other_values:\n",
    "            other_values.remove(item)    # List of values other than shadow and clouds                                          \n",
    "    for item in other_values:\n",
    "        scl[scl==item] = 1\n",
    "    for item in shadow_cloud_values:\n",
    "        scl[scl==item] = 0\n",
    "    # Apply mask on the 8 bands\n",
    "    for fileName2 in os.listdir(subdir1)[:8]:\n",
    "        img = rasterio.open(os.path.join(subdir1, fileName2))\n",
    "        img_arr = img.read() \n",
    "        cloudMask = np.array(scl)\n",
    "        new_img = np.multiply(cloudMask, img_arr).astype(np.float32)\n",
    "        new_img[new_img==0]=-99\n",
    "\n",
    "        subdir2 = os.path.join(cloudMaskedS2,fileName1)\n",
    "        os.makedirs(subdir2, exist_ok=True) # Creates the folder if it does not exist\n",
    "        outputdir = os.path.join(subdir2, fileName2[7:30]+'.tiff')\n",
    "        with rasterio.open(outputdir,'w',driver='Gtiff', width=img.width, height=img.height, \n",
    "                      count=1,crs=img.crs,transform=img.transform, dtype=np.float32, nodata=9.96921e+36) as newImg:\n",
    "            newImg.write(new_img)    \n",
    "            newImg.close()"
   ]
  },
  {
   "cell_type": "code",
   "execution_count": 7,
   "metadata": {
    "ExecuteTime": {
     "end_time": "2022-02-04T07:44:16.460010Z",
     "start_time": "2022-02-04T07:43:50.641498Z"
    }
   },
   "outputs": [],
   "source": [
    "##################################################\n",
    "# Reproject+Resample+Clip cloud masked S2 images #\n",
    "##################################################\n",
    "\n",
    "# Read turbidity file to be used for reprojection\n",
    "tur_dir = r'G:\\Thesis_Code\\Data_Analysis\\2_PreProcessing\\copernicusTurLayers'\n",
    "tur_file = 'c_gls_LWQ100-turbidity-blended-mean_201902110000_CUSTOM_MSI_V1.3.tiff'\n",
    "reference = gdal.Open(os.path.join(tur_dir, tur_file), gdalconst.GA_ReadOnly)\n",
    "referenceProj = reference.GetProjection()\n",
    "referenceTrans = reference.GetGeoTransform()\n",
    "bandreference = reference.GetRasterBand(1)    \n",
    "x = reference.RasterXSize \n",
    "y = reference.RasterYSize\n",
    "\n",
    "# Resample\n",
    "for fileName1 in os.listdir(cloudMaskedS2):\n",
    "    subdir1 = os.path.join(cloudMaskedS2, fileName1)\n",
    "    for fileName2 in os.listdir(subdir1):        \n",
    "        inputfile = gdal.Open(os.path.join(subdir1, fileName2), gdalconst.GA_ReadOnly)    \n",
    "        inputProj = inputfile.GetProjection()\n",
    "        inputTrans = inputfile.GetGeoTransform()\n",
    "\n",
    "        subdir2 = os.path.join(resampling_cloudMaskedS2_dir, fileName1)\n",
    "        os.makedirs(subdir2, exist_ok=True) # Creates the folder if it does not exist\n",
    "        \n",
    "        outputfile = os.path.join(subdir2,'resampled_'+fileName2)\n",
    "        driver= gdal.GetDriverByName('GTiff')\n",
    "        output = driver.Create(outputfile,x,y,1,bandreference.DataType)\n",
    "        output.SetGeoTransform(referenceTrans)\n",
    "        output.SetProjection(referenceProj)\n",
    "        # choose nearest neighbor to avoid averaging with -99\n",
    "        gdal.ReprojectImage(inputfile,output,inputProj,referenceProj,gdalconst.GRA_NearestNeighbour) \n",
    "\n",
    "inputfile.FlushCache()\n",
    "inputfile = None  \n",
    "del output"
   ]
  },
  {
   "cell_type": "code",
   "execution_count": 10,
   "metadata": {
    "ExecuteTime": {
     "end_time": "2022-02-04T07:48:40.397597Z",
     "start_time": "2022-02-04T07:48:34.043743Z"
    }
   },
   "outputs": [],
   "source": [
    "###################\n",
    "# Apply Land Mask #\n",
    "###################\n",
    "\n",
    "bathymetryMask_dir = r'G:\\MScThesis\\waterQualityMonitoring\\Data\\Bathymetry\\France\\binaryMask'\n",
    "mask_img = rasterio.open(os.path.join(bathymetryMask_dir, 'binaryMask_v3.tiff'))\n",
    "mask_arr = mask_img.read(1)\n",
    "\n",
    "names = np.array([]).astype('str')\n",
    "percent = np.array([]).astype('float')\n",
    "for fileName1 in os.listdir(resampling_cloudMaskedS2_dir):\n",
    "    subdir1 = os.path.join(resampling_cloudMaskedS2_dir,fileName1)    \n",
    "    for fileName2 in os.listdir(subdir1):\n",
    "        img = rasterio.open(os.path.join(subdir1, fileName2))\n",
    "        arr = img.read(1)\n",
    "        masked = np.multiply(mask_arr, arr)\n",
    "        # calculate cloud%\n",
    "        allNumPixels = np.sum(masked!=0) # nan values\n",
    "        cloudPixels = np.sum(masked==-99)\n",
    "        percentage = np.round(100*(cloudPixels/allNumPixels), 2)\n",
    "        # Save file\n",
    "        masked[masked==0]=9.96921e+36 # permanent change for nodata values\n",
    "        \n",
    "        subdir2 = os.path.join(landMaskedS2, fileName1)\n",
    "        os.makedirs(subdir2, exist_ok=True) # Creates the folder if it does not exist\n",
    "        \n",
    "        outputdir = os.path.join(subdir2, 'masked_'+fileName2[10:])\n",
    "        with rasterio.open(outputdir,'w',driver='Gtiff', width=img.width, height=img.height, \n",
    "                      count=1,crs=img.crs,transform=img.transform, dtype=np.float32, nodata=9.96921e+36) as newImg:\n",
    "            newImg.write(masked, indexes=1)    \n",
    "            newImg.close()\n",
    "    names = np.append(names, fileName1)\n",
    "    percent = np.append(percent, percentage)\n",
    "# Save percentage file\n",
    "df = pd.DataFrame({'Image': names,'Cloud Percentage': percent}) \n",
    "outputdir = os.path.join(landMaskedS2,'summary_cloud_percent.xlsx')\n",
    "df.to_excel(outputdir, index=False)  "
   ]
  },
  {
   "cell_type": "code",
   "execution_count": null,
   "metadata": {},
   "outputs": [],
   "source": []
  }
 ],
 "metadata": {
  "kernelspec": {
   "display_name": "Python 3",
   "language": "python",
   "name": "python3"
  },
  "language_info": {
   "codemirror_mode": {
    "name": "ipython",
    "version": 3
   },
   "file_extension": ".py",
   "mimetype": "text/x-python",
   "name": "python",
   "nbconvert_exporter": "python",
   "pygments_lexer": "ipython3",
   "version": "3.8.3"
  },
  "toc": {
   "base_numbering": 1,
   "nav_menu": {},
   "number_sections": true,
   "sideBar": true,
   "skip_h1_title": false,
   "title_cell": "Table of Contents",
   "title_sidebar": "Contents",
   "toc_cell": false,
   "toc_position": {},
   "toc_section_display": true,
   "toc_window_display": false
  },
  "varInspector": {
   "cols": {
    "lenName": 16,
    "lenType": 16,
    "lenVar": 40
   },
   "kernels_config": {
    "python": {
     "delete_cmd_postfix": "",
     "delete_cmd_prefix": "del ",
     "library": "var_list.py",
     "varRefreshCmd": "print(var_dic_list())"
    },
    "r": {
     "delete_cmd_postfix": ") ",
     "delete_cmd_prefix": "rm(",
     "library": "var_list.r",
     "varRefreshCmd": "cat(var_dic_list()) "
    }
   },
   "types_to_exclude": [
    "module",
    "function",
    "builtin_function_or_method",
    "instance",
    "_Feature"
   ],
   "window_display": false
  }
 },
 "nbformat": 4,
 "nbformat_minor": 4
}
