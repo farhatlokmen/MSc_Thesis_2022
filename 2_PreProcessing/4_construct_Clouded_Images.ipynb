{
 "cells": [
  {
   "cell_type": "code",
   "execution_count": null,
   "metadata": {},
   "outputs": [],
   "source": [
    "import os\n",
    "import rasterio\n",
    "import numpy as np\n",
    "from osgeo import gdal, gdalconst\n",
    "import pandas as pd\n",
    "from shutil import copy2"
   ]
  },
  {
   "cell_type": "code",
   "execution_count": null,
   "metadata": {},
   "outputs": [],
   "source": [
    "maindir = r'G:\\Step0_ResampleB08'\n",
    "file = 'T31TFJ_20190912T103019_B08_10m.jp2'\n",
    "inputfile = gdal.Open(os.path.join(maindir,'input', file), gdalconst.GA_ReadOnly)\n",
    "inputProj = inputfile.GetProjection()\n",
    "inputTrans = inputfile.GetGeoTransform()\n",
    "reference = gdal.Open(os.path.join(maindir,'refImg' ,'T31TFJ_20190912T103019_B02_20m.jp2'), gdalconst.GA_ReadOnly)\n",
    "referenceProj = reference.GetProjection()\n",
    "referenceTrans = reference.GetGeoTransform()\n",
    "bandreference = reference.GetRasterBand(1)    \n",
    "x = reference.RasterXSize \n",
    "y = reference.RasterYSize\n",
    "outputfile = os.path.join(maindir,'output',file[:-8]+'_20m'+'.tiff')\n",
    "driver= gdal.GetDriverByName('GTiff')\n",
    "output = driver.Create(outputfile,x,y,1,bandreference.DataType)\n",
    "output.SetGeoTransform(referenceTrans)\n",
    "output.SetProjection(referenceProj)\n",
    "gdal.ReprojectImage(inputfile,output,inputProj,referenceProj,gdalconst.GRA_Bilinear) \n",
    "del output"
   ]
  },
  {
   "cell_type": "code",
   "execution_count": null,
   "metadata": {},
   "outputs": [],
   "source": [
    "for file in os.listdir(os.path.join(maindir,'output')):\n",
    "    src = os.path.join(os.path.join(maindir,'output',file))\n",
    "    dst = r'G:\\Step1_ApplySCLMask'\n",
    "    copy2(src, dst)"
   ]
  },
  {
   "cell_type": "code",
   "execution_count": null,
   "metadata": {},
   "outputs": [],
   "source": [
    "maindir = r'G:\\Step1_ApplySCLMask'\n",
    "SCL = ['SCL1', 'SCL2', 'SCL3', 'SCL4', 'SCL5']\n",
    "for file in os.listdir(maindir):\n",
    "    if 'B' in file and '20m' in file:\n",
    "        img = rasterio.open(os.path.join(maindir, file))\n",
    "        img_arr = img.read().astype(np.float32)        \n",
    "        for scl in SCL:\n",
    "            scldir = os.path.join(maindir, scl)\n",
    "            for file1 in os.listdir(scldir):\n",
    "                scl_arr = rasterio.open(os.path.join(scldir, file1)).read()\n",
    "                img_arr = np.append(img_arr, scl_arr, axis=0)               \n",
    "        for i in range(1,len(SCL)+1):\n",
    "            vals = np.unique(img_arr[i]).tolist()\n",
    "            other_values = vals.copy()\n",
    "            shadow_cloud_values = [3.0, 8.0, 9.0, 10.0]                    \n",
    "            for item in shadow_cloud_values:    \n",
    "                other_values.remove(item) \n",
    "            for item in other_values:\n",
    "                img_arr[i][img_arr[i]==item] = 1\n",
    "            for item in shadow_cloud_values:\n",
    "                img_arr[i][img_arr[i]==item] = 0\n",
    "            cloudMask = np.array(img_arr[i])\n",
    "            my_array = np.multiply(cloudMask, img_arr[0])\n",
    "            my_array[my_array==0]=-99\n",
    "            outputdir = os.path.join(maindir, 'output', 'masked'+file[23:30]+'_'+str(i)+'.tiff')\n",
    "            with rasterio.open(outputdir,'w',driver='Gtiff', width=img.width, height=img.height, \n",
    "                          count=1,crs=img.crs,transform=img.transform, dtype=np.float32, nodata=9.96921e+36) as newImg:\n",
    "                newImg.write(my_array, indexes=1)    \n",
    "                newImg.close()"
   ]
  },
  {
   "cell_type": "code",
   "execution_count": null,
   "metadata": {},
   "outputs": [],
   "source": [
    "maindir1 = r'G:\\CopernicusTurbidityLayers'\n",
    "reference = gdal.Open(os.path.join(maindir1, 'c_gls_LWQ100-turbidity-blended-mean_201902110000_CUSTOM_MSI_V1.3.tiff'), gdalconst.GA_ReadOnly)\n",
    "referenceProj = reference.GetProjection()\n",
    "referenceTrans = reference.GetGeoTransform()\n",
    "bandreference = reference.GetRasterBand(1)    \n",
    "x = reference.RasterXSize \n",
    "y = reference.RasterYSize\n",
    "\n",
    "maindir2 = r'G:\\Step1_ApplySCLMask'\n",
    "maindir3 = r'G:\\Step2_AssignCRS_Resample_Clip'\n",
    "for file in os.listdir(maindir2):  \n",
    "    if 'B' in file and '20m':\n",
    "        inputfile = gdal.Open(os.path.join(maindir2, file), gdalconst.GA_ReadOnly)\n",
    "        inputProj = inputfile.GetProjection()\n",
    "        inputTrans = inputfile.GetGeoTransform()        \n",
    "        outputfile = os.path.join(maindir3,'original_'+file[23:26]+'_100m'+'.tiff')\n",
    "        driver= gdal.GetDriverByName('GTiff')\n",
    "        output = driver.Create(outputfile,x,y,1,bandreference.DataType) \n",
    "        output.SetGeoTransform(referenceTrans)\n",
    "        output.SetProjection(referenceProj)\n",
    "        gdal.ReprojectImage(inputfile,output,inputProj,referenceProj,gdalconst.GRA_NearestNeighbour) \n",
    "        del output\n",
    "        inputfile.FlushCache()\n",
    "        inputfile = None"
   ]
  },
  {
   "cell_type": "code",
   "execution_count": null,
   "metadata": {},
   "outputs": [],
   "source": [
    "maindir2 = r'G:\\Step1_ApplySCLMask'\n",
    "maindir3 = r'G:\\Step2_AssignCRS_Resample_Clip'\n",
    "for file in os.listdir(os.path.join(maindir2, 'output')):  \n",
    "    inputfile = gdal.Open(os.path.join(maindir2, 'output',file), gdalconst.GA_ReadOnly)    \n",
    "    inputProj = inputfile.GetProjection()\n",
    "    inputTrans = inputfile.GetGeoTransform()\n",
    "    outputfile = os.path.join(maindir3,'resampled_'+file[6:])\n",
    "    driver= gdal.GetDriverByName('GTiff')\n",
    "    output = driver.Create(outputfile,x,y,1,bandreference.DataType)\n",
    "    output.SetGeoTransform(referenceTrans)\n",
    "    output.SetProjection(referenceProj)\n",
    "    gdal.ReprojectImage(inputfile,output,inputProj,referenceProj,gdalconst.GRA_NearestNeighbour) \n",
    "    del output\n",
    "    inputfile.FlushCache()\n",
    "    inputfile = None    "
   ]
  },
  {
   "cell_type": "code",
   "execution_count": null,
   "metadata": {},
   "outputs": [],
   "source": [
    "maindir1 = r'G:\\Bathymetry\\binaryMask'\n",
    "mask_img = rasterio.open(os.path.join(maindir1, 'binaryMask.tiff'))\n",
    "mask_arr = mask_img.read(1)\n",
    "maindir2 = r'G:\\Step2_AssignCRS_Resample_Clip'\n",
    "maindir3 = r'G:\\Step3_ApplyElevMask'\n",
    "names = np.array([]).astype('str')\n",
    "percent = np.array([]).astype('float')\n",
    "for file in os.listdir(maindir2):\n",
    "    img = rasterio.open(os.path.join(maindir2, file))\n",
    "    arr = img.read(1)\n",
    "    masked = np.multiply(mask_arr, arr)\n",
    "    allNumPixels = np.sum(masked!=0) \n",
    "    cloudPixels = np.sum(masked==-99)\n",
    "    percentage = np.round(100*(cloudPixels/allNumPixels), 2)\n",
    "    names = np.append(names, file[10:19])\n",
    "    percent = np.append(percent, percentage)\n",
    "    masked[masked==0]=9.96921e+36 \n",
    "    if 'original' in file:\n",
    "        outputdir = os.path.join(maindir3, file)\n",
    "    else:\n",
    "        outputdir = os.path.join(maindir3, 'cloudcovered_'+file[10:])\n",
    "    with rasterio.open(outputdir,'w',driver='Gtiff', width=img.width, height=img.height, \n",
    "                  count=1,crs=img.crs,transform=img.transform, dtype=np.float32, nodata=9.96921e+36) as newImg:\n",
    "        newImg.write(masked, indexes=1)    \n",
    "        newImg.close()\n",
    "df = pd.DataFrame({'Image': names,'Cloud Percentage': percent})\n",
    "outputdir = r'G:\\summary_cloud_percent.xlsx'\n",
    "df[8:13].to_excel(outputdir, index=False)"
   ]
  },
  {
   "cell_type": "code",
   "execution_count": null,
   "metadata": {},
   "outputs": [],
   "source": []
  }
 ],
 "metadata": {
  "kernelspec": {
   "display_name": "Python 3",
   "language": "python",
   "name": "python3"
  },
  "language_info": {
   "codemirror_mode": {
    "name": "ipython",
    "version": 3
   },
   "file_extension": ".py",
   "mimetype": "text/x-python",
   "name": "python",
   "nbconvert_exporter": "python",
   "pygments_lexer": "ipython3",
   "version": "3.8.3"
  },
  "toc": {
   "base_numbering": 1,
   "nav_menu": {},
   "number_sections": true,
   "sideBar": true,
   "skip_h1_title": false,
   "title_cell": "Table of Contents",
   "title_sidebar": "Contents",
   "toc_cell": false,
   "toc_position": {},
   "toc_section_display": true,
   "toc_window_display": false
  },
  "varInspector": {
   "cols": {
    "lenName": 16,
    "lenType": 16,
    "lenVar": 40
   },
   "kernels_config": {
    "python": {
     "delete_cmd_postfix": "",
     "delete_cmd_prefix": "del ",
     "library": "var_list.py",
     "varRefreshCmd": "print(var_dic_list())"
    },
    "r": {
     "delete_cmd_postfix": ") ",
     "delete_cmd_prefix": "rm(",
     "library": "var_list.r",
     "varRefreshCmd": "cat(var_dic_list()) "
    }
   },
   "types_to_exclude": [
    "module",
    "function",
    "builtin_function_or_method",
    "instance",
    "_Feature"
   ],
   "window_display": false
  }
 },
 "nbformat": 4,
 "nbformat_minor": 4
}
