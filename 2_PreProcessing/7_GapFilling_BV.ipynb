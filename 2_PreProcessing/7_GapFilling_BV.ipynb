{
 "cells": [
  {
   "cell_type": "code",
   "execution_count": 1,
   "metadata": {
    "ExecuteTime": {
     "end_time": "2021-12-26T12:40:18.272839Z",
     "start_time": "2021-12-26T12:39:51.377164Z"
    }
   },
   "outputs": [],
   "source": [
    "import os\n",
    "import random\n",
    "import numpy as np\n",
    "import pandas as pd\n",
    "import rasterio\n",
    "from rasterio.plot import show\n",
    "import rioxarray as rxr\n",
    "import seaborn as sns\n",
    "import matplotlib.pyplot as plt\n",
    "import matplotlib.colors as colors\n",
    "from joblib import Parallel, delayed\n",
    "from tqdm import tqdm\n",
    "from time import time, strftime, gmtime\n",
    "from sklearn.metrics import mean_absolute_error, mean_squared_error, r2_score\n",
    "from scipy.stats import skew"
   ]
  },
  {
   "cell_type": "code",
   "execution_count": 2,
   "metadata": {
    "ExecuteTime": {
     "end_time": "2021-12-26T12:40:18.442500Z",
     "start_time": "2021-12-26T12:40:18.437500Z"
    }
   },
   "outputs": [],
   "source": [
    "########## Parameters ##########\n",
    "n1 = str(20)              # Define a n° of neighbors # Available options: 8/14/20/24/34/38/44/62/80 # Default: 24\n",
    "t = 0.008               # Lower distance Threshold\n",
    "f = 0.8                 # how much of the training image will be searched (float number between 0 and 1)\n",
    "n2 = 100                  # N° defined sub-groups\n",
    "w1 = 0.5              # sum of w1 & w2 need to be equal to 1\n",
    "w2 = 0.5\n",
    "minNx = 3               # Min n° of neighbors for a selected UP before starting the algorithm"
   ]
  },
  {
   "cell_type": "code",
   "execution_count": 3,
   "metadata": {
    "ExecuteTime": {
     "end_time": "2021-06-15T08:48:06.885562Z",
     "start_time": "2021-06-15T08:48:06.237816Z"
    },
    "scrolled": true
   },
   "outputs": [],
   "source": [
    "inputdir1 = r'G:\\MScThesis\\waterQualityMonitoring\\Data\\GapFilling\\testingPhase_France\\Target_Image\\Step3_ApplyElevMask'\n",
    "file_names = np.array([]).astype('str')\n",
    "for file in os.listdir(inputdir1):\n",
    "    if \"tiff\" in file:\n",
    "        file_names = np.append(file_names, file)\n",
    "        \n",
    "inputdir2 = r'G:\\MScThesis\\waterQualityMonitoring\\Data\\GapFilling\\testingPhase_France\\Training_Images\\Step3_ApplyElevMask'\n",
    "file_names1 = np.array([]).astype('str')\n",
    "for file in os.listdir(inputdir2):\n",
    "    if \"tiff\" in file:\n",
    "        file_names1 = np.append(file_names1, file)"
   ]
  },
  {
   "cell_type": "code",
   "execution_count": 4,
   "metadata": {
    "ExecuteTime": {
     "end_time": "2021-06-15T08:48:07.890812Z",
     "start_time": "2021-06-15T08:48:06.887639Z"
    }
   },
   "outputs": [],
   "source": [
    "########## Read as arrays ##########\n",
    "band = 2              # b2:0/b3:1/b4:2/b5:3/b6:4/b7:5/b8:6/b8a:7\n",
    "targetband = 10        # b2:0/b3:5/b4:10/b5:15/b6:20/b7:25/b8:30/b8a:35\n",
    "c = 4                # 0 .. 4 (clouded1 .. clouded5)\n",
    "img = rasterio.open(os.path.join(inputdir1, file_names[40+band]))\n",
    "cloudFreeImg = rasterio.open(os.path.join(inputdir1, file_names[40+band])).read(1) \n",
    "targetImg = rasterio.open(os.path.join(inputdir1, file_names[targetband+c])).read(1)\n",
    "my_array1 = rasterio.open(os.path.join(inputdir2, file_names1[0+band])).read(1) # image before target image\n",
    "my_array2 = rasterio.open(os.path.join(inputdir2, file_names1[8+band])).read(1) # image after target image\n",
    "\n",
    "########## Plot Histogram ##########\n",
    "# sns.set(font_scale=1.5, style=\"whitegrid\")                                   # Prettier plotting with seaborn\n",
    "# fig, ax = plt.subplots(figsize=(5, 4))                                         # Set figure size\n",
    "# Img = rxr.open_rasterio(os.path.join(inputdir1, file_names[1]), masked=True) # Target Image\n",
    "# Img.plot.hist(ax=ax, color=\"green\", bins=50)\n",
    "# ax.set(title=\"Distribution of Reflectance Values\", xlabel='Reflectance', ylabel='Frequency')\n",
    "# plt.show()"
   ]
  },
  {
   "cell_type": "code",
   "execution_count": 5,
   "metadata": {
    "ExecuteTime": {
     "end_time": "2021-06-15T08:48:08.488421Z",
     "start_time": "2021-06-15T08:48:07.892872Z"
    }
   },
   "outputs": [
    {
     "data": {
      "image/png": "[encoded data removed]",
      "text/plain": [
       "<Figure size 432x288 with 1 Axes>"
      ]
     },
     "metadata": {
      "needs_background": "light"
     },
     "output_type": "display_data"
    },
    {
     "data": {
      "text/plain": [
       "<matplotlib.axes._subplots.AxesSubplot at 0x165a5ce4670>"
      ]
     },
     "execution_count": 5,
     "metadata": {},
     "output_type": "execute_result"
    }
   ],
   "source": [
    "levels = [-99, 0, 250, 500, 750, 1000, 1250, 1500, 2000, 4000]\n",
    "clrs = ['black','#7400b8','#6930c3','#5e60ce','#5390d9','#4ea8de','#e85d04','#f48c06', '#faa307', 'white']    \n",
    "cmap, norm = colors.from_levels_and_colors(levels,clrs,extend='max')\n",
    "show(targetImg,cmap=cmap,norm=norm,interpolation='bilinear')"
   ]
  },
  {
   "cell_type": "code",
   "execution_count": null,
   "metadata": {},
   "outputs": [],
   "source": []
  },
  {
   "cell_type": "code",
   "execution_count": null,
   "metadata": {},
   "outputs": [],
   "source": []
  },
  {
   "cell_type": "code",
   "execution_count": 3,
   "metadata": {
    "ExecuteTime": {
     "end_time": "2021-12-26T12:40:19.058866Z",
     "start_time": "2021-12-26T12:40:18.623006Z"
    }
   },
   "outputs": [],
   "source": [
    "def get_coordKP(item, array):    \n",
    "    if array[item[0],item[1]] != -99:\n",
    "        return item\n",
    "########## Get coordUP & Get coordKP of TargetImg ##########\n",
    "coordMP = np.argwhere(targetImg < 1e+36).tolist()                # MP: Mixed Pixels\n",
    "coord_KP = Parallel(n_jobs=-1)(delayed(get_coordKP)(coordMP[k],targetImg) for k in range(len(coordMP)))\n",
    "coordKP = [x for x in coord_KP if x != None]                  # KP: Known Pixels\n",
    "\n",
    "coordUP = np.argwhere(targetImg == -99).tolist()                    # UP: Unknown Pixels\n",
    "\n",
    "########## Identify auxiliary image to be used ##########\n",
    "coordMP_arr1 = np.argwhere(my_array1 < 1e+36).tolist()  # Get indices of known and NaN pixels\n",
    "coord_KP_arr1 = Parallel(n_jobs=-1)(delayed(get_coordKP)(coordMP_arr1[k],my_array1) for k in range(len(coordMP_arr1)))\n",
    "coordKP_arr1 = [x for x in coord_KP_arr1 if x != None]\n",
    "\n",
    "coordMP_arr2 = np.argwhere(my_array2 < 1e+36).tolist()  # Get indices of known and NaN pixels\n",
    "coord_KP_arr2 = Parallel(n_jobs=-1)(delayed(get_coordKP)(coordMP_arr2[k],my_array2) for k in range(len(coordMP_arr2)))\n",
    "coordKP_arr2 = [x for x in coord_KP_arr2 if x != None]\n",
    "\n",
    "if len(coordKP_arr1) > len(coordKP_arr2): # change between arr1 / arr2 / arr3\n",
    "    auxImg = my_array1.copy()\n",
    "    used_aux_Img = 'before'\n",
    "else:\n",
    "    auxImg = my_array2.copy()\n",
    "    used_aux_Img = 'after'"
   ]
  },
  {
   "cell_type": "code",
   "execution_count": 94,
   "metadata": {
    "ExecuteTime": {
     "end_time": "2021-12-28T10:28:47.143472Z",
     "start_time": "2021-12-28T10:28:47.121094Z"
    }
   },
   "outputs": [
    {
     "data": {
      "text/plain": [
       "'after'"
      ]
     },
     "execution_count": 94,
     "metadata": {},
     "output_type": "execute_result"
    }
   ],
   "source": [
    "used_aux_Img"
   ]
  },
  {
   "cell_type": "code",
   "execution_count": 26,
   "metadata": {
    "ExecuteTime": {
     "end_time": "2021-12-26T17:39:35.510753Z",
     "start_time": "2021-12-26T17:39:35.491660Z"
    }
   },
   "outputs": [
    {
     "ename": "NameError",
     "evalue": "name 'cmap' is not defined",
     "output_type": "error",
     "traceback": [
      "\u001b[1;31m---------------------------------------------------------------------------\u001b[0m",
      "\u001b[1;31mNameError\u001b[0m                                 Traceback (most recent call last)",
      "\u001b[1;32m<ipython-input-26-6f1600c2a035>\u001b[0m in \u001b[0;36m<module>\u001b[1;34m\u001b[0m\n\u001b[1;32m----> 1\u001b[1;33m \u001b[0mshow\u001b[0m\u001b[1;33m(\u001b[0m\u001b[0mauxImg\u001b[0m\u001b[1;33m,\u001b[0m\u001b[0mcmap\u001b[0m\u001b[1;33m=\u001b[0m\u001b[0mcmap\u001b[0m\u001b[1;33m,\u001b[0m\u001b[0mnorm\u001b[0m\u001b[1;33m=\u001b[0m\u001b[0mnorm\u001b[0m\u001b[1;33m,\u001b[0m\u001b[0minterpolation\u001b[0m\u001b[1;33m=\u001b[0m\u001b[1;34m'bilinear'\u001b[0m\u001b[1;33m)\u001b[0m\u001b[1;33m\u001b[0m\u001b[1;33m\u001b[0m\u001b[0m\n\u001b[0m",
      "\u001b[1;31mNameError\u001b[0m: name 'cmap' is not defined"
     ]
    }
   ],
   "source": [
    "show(auxImg,cmap=cmap,norm=norm,interpolation='bilinear')"
   ]
  },
  {
   "cell_type": "code",
   "execution_count": 95,
   "metadata": {
    "ExecuteTime": {
     "end_time": "2021-12-28T10:29:04.439197Z",
     "start_time": "2021-12-28T10:29:04.405263Z"
    }
   },
   "outputs": [],
   "source": [
    "def find_best_replicate(rowsList_item,colList_item,L1,L2,targetImg,auxImg,list_boundary_values,groups_KP,list_KP_Values1,t,w1,w2,dmax1,dmax2,f):\n",
    "    i = int(rowsList_item)\n",
    "    j = int(colList_item)\n",
    "    lagv1 = np.array([], dtype=np.int)\n",
    "    lagh1 = np.array([], dtype=np.int)\n",
    "    Nx1 = []\n",
    "    lagv2 = np.array([], dtype=np.int)\n",
    "    lagh2 = np.array([], dtype=np.int)\n",
    "    Nx2 = []\n",
    "    ##################################################\n",
    "    ## Identify Nx, lag vectors, and the data event ##\n",
    "    ##################################################\n",
    "    for k1 in L1:\n",
    "        if i+k1>=0 and i+k1<targetImg.shape[0]: # Make sure we are within array boundaries\n",
    "            for k2 in L2:\n",
    "                if k1 != 0 or k2 != 0: # Skip the central point (i,j)\n",
    "                    if j+k2>=0 and j+k2<targetImg.shape[1]: # Make sure we are within array boundaries\n",
    "                        Zx1 = targetImg[int(i+k1),int(j+k2)]  # Get pixelValue from training Image                   \n",
    "                        if Zx1 != -99 and Zx1 < 1e+36: # need to save only known neihboring values\n",
    "                            lagv1 = np.append(lagv1, k1)\n",
    "                            lagh1 = np.append(lagh1, k2)                    \n",
    "                            Nx1 = np.append(Nx1,Zx1)\n",
    "    for k1 in L1:\n",
    "        if i+k1>=0 and i+k1<auxImg.shape[0]: # Make sure we are within array boundaries\n",
    "            for k2 in L2: # Don't skip central point\n",
    "                if j+k2>=0 and j+k2<auxImg.shape[1]: # Make sure we are within array boundaries\n",
    "                    Zx2 = auxImg[int(i+k1),int(j+k2)] # Get pixelValue from auxiliary Image               \n",
    "                    if Zx2 != -99 and Zx2 < 1e+36: # need to save only known neihboring values\n",
    "                        lagv2 = np.append(lagv2, k1)\n",
    "                        lagh2 = np.append(lagh2, k2)                    \n",
    "                        Nx2 = np.append(Nx2,Zx2)\n",
    "    ##################################################################################\n",
    "    ## Search for replicate'y' that has the smallest d(Nx,Ny) in the training image ##\n",
    "    ##################################################################################\n",
    "    seed1 = 50\n",
    "    ###### narrow down search based on which class pixels of Nx are part of ######\n",
    "    if len(groups_KP) == 1:\n",
    "        n1 = int(len(groups_KP['list0'])*f)                  # n° of elts to be randomly selected\n",
    "        random.seed(seed1)\n",
    "        subset_list_KP = random.sample(groups_KP['list0'], n1)             # get subset based on specified fraction # Random selection without repetition\n",
    "    else:\n",
    "        list_names = []\n",
    "        list_KP = []\n",
    "        for value in Nx1:\n",
    "            if value == round(max(list_boundary_values),0):     # round() solved an error attributed to the pc reading 2700.0 as 2699.9999\n",
    "                list_name_temp = 'list'+str(len(groups_KP)-1)\n",
    "            else:\n",
    "                for i in range(len(list_boundary_values)-1): \n",
    "                    if (value>=list_boundary_values[i]) and (value<list_boundary_values[i+1]): # identify the closest 2 boundaries\n",
    "                        list_name_temp = 'list'+str(i)\n",
    "            list_names.append(list_name_temp) \n",
    "\n",
    "        for list_name in list_names:                            # Join all sub-lists that have a pixel in Nx\n",
    "            list_KP += groups_KP[list_name]\n",
    "\n",
    "        n1 = int(len(list_KP)*f)                  # n° of elts to be randomly selected\n",
    "        random.seed(seed1)\n",
    "        subset_list_KP = random.sample(list_KP, n1)             # get subset based on specified fraction # Random selection without repetition\n",
    "\n",
    "    ###### Search for replicate ######\n",
    "    idx = 999999                                            # initial value until replicate is found\n",
    "    idy = 999999 \n",
    "    Zy = 999999 \n",
    "    ned_temp = 999999\n",
    "    ned_final = 999999 \n",
    "    \n",
    "    for item in subset_list_KP: # Search for replicate 'y'\n",
    "        Ny1 = []\n",
    "        Ny2 = []\n",
    "        for p in range(len(Nx1)):\n",
    "            m1 = item[0] + lagv1[p] # go up or down\n",
    "            m2 = item[1] + lagh1[p] # go left or right\n",
    "            if (m1>=0) and (m2>=0) and (m1<targetImg.shape[0]) and (m2<targetImg.shape[1]): # Make sure we are within array boundaries\n",
    "                if targetImg[m1,m2] != -99 and targetImg[m1,m2] != 9.96921e+36:\n",
    "                    Ny1 = np.append(Ny1, targetImg[m1,m2]) # Get a list of neighboring pixel values while excluding Nan and unknown values\n",
    "        for p in range(len(Nx2)):\n",
    "            m1 = item[0] + lagv2[p] # go up or down\n",
    "            m2 = item[1] + lagh2[p] # go left or right\n",
    "            if (m1>=0) and (m2>=0) and (m1<auxImg.shape[0]) and (m2<auxImg.shape[1]): # Make sure we are within array boundaries\n",
    "                if auxImg[m1,m2] != -99 and auxImg[m1,m2] != 9.96921e+36:\n",
    "                    Ny2 = np.append(Ny2, auxImg[m1,m2]) # Get a list of neighboring pixel values while excluding Nan and unknown values\n",
    "\n",
    "        if (len(Ny1) == len(Nx1)) and (len(Ny2) == len(Nx2)): # Calculate NED\n",
    "            list_temp1 = []\n",
    "            for o in range(len(Ny1)):\n",
    "                list_temp1 = np.append(list_temp1,(Nx1[o]-Ny1[o])**2)\n",
    "            list_temp2 = []\n",
    "            for o in range(len(Ny2)):\n",
    "                list_temp2 = np.append(list_temp2,(Nx2[o]-Ny2[o])**2)\n",
    "\n",
    "            ned_temp = w1*(np.sqrt(sum(list_temp1))/dmax1)+w2*(np.sqrt(sum(list_temp2))/dmax2) # sum of weights should be 1 # weights reflect importance\n",
    "\n",
    "            if ned_temp < t:\n",
    "                idx = item[0]\n",
    "                idy = item[1]\n",
    "                ned_final = ned_temp # Stop searching if the distance threshold is reached\n",
    "                break\n",
    "            else:\n",
    "                if ned_temp < ned_final:\n",
    "                    idx = item[0]\n",
    "                    idy = item[1]\n",
    "                    ned_final = ned_temp # In case the distance threshold is not reached, save the smaller number and continue\n",
    "    \n",
    "    if ned_final < 1:                     # If a good match was found (distance between threshold1 and threshold2)                                \n",
    "        Zy = targetImg[idx,idy] \n",
    "    else:                                  # In case no good match is found OR all known pixels were checked with no replicate to be found (due to not having the same n° of known neighbors: ned_final == 999999)                  \n",
    "        idx = i\n",
    "        idy = j       \n",
    "        ned_final = np.nan\n",
    "        random.seed()\n",
    "        Zy = random.sample(list_KP_Values1,1)[0]  \n",
    "    \n",
    "    return Zy"
   ]
  },
  {
   "cell_type": "code",
   "execution_count": 96,
   "metadata": {
    "ExecuteTime": {
     "end_time": "2021-12-28T10:29:52.441860Z",
     "start_time": "2021-12-28T10:29:21.312380Z"
    }
   },
   "outputs": [],
   "source": [
    "def generate_list(offset): \n",
    "    L = list(range(offset+1))\n",
    "    L1 = [-item for item in L if item != 0]\n",
    "    L += L1 \n",
    "    return L\n",
    "def Convert_To_Offsets(x):\n",
    "    return {'8': [1,1],'14':[1,2],'20':[1,3],'24':[2,2],'34':[2,3],'38':[3,3],'44':[2,4],'62':[3,4],'80':[4,4]}.get(x, [2,2])    # 24 is default if x not found\n",
    "\n",
    "def get_known_values(list_item, array):     # Calculate dmax from all known pixels in training image\n",
    "    pixelValue = array[list_item[0],list_item[1]]\n",
    "    return pixelValue\n",
    "\n",
    "offsetV = Convert_To_Offsets(n1)[0]          # offset rows\n",
    "offsetH = Convert_To_Offsets(n1)[1]          # offset cols\n",
    "L1 = generate_list(offsetV)                 # Define all possible movements (forward or backward)\n",
    "L2 = generate_list(offsetH)                 # Define all possible movements (forward or backward)\n",
    "\n",
    "########## calculate dmax ##########\n",
    "list_KP_Values1 = Parallel(n_jobs=-1)(delayed(get_known_values)(coordKP[x1],targetImg) for x1 in range(len(coordKP)))\n",
    "Max_value1 = max(list_KP_Values1)\n",
    "Min_value1 = min(list_KP_Values1)\n",
    "dmax1 = Max_value1 - Min_value1\n",
    "list_KP_Values2 = Parallel(n_jobs=-1)(delayed(get_known_values)(coordKP[x1],auxImg) for x1 in range(len(coordKP))) # The central point will be taken from the targetImg >> need to use the same coorKP of targetImg on auxImg\n",
    "Max_value2 = max(list_KP_Values2)\n",
    "Min_value2 = min(list_KP_Values2)\n",
    "dmax2 = Max_value2 - Min_value2"
   ]
  },
  {
   "cell_type": "code",
   "execution_count": 97,
   "metadata": {
    "ExecuteTime": {
     "end_time": "2021-12-28T10:30:09.451665Z",
     "start_time": "2021-12-28T10:30:09.171086Z"
    }
   },
   "outputs": [],
   "source": [
    "def separate_coord_item(coord_item):\n",
    "    return coord_item[0], coord_item[1]\n",
    "\n",
    "originalCoordUP = np.argwhere(targetImg == -99).tolist()\n",
    "originalNumberUP = len(originalCoordUP)              # UP: unknown pixels\n",
    "if originalNumberUP != 0:\n",
    "    res = Parallel(n_jobs=-1)(delayed(separate_coord_item)(originalCoordUP[k]) for k in range(len(originalCoordUP)))\n",
    "    original_rowIndex, original_colIndex = zip(*res) # unpack results # will be used for accuracy assessment\n",
    "else:\n",
    "    print(\"There is 0 unknown pixels\")"
   ]
  },
  {
   "cell_type": "code",
   "execution_count": 98,
   "metadata": {
    "ExecuteTime": {
     "end_time": "2021-12-28T10:30:52.164098Z",
     "start_time": "2021-12-28T10:30:26.862565Z"
    }
   },
   "outputs": [],
   "source": [
    "########## Divide coordKP into n2 ##########\n",
    "# Determine the values representing the boundaries of each of the n2\n",
    "Range_known_values = dmax1/n2\n",
    "boundary_value = Min_value1\n",
    "list_boundary_values = [Min_value1]\n",
    "for k in range(n2):\n",
    "    boundary_value+=Range_known_values               # divided into equal groups\n",
    "    list_boundary_values = np.append(list_boundary_values, boundary_value)\n",
    "\n",
    "# initialize a dictionnary of empty lists to store coord of known pixels corresponding to each N_group\n",
    "list_names=['list'+str(i) for i in range(len(list_boundary_values)-1)]\n",
    "groups_KP = {}\n",
    "for list_name in list_names:\n",
    "    groups_KP[list_name] = []\n",
    "\n",
    "# Fill the lists with corresponding coord of known pixel values\n",
    "for k in range(len(list_KP_Values1)):                 # Determine to which group the selected value corresponds to \n",
    "    if list_KP_Values1[k] == max(list_boundary_values):\n",
    "        groups_KP['list'+str(n2-1)].append(coordKP[k])\n",
    "    else:\n",
    "        for i in range(len(list_boundary_values)-1): # identify the closest 2 boundaries\n",
    "            if (list_KP_Values1[k]>=list_boundary_values[i]) and (list_KP_Values1[k]<list_boundary_values[i+1]):\n",
    "                groups_KP['list'+str(i)].append(coordKP[k])"
   ]
  },
  {
   "cell_type": "code",
   "execution_count": 99,
   "metadata": {
    "ExecuteTime": {
     "end_time": "2021-12-28T10:31:08.797458Z",
     "start_time": "2021-12-28T10:31:08.785222Z"
    }
   },
   "outputs": [],
   "source": [
    "def selectUP_minNx(coord_item,array,L1,L2,minNx):# need to adopt the same L1/L2 so that calculating avg(Nx) won't give NaN\n",
    "    i = coord_item[0]\n",
    "    j = coord_item[1]\n",
    "    Nx = []\n",
    "    for k1 in L1:\n",
    "        if i+k1>=0 and i+k1<array.shape[0]:      # Make sure we are within array boundaries\n",
    "            for k2 in L2:\n",
    "                if k1 != 0 or k2 != 0:           # Skip the central point (i,j)\n",
    "                    if j+k2>=0 and j+k2<array.shape[1]: # Make sure we are within array boundaries\n",
    "                        if array[int(i+k1),int(j+k2)] != -99 and array[int(i+k1),int(j+k2)] < 1e+36:\n",
    "                            Nx = np.append(Nx, array[int(i+k1),int(j+k2)])\n",
    "    if len(Nx)>=minNx:\n",
    "        return i,j"
   ]
  },
  {
   "cell_type": "code",
   "execution_count": 100,
   "metadata": {
    "ExecuteTime": {
     "end_time": "2021-12-28T14:53:35.549826Z",
     "start_time": "2021-12-28T10:31:25.552685Z"
    },
    "scrolled": true
   },
   "outputs": [
    {
     "name": "stderr",
     "output_type": "stream",
     "text": [
      "100%|█████████████████████████████████████████████████████████████████████████| 17725/17725 [00:00<00:00, 23913.17it/s]\n",
      "100%|████████████████████████████████████████████████████████████████████████████| 4772/4772 [1:49:59<00:00,  1.38s/it]\n",
      "  3%|██▏                                                                         | 368/12953 [00:00<00:03, 3596.69it/s]"
     ]
    },
    {
     "name": "stdout",
     "output_type": "stream",
     "text": [
      "% of finished task 26.9 Processing Time so far (min): 01:52:29\n"
     ]
    },
    {
     "name": "stderr",
     "output_type": "stream",
     "text": [
      "100%|█████████████████████████████████████████████████████████████████████████| 12953/12953 [00:00<00:00, 32119.73it/s]\n",
      "100%|██████████████████████████████████████████████████████████████████████████████| 2484/2484 [36:58<00:00,  1.12it/s]\n",
      "  2%|█▋                                                                          | 240/10469 [00:00<00:04, 2381.65it/s]"
     ]
    },
    {
     "name": "stdout",
     "output_type": "stream",
     "text": [
      "% of finished task 40.9 Processing Time so far (min): 02:32:49\n"
     ]
    },
    {
     "name": "stderr",
     "output_type": "stream",
     "text": [
      "100%|█████████████████████████████████████████████████████████████████████████| 10469/10469 [00:00<00:00, 27197.06it/s]\n",
      "100%|██████████████████████████████████████████████████████████████████████████████| 1418/1418 [27:34<00:00,  1.17s/it]\n",
      "  3%|██                                                                           | 240/9051 [00:00<00:04, 2174.55it/s]"
     ]
    },
    {
     "name": "stdout",
     "output_type": "stream",
     "text": [
      "% of finished task 48.9 Processing Time so far (min): 03:04:07\n"
     ]
    },
    {
     "name": "stderr",
     "output_type": "stream",
     "text": [
      "100%|███████████████████████████████████████████████████████████████████████████| 9051/9051 [00:00<00:00, 24293.50it/s]\n",
      "100%|██████████████████████████████████████████████████████████████████████████████| 1002/1002 [10:15<00:00,  1.63it/s]\n",
      "  5%|███▌                                                                         | 368/8049 [00:00<00:02, 3370.99it/s]"
     ]
    },
    {
     "name": "stdout",
     "output_type": "stream",
     "text": [
      "% of finished task 54.6 Processing Time so far (min): 03:15:08\n"
     ]
    },
    {
     "name": "stderr",
     "output_type": "stream",
     "text": [
      "100%|███████████████████████████████████████████████████████████████████████████| 8049/8049 [00:00<00:00, 25704.18it/s]\n",
      "100%|████████████████████████████████████████████████████████████████████████████████| 877/877 [11:29<00:00,  1.27it/s]\n",
      "  3%|██▌                                                                          | 240/7172 [00:00<00:03, 2135.08it/s]"
     ]
    },
    {
     "name": "stdout",
     "output_type": "stream",
     "text": [
      "% of finished task 59.5 Processing Time so far (min): 03:27:50\n"
     ]
    },
    {
     "name": "stderr",
     "output_type": "stream",
     "text": [
      "100%|███████████████████████████████████████████████████████████████████████████| 7172/7172 [00:00<00:00, 22231.43it/s]\n",
      "100%|████████████████████████████████████████████████████████████████████████████████| 814/814 [05:46<00:00,  2.35it/s]\n",
      "  4%|██▉                                                                          | 240/6358 [00:00<00:02, 2178.02it/s]"
     ]
    },
    {
     "name": "stdout",
     "output_type": "stream",
     "text": [
      "% of finished task 64.1 Processing Time so far (min): 03:34:58\n"
     ]
    },
    {
     "name": "stderr",
     "output_type": "stream",
     "text": [
      "100%|███████████████████████████████████████████████████████████████████████████| 6358/6358 [00:00<00:00, 20879.50it/s]\n",
      "100%|████████████████████████████████████████████████████████████████████████████████| 739/739 [05:23<00:00,  2.29it/s]\n",
      "  7%|█████                                                                        | 368/5619 [00:00<00:01, 3215.59it/s]"
     ]
    },
    {
     "name": "stdout",
     "output_type": "stream",
     "text": [
      "% of finished task 68.3 Processing Time so far (min): 03:40:39\n"
     ]
    },
    {
     "name": "stderr",
     "output_type": "stream",
     "text": [
      "100%|███████████████████████████████████████████████████████████████████████████| 5619/5619 [00:00<00:00, 19712.37it/s]\n",
      "100%|████████████████████████████████████████████████████████████████████████████████| 649/649 [04:33<00:00,  2.37it/s]\n",
      "  7%|█████▋                                                                       | 368/4970 [00:00<00:01, 3649.66it/s]"
     ]
    },
    {
     "name": "stdout",
     "output_type": "stream",
     "text": [
      "% of finished task 72.0 Processing Time so far (min): 03:45:45\n"
     ]
    },
    {
     "name": "stderr",
     "output_type": "stream",
     "text": [
      "100%|███████████████████████████████████████████████████████████████████████████| 4970/4970 [00:00<00:00, 18684.73it/s]\n",
      "100%|████████████████████████████████████████████████████████████████████████████████| 476/476 [03:06<00:00,  2.56it/s]\n",
      "  7%|█████▎                                                                       | 313/4494 [00:00<00:01, 2781.88it/s]"
     ]
    },
    {
     "name": "stdout",
     "output_type": "stream",
     "text": [
      "% of finished task 74.6 Processing Time so far (min): 03:48:59\n"
     ]
    },
    {
     "name": "stderr",
     "output_type": "stream",
     "text": [
      "100%|███████████████████████████████████████████████████████████████████████████| 4494/4494 [00:00<00:00, 15867.48it/s]\n",
      "100%|████████████████████████████████████████████████████████████████████████████████| 442/442 [02:53<00:00,  2.55it/s]\n",
      "  9%|██████▉                                                                      | 368/4052 [00:00<00:01, 3224.13it/s]"
     ]
    },
    {
     "name": "stdout",
     "output_type": "stream",
     "text": [
      "% of finished task 77.1 Processing Time so far (min): 03:52:02\n"
     ]
    },
    {
     "name": "stderr",
     "output_type": "stream",
     "text": [
      "100%|███████████████████████████████████████████████████████████████████████████| 4052/4052 [00:00<00:00, 16296.93it/s]\n",
      "100%|████████████████████████████████████████████████████████████████████████████████| 430/430 [02:47<00:00,  2.57it/s]\n",
      "  7%|█████                                                                        | 240/3622 [00:00<00:01, 2367.66it/s]"
     ]
    },
    {
     "name": "stdout",
     "output_type": "stream",
     "text": [
      "% of finished task 79.6 Processing Time so far (min): 03:55:07\n"
     ]
    },
    {
     "name": "stderr",
     "output_type": "stream",
     "text": [
      "100%|███████████████████████████████████████████████████████████████████████████| 3622/3622 [00:00<00:00, 15027.56it/s]\n",
      "100%|████████████████████████████████████████████████████████████████████████████████| 416/416 [02:43<00:00,  2.54it/s]\n",
      " 11%|████████▊                                                                    | 368/3206 [00:00<00:00, 3354.07it/s]"
     ]
    },
    {
     "name": "stdout",
     "output_type": "stream",
     "text": [
      "% of finished task 81.9 Processing Time so far (min): 03:57:57\n"
     ]
    },
    {
     "name": "stderr",
     "output_type": "stream",
     "text": [
      "100%|███████████████████████████████████████████████████████████████████████████| 3206/3206 [00:00<00:00, 13350.64it/s]\n",
      "100%|████████████████████████████████████████████████████████████████████████████████| 400/400 [02:42<00:00,  2.46it/s]\n",
      " 13%|██████████                                                                   | 368/2806 [00:00<00:00, 3188.85it/s]"
     ]
    },
    {
     "name": "stdout",
     "output_type": "stream",
     "text": [
      "% of finished task 84.2 Processing Time so far (min): 04:01:50\n"
     ]
    },
    {
     "name": "stderr",
     "output_type": "stream",
     "text": [
      "100%|███████████████████████████████████████████████████████████████████████████| 2806/2806 [00:00<00:00, 12385.79it/s]\n",
      "100%|████████████████████████████████████████████████████████████████████████████████| 386/386 [02:37<00:00,  2.45it/s]\n",
      " 15%|███████████▋                                                                 | 368/2420 [00:00<00:00, 3415.89it/s]"
     ]
    },
    {
     "name": "stdout",
     "output_type": "stream",
     "text": [
      "% of finished task 86.4 Processing Time so far (min): 04:05:06\n"
     ]
    },
    {
     "name": "stderr",
     "output_type": "stream",
     "text": [
      "100%|███████████████████████████████████████████████████████████████████████████| 2420/2420 [00:00<00:00, 11155.11it/s]\n",
      "100%|████████████████████████████████████████████████████████████████████████████████| 366/366 [02:25<00:00,  2.52it/s]\n",
      " 99%|███████████████████████████████████████████████████████████████████████████▏| 2032/2054 [00:00<00:00, 3236.25it/s]"
     ]
    },
    {
     "name": "stdout",
     "output_type": "stream",
     "text": [
      "% of finished task 88.4 Processing Time so far (min): 04:07:46\n"
     ]
    },
    {
     "name": "stderr",
     "output_type": "stream",
     "text": [
      "100%|████████████████████████████████████████████████████████████████████████████| 2054/2054 [00:00<00:00, 9513.89it/s]\n",
      "100%|████████████████████████████████████████████████████████████████████████████████| 349/349 [02:16<00:00,  2.55it/s]\n",
      "100%|████████████████████████████████████████████████████████████████████████████| 1705/1705 [00:00<00:00, 9430.01it/s]"
     ]
    },
    {
     "name": "stdout",
     "output_type": "stream",
     "text": [
      "% of finished task 90.4 Processing Time so far (min): 04:10:11\n"
     ]
    },
    {
     "name": "stderr",
     "output_type": "stream",
     "text": [
      "\n",
      "100%|████████████████████████████████████████████████████████████████████████████████| 332/332 [02:10<00:00,  2.55it/s]\n",
      "100%|████████████████████████████████████████████████████████████████████████████| 1373/1373 [00:00<00:00, 7963.78it/s]"
     ]
    },
    {
     "name": "stdout",
     "output_type": "stream",
     "text": [
      "% of finished task 92.3 Processing Time so far (min): 04:12:29\n"
     ]
    },
    {
     "name": "stderr",
     "output_type": "stream",
     "text": [
      "\n",
      "100%|████████████████████████████████████████████████████████████████████████████████| 318/318 [02:00<00:00,  2.63it/s]\n",
      " 35%|██████████████████████████▊                                                  | 368/1055 [00:00<00:00, 3185.58it/s]"
     ]
    },
    {
     "name": "stdout",
     "output_type": "stream",
     "text": [
      "% of finished task 94.0 Processing Time so far (min): 04:15:00\n"
     ]
    },
    {
     "name": "stderr",
     "output_type": "stream",
     "text": [
      "100%|████████████████████████████████████████████████████████████████████████████| 1055/1055 [00:00<00:00, 5676.38it/s]\n",
      "100%|████████████████████████████████████████████████████████████████████████████████| 300/300 [01:52<00:00,  2.67it/s]\n",
      "100%|██████████████████████████████████████████████████████████████████████████████| 755/755 [00:00<00:00, 4777.05it/s]"
     ]
    },
    {
     "name": "stdout",
     "output_type": "stream",
     "text": [
      "% of finished task 95.7 Processing Time so far (min): 04:17:00\n"
     ]
    },
    {
     "name": "stderr",
     "output_type": "stream",
     "text": [
      "\n",
      "100%|████████████████████████████████████████████████████████████████████████████████| 263/263 [01:37<00:00,  2.70it/s]\n",
      "100%|██████████████████████████████████████████████████████████████████████████████| 492/492 [00:00<00:00, 3896.54it/s]"
     ]
    },
    {
     "name": "stdout",
     "output_type": "stream",
     "text": [
      "% of finished task 97.2 Processing Time so far (min): 04:18:47\n"
     ]
    },
    {
     "name": "stderr",
     "output_type": "stream",
     "text": [
      "\n",
      "100%|████████████████████████████████████████████████████████████████████████████████| 208/208 [01:17<00:00,  2.67it/s]\n",
      "100%|██████████████████████████████████████████████████████████████████████████████| 284/284 [00:00<00:00, 3094.89it/s]"
     ]
    },
    {
     "name": "stdout",
     "output_type": "stream",
     "text": [
      "% of finished task 98.4 Processing Time so far (min): 04:20:12\n"
     ]
    },
    {
     "name": "stderr",
     "output_type": "stream",
     "text": [
      "\n",
      "100%|████████████████████████████████████████████████████████████████████████████████| 169/169 [01:02<00:00,  2.72it/s]\n",
      "100%|██████████████████████████████████████████████████████████████████████████████| 115/115 [00:00<00:00, 1487.30it/s]"
     ]
    },
    {
     "name": "stdout",
     "output_type": "stream",
     "text": [
      "% of finished task 99.3 Processing Time so far (min): 04:21:20\n"
     ]
    },
    {
     "name": "stderr",
     "output_type": "stream",
     "text": [
      "\n",
      "100%|██████████████████████████████████████████████████████████████████████████████████| 89/89 [00:30<00:00,  2.91it/s]\n",
      "100%|████████████████████████████████████████████████████████████████████████████████| 26/26 [00:00<00:00, 1496.59it/s]\n",
      "  0%|                                                                                           | 0/25 [00:00<?, ?it/s]"
     ]
    },
    {
     "name": "stdout",
     "output_type": "stream",
     "text": [
      "% of finished task 99.8 Processing Time so far (min): 04:21:56\n"
     ]
    },
    {
     "name": "stderr",
     "output_type": "stream",
     "text": [
      "100%|██████████████████████████████████████████████████████████████████████████████████| 25/25 [00:04<00:00,  5.44it/s]\n",
      "100%|████████████████████████████████████████████████████████████████████████████████████████████| 1/1 [00:00<?, ?it/s]\n",
      "100%|████████████████████████████████████████████████████████████████████████████████████████████| 1/1 [00:00<?, ?it/s]"
     ]
    },
    {
     "name": "stdout",
     "output_type": "stream",
     "text": [
      "% of finished task 100.0 Processing Time so far (min): 04:22:09\n"
     ]
    },
    {
     "name": "stderr",
     "output_type": "stream",
     "text": [
      "\n"
     ]
    },
    {
     "name": "stdout",
     "output_type": "stream",
     "text": [
      "% of finished task 100.0 Processing Time so far (min): 04:22:09\n"
     ]
    }
   ],
   "source": [
    "t_temp = 0\n",
    "PercentageDone = 0\n",
    "NumberUP = len(np.argwhere(targetImg == -99).tolist())\n",
    "seed2 = 200\n",
    "while (NumberUP != 0):\n",
    "    ########## Find coord of unknown pixels with at least 3 known neighbors ##########\n",
    "    ts = time()\n",
    "    # Get indice of unknown pixels with at least 3 immediate neighbors (v=1, h=1)\n",
    "    coordUP = np.argwhere(targetImg == -99).tolist() # Get indices of unknown pixels    \n",
    "    res = Parallel(n_jobs=-1)(delayed(selectUP_minNx)(coordUP[k],targetImg,L1,L2,minNx) for k in tqdm(range(len(coordUP))))\n",
    "    selectedUP = [x for x in res if x != None]\n",
    "    if len(selectedUP) != 0:                                     # In case there are UP with the indicated minNx condition\n",
    "        random.seed(seed2)\n",
    "        reorderedUP = random.sample(selectedUP, len(selectedUP)) # need to reorder, so that the predicted value of unknown pixel 'x2' is not hugely affected by the previously 'x1'\n",
    "        rowsList, colList = zip(*reorderedUP)                    # unpack results\n",
    "    else:                                                        # In case there are no UP with  with the indicated minNx condition\n",
    "        if len(coordUP) > 5:\n",
    "            random.seed(seed2)        \n",
    "            selectedUP = random.sample(coordUP, 5)\n",
    "            rowsList, colList = zip(*selectedUP) # unpack results  \n",
    "        else:\n",
    "            random.seed(seed2)        \n",
    "            selectedUP = random.sample(coordUP, 1)\n",
    "            rowsList, colList = zip(*selectedUP) # unpack results    \n",
    "    \n",
    "    ########## Search for best replicate using all laptop cores (in the selected sub-group) ##########\n",
    "    results = Parallel(backend='loky',n_jobs=-1,verbose=0)(delayed(find_best_replicate)(rowsList[iteration],colList[iteration],L1,L2,targetImg,auxImg,list_boundary_values,groups_KP,list_KP_Values1,t,w1,w2,dmax1,dmax2,f) for iteration in tqdm(range(len(rowsList))))\n",
    "    \n",
    "    ########## Update Arrays with new simulated values ##########\n",
    "    for item in range(len(rowsList)):\n",
    "        targetImg[int(rowsList[item]),int(colList[item])] = results[item]\n",
    "\n",
    "    PercentageDone += round(100*(len(selectedUP)/originalNumberUP),2)\n",
    "    t_temp += (time()-ts)\n",
    "    print('% of finished task',round(PercentageDone,1),'Processing Time so far (min):',strftime(\"%H:%M:%S\", gmtime(t_temp)))\n",
    "    NumberUP = len(np.argwhere(targetImg == -99).tolist())"
   ]
  },
  {
   "cell_type": "markdown",
   "metadata": {},
   "source": [
    "# Assess Performance"
   ]
  },
  {
   "cell_type": "code",
   "execution_count": 101,
   "metadata": {
    "ExecuteTime": {
     "end_time": "2021-12-28T14:53:52.593613Z",
     "start_time": "2021-12-28T14:53:51.533597Z"
    }
   },
   "outputs": [],
   "source": [
    "def get_values(X_item, Y_item, array):                     # The order matters \n",
    "    return array[X_item,Y_item]                            # input variables that will be assigned a default value need to be written at the end\n",
    "\n",
    "actual_values = Parallel(n_jobs=-1)(delayed(get_values)(original_rowIndex[m],original_colIndex[m],cloudFreeImg) for m in range(len(original_rowIndex)))\n",
    "replicate_values = Parallel(n_jobs=-1)(delayed(get_values)(original_rowIndex[m],original_colIndex[m],targetImg) for m in range(len(original_rowIndex)))\n",
    "\n",
    "df1 = pd.DataFrame({'X_idx': original_rowIndex,'X_idy': original_colIndex,'actualValue': actual_values,'replicateValue': replicate_values})\n",
    "df1 = df1.drop(df1[df1[\"actualValue\"]>=1e+36].index)       # Drop any row containing NaN values (the original image contains 1 NaN pixel)\n",
    "df1 = df1.drop(df1[df1[\"replicateValue\"]>=1e+36].index)    # Drop any row containing NaN values (the original image contains 1 NaN pixel)\n",
    "df1.reset_index(drop=True, inplace=True)                   # reset index (necessary after dropping some rows)"
   ]
  },
  {
   "cell_type": "code",
   "execution_count": 102,
   "metadata": {
    "ExecuteTime": {
     "end_time": "2021-12-28T14:54:08.480018Z",
     "start_time": "2021-12-28T14:54:08.465045Z"
    }
   },
   "outputs": [],
   "source": [
    "## https://gist.github.com/bshishov/5dc237f59f019b26145648e2124ca1c9\n",
    "\n",
    "EPSILON = 1e-10\n",
    "\n",
    "def _error(actual: np.ndarray, predicted: np.ndarray):\n",
    "    \"\"\" Simple error \"\"\"\n",
    "    return actual - predicted\n",
    "def _absolute_error(actual: np.ndarray, predicted: np.ndarray):\n",
    "    \"\"\" absolute error \"\"\"\n",
    "    return abs(actual - predicted)\n",
    "def _percentage_error(actual: np.ndarray, predicted: np.ndarray):\n",
    "    \"\"\"\n",
    "    Percentage error\n",
    "    Note: result is NOT multiplied by 100\n",
    "    \"\"\"\n",
    "    return _error(actual, predicted) / (actual + EPSILON)\n",
    "def mse(actual: np.ndarray, predicted: np.ndarray):\n",
    "    \"\"\" Mean Squared Error \"\"\"\n",
    "    return round(np.mean(np.square(_error(actual, predicted))), 3)\n",
    "def rmsle(actual: np.ndarray, predicted: np.ndarray):\n",
    "    \"\"\" Root Mean Squared Logarithmic Error \"\"\"\n",
    "    return round(np.sqrt(mse(np.log10(actual), np.log10(predicted))), 3)\n",
    "def mdape(actual: np.ndarray, predicted: np.ndarray):\n",
    "    \"\"\"\n",
    "    Median Absolute Percentage Error\n",
    "    \"\"\"\n",
    "    return round(np.median(np.abs(_percentage_error(actual, predicted)))*100, 2)\n",
    "def inrse(actual: np.ndarray, predicted: np.ndarray):\n",
    "    \"\"\" Integral Normalized Root Squared Error \"\"\"\n",
    "    return round(np.sqrt(np.sum(np.square(_error(actual, predicted))) / np.sum(np.square(actual - np.mean(actual)))), 3)\n",
    "\n",
    "METRICS = {\n",
    "    'mse': mse,\n",
    "    'rmsle':rmsle,  # less affected by outliers\n",
    "    'mdape': mdape, # less affected by outliers\n",
    "    'inrse': inrse, # not affected by outliers\n",
    "}\n",
    "\n",
    "def evaluate(actual: np.ndarray, predicted: np.ndarray, metrics=('rmsle', 'mdape', 'inrse')):\n",
    "    results = {}\n",
    "    for name in metrics:\n",
    "        try:\n",
    "            results[name] = METRICS[name](actual, predicted)\n",
    "        except Exception as err:\n",
    "            results[name] = np.nan\n",
    "            print('Unable to compute metric {0}: {1}'.format(name, err))\n",
    "    return results\n",
    "\n",
    "def evaluate_all(actual: np.ndarray, predicted: np.ndarray):\n",
    "    return evaluate(actual, predicted, metrics=set(METRICS.keys()))"
   ]
  },
  {
   "cell_type": "code",
   "execution_count": 103,
   "metadata": {
    "ExecuteTime": {
     "end_time": "2021-12-28T14:54:24.345273Z",
     "start_time": "2021-12-28T14:54:24.332716Z"
    }
   },
   "outputs": [],
   "source": [
    "# Use error metrics that do not penalize large differences between actual and predicted\n",
    "errorMetrics = evaluate(df1[\"actualValue\"], df1[\"replicateValue\"], metrics=('rmsle', 'mdape'))"
   ]
  },
  {
   "cell_type": "code",
   "execution_count": 104,
   "metadata": {
    "ExecuteTime": {
     "end_time": "2021-12-28T14:54:40.108266Z",
     "start_time": "2021-12-28T14:54:40.091200Z"
    }
   },
   "outputs": [],
   "source": [
    "AE = _absolute_error(df1[\"actualValue\"], df1[\"replicateValue\"])\n",
    "df2 = pd.DataFrame({'X_idx': original_rowIndex,'X_idy': original_colIndex,'actualValue': df1[\"actualValue\"],'replicateValue':df1[\"replicateValue\"],'absoluteError':AE})\n",
    "df2.sort_values('absoluteError', inplace=True)\n",
    "df2.reset_index(drop=True, inplace=True)\n",
    "# df2"
   ]
  },
  {
   "cell_type": "code",
   "execution_count": 105,
   "metadata": {
    "ExecuteTime": {
     "end_time": "2021-12-28T14:54:55.969163Z",
     "start_time": "2021-12-28T14:54:55.961766Z"
    }
   },
   "outputs": [],
   "source": [
    "# plt.subplots(figsize=(5, 5))                                         # Set figure size\n",
    "# plt.hist(df2[\"absoluteError\"], color=\"green\", bins=50)\n",
    "# plt.title(\"Distribution of Absolute Error Values\")\n",
    "# plt.ylabel('Frequency')\n",
    "# plt.xlabel('Absolute Error')"
   ]
  },
  {
   "cell_type": "code",
   "execution_count": 106,
   "metadata": {
    "ExecuteTime": {
     "end_time": "2021-12-28T14:55:11.895522Z",
     "start_time": "2021-12-28T14:55:11.873976Z"
    }
   },
   "outputs": [
    {
     "data": {
      "text/html": [
       "<div>\n",
       "<style scoped>\n",
       "    .dataframe tbody tr th:only-of-type {\n",
       "        vertical-align: middle;\n",
       "    }\n",
       "\n",
       "    .dataframe tbody tr th {\n",
       "        vertical-align: top;\n",
       "    }\n",
       "\n",
       "    .dataframe thead th {\n",
       "        text-align: right;\n",
       "    }\n",
       "</style>\n",
       "<table border=\"1\" class=\"dataframe\">\n",
       "  <thead>\n",
       "    <tr style=\"text-align: right;\">\n",
       "      <th></th>\n",
       "      <th>rmsle</th>\n",
       "      <th>mdape</th>\n",
       "      <th>maeValues</th>\n",
       "      <th>rmseValues</th>\n",
       "      <th>r2Values</th>\n",
       "    </tr>\n",
       "  </thead>\n",
       "  <tbody>\n",
       "    <tr>\n",
       "      <th>0</th>\n",
       "      <td>0.637</td>\n",
       "      <td>42.86</td>\n",
       "      <td>126.69</td>\n",
       "      <td>382.99</td>\n",
       "      <td>-23.06</td>\n",
       "    </tr>\n",
       "  </tbody>\n",
       "</table>\n",
       "</div>"
      ],
      "text/plain": [
       "   rmsle  mdape  maeValues  rmseValues  r2Values\n",
       "0  0.637  42.86     126.69      382.99    -23.06"
      ]
     },
     "execution_count": 106,
     "metadata": {},
     "output_type": "execute_result"
    }
   ],
   "source": [
    "# Quantify loss With Error Metrics\n",
    "rmsle = [errorMetrics['rmsle']]\n",
    "mdape = [errorMetrics['mdape']]\n",
    "maeValues = []\n",
    "rmseValues = []\n",
    "r2Values = []\n",
    "# n3 = [0.95, 0.97, 1]\n",
    "n3 = [1]\n",
    "for k in n3:    \n",
    "    threshold = int(len(df2)*k)\n",
    "    MAE2 = round(mean_absolute_error(df2[\"actualValue\"][:threshold], df2[\"replicateValue\"][:threshold]),2) # in units of variable # less affected by outliers than rmse\n",
    "    RMSE2 = round(mean_squared_error(df2[\"actualValue\"][:threshold], df2[\"replicateValue\"][:threshold], squared=False),2)\n",
    "    R2_score2 = round(r2_score(df2[\"actualValue\"][:threshold], df2[\"replicateValue\"][:threshold])*100,2)\n",
    "    \n",
    "    maeValues.append(MAE2)\n",
    "    rmseValues.append(RMSE2)\n",
    "    r2Values.append(R2_score2)\n",
    "    \n",
    "df3 = pd.DataFrame({'rmsle':rmsle,'mdape':mdape,'maeValues':maeValues, 'rmseValues':rmseValues, 'r2Values':r2Values})\n",
    "df3"
   ]
  },
  {
   "cell_type": "code",
   "execution_count": 107,
   "metadata": {
    "ExecuteTime": {
     "end_time": "2021-12-28T14:55:33.338286Z",
     "start_time": "2021-12-28T14:55:28.085282Z"
    }
   },
   "outputs": [
    {
     "data": {
      "text/html": [
       "<div>\n",
       "<style scoped>\n",
       "    .dataframe tbody tr th:only-of-type {\n",
       "        vertical-align: middle;\n",
       "    }\n",
       "\n",
       "    .dataframe tbody tr th {\n",
       "        vertical-align: top;\n",
       "    }\n",
       "\n",
       "    .dataframe thead th {\n",
       "        text-align: right;\n",
       "    }\n",
       "</style>\n",
       "<table border=\"1\" class=\"dataframe\">\n",
       "  <thead>\n",
       "    <tr style=\"text-align: right;\">\n",
       "      <th></th>\n",
       "      <th>array_name</th>\n",
       "      <th>meanReflectance</th>\n",
       "      <th>sdReflectance</th>\n",
       "      <th>skReflectance</th>\n",
       "    </tr>\n",
       "  </thead>\n",
       "  <tbody>\n",
       "    <tr>\n",
       "      <th>0</th>\n",
       "      <td>cloudFreeImg</td>\n",
       "      <td>67.097</td>\n",
       "      <td>232.184</td>\n",
       "      <td>7.886</td>\n",
       "    </tr>\n",
       "    <tr>\n",
       "      <th>1</th>\n",
       "      <td>targetImg</td>\n",
       "      <td>71.832</td>\n",
       "      <td>238.147</td>\n",
       "      <td>6.516</td>\n",
       "    </tr>\n",
       "  </tbody>\n",
       "</table>\n",
       "</div>"
      ],
      "text/plain": [
       "     array_name  meanReflectance  sdReflectance  skReflectance\n",
       "0  cloudFreeImg           67.097        232.184          7.886\n",
       "1     targetImg           71.832        238.147          6.516"
      ]
     },
     "execution_count": 107,
     "metadata": {},
     "output_type": "execute_result"
    }
   ],
   "source": [
    "# Quantify loss With Statistical Metrics\n",
    "\n",
    "def get_coordKP(item, array):    \n",
    "    if array[item[0],item[1]] != -99:\n",
    "        return item\n",
    "def get_known_values(list_item, array):     \n",
    "    pixelValue = array[list_item[0],list_item[1]]\n",
    "    return pixelValue\n",
    "\n",
    "my_arrays = [cloudFreeImg, targetImg]\n",
    "names = ['cloudFreeImg','targetImg']\n",
    "array_name = []\n",
    "meanReflectance = []\n",
    "sdReflectance = []\n",
    "skReflectance = []\n",
    "for i in [0,1]:\n",
    "    my_array = my_arrays[i]\n",
    "    coordMP = np.argwhere(my_array < 1e+36).tolist()                \n",
    "    coord_KP = Parallel(n_jobs=-1)(delayed(get_coordKP)(coordMP[k],my_array) for k in range(len(coordMP)))\n",
    "    coordKP = [x for x in coord_KP if x != None]\n",
    "    list_KP_Values = Parallel(n_jobs=-1)(delayed(get_known_values)(coordKP[x1],my_array) for x1 in range(len(coordKP)))\n",
    "\n",
    "    name = names[i]\n",
    "    M = round(float(np.mean(list_KP_Values)),3)\n",
    "    SD = round(float(np.std(list_KP_Values)),3)\n",
    "    Sk = round(float(skew(list_KP_Values)),3)\n",
    "    \n",
    "    array_name.append(name)\n",
    "    meanReflectance.append(M)\n",
    "    sdReflectance.append(SD)\n",
    "    skReflectance.append(Sk)\n",
    "df4 = pd.DataFrame({'array_name':array_name,'meanReflectance':meanReflectance,'sdReflectance':sdReflectance, 'skReflectance':skReflectance})\n",
    "df4  "
   ]
  },
  {
   "cell_type": "code",
   "execution_count": 22,
   "metadata": {
    "ExecuteTime": {
     "end_time": "2021-06-20T10:22:04.497635Z",
     "start_time": "2021-06-20T10:22:03.100692Z"
    }
   },
   "outputs": [
    {
     "ename": "FileNotFoundError",
     "evalue": "[WinError 3] Le chemin d’accès spécifié est introuvable: 'G:\\\\'",
     "output_type": "error",
     "traceback": [
      "\u001b[1;31m---------------------------------------------------------------------------\u001b[0m",
      "\u001b[1;31mFileNotFoundError\u001b[0m                         Traceback (most recent call last)",
      "\u001b[1;32m<ipython-input-22-be9d0dbc28ab>\u001b[0m in \u001b[0;36m<module>\u001b[1;34m\u001b[0m\n\u001b[0;32m     10\u001b[0m \u001b[1;33m\u001b[0m\u001b[0m\n\u001b[0;32m     11\u001b[0m \u001b[0mpath\u001b[0m \u001b[1;33m=\u001b[0m \u001b[0mos\u001b[0m\u001b[1;33m.\u001b[0m\u001b[0mpath\u001b[0m\u001b[1;33m.\u001b[0m\u001b[0mjoin\u001b[0m\u001b[1;33m(\u001b[0m\u001b[0mmaindir\u001b[0m\u001b[1;33m,\u001b[0m\u001b[0mname\u001b[0m\u001b[1;33m)\u001b[0m\u001b[1;33m\u001b[0m\u001b[1;33m\u001b[0m\u001b[0m\n\u001b[1;32m---> 12\u001b[1;33m \u001b[0mos\u001b[0m\u001b[1;33m.\u001b[0m\u001b[0mmakedirs\u001b[0m\u001b[1;33m(\u001b[0m\u001b[0mpath\u001b[0m\u001b[1;33m,\u001b[0m \u001b[0mexist_ok\u001b[0m\u001b[1;33m=\u001b[0m\u001b[1;32mTrue\u001b[0m\u001b[1;33m)\u001b[0m \u001b[1;31m# Creates the folder if it does not exist\u001b[0m\u001b[1;33m\u001b[0m\u001b[1;33m\u001b[0m\u001b[0m\n\u001b[0m\u001b[0;32m     13\u001b[0m \u001b[1;33m\u001b[0m\u001b[0m\n\u001b[0;32m     14\u001b[0m \u001b[1;33m\u001b[0m\u001b[0m\n",
      "\u001b[1;32m~\\anaconda3\\lib\\os.py\u001b[0m in \u001b[0;36mmakedirs\u001b[1;34m(name, mode, exist_ok)\u001b[0m\n\u001b[0;32m    211\u001b[0m     \u001b[1;32mif\u001b[0m \u001b[0mhead\u001b[0m \u001b[1;32mand\u001b[0m \u001b[0mtail\u001b[0m \u001b[1;32mand\u001b[0m \u001b[1;32mnot\u001b[0m \u001b[0mpath\u001b[0m\u001b[1;33m.\u001b[0m\u001b[0mexists\u001b[0m\u001b[1;33m(\u001b[0m\u001b[0mhead\u001b[0m\u001b[1;33m)\u001b[0m\u001b[1;33m:\u001b[0m\u001b[1;33m\u001b[0m\u001b[1;33m\u001b[0m\u001b[0m\n\u001b[0;32m    212\u001b[0m         \u001b[1;32mtry\u001b[0m\u001b[1;33m:\u001b[0m\u001b[1;33m\u001b[0m\u001b[1;33m\u001b[0m\u001b[0m\n\u001b[1;32m--> 213\u001b[1;33m             \u001b[0mmakedirs\u001b[0m\u001b[1;33m(\u001b[0m\u001b[0mhead\u001b[0m\u001b[1;33m,\u001b[0m \u001b[0mexist_ok\u001b[0m\u001b[1;33m=\u001b[0m\u001b[0mexist_ok\u001b[0m\u001b[1;33m)\u001b[0m\u001b[1;33m\u001b[0m\u001b[1;33m\u001b[0m\u001b[0m\n\u001b[0m\u001b[0;32m    214\u001b[0m         \u001b[1;32mexcept\u001b[0m \u001b[0mFileExistsError\u001b[0m\u001b[1;33m:\u001b[0m\u001b[1;33m\u001b[0m\u001b[1;33m\u001b[0m\u001b[0m\n\u001b[0;32m    215\u001b[0m             \u001b[1;31m# Defeats race condition when another thread created the path\u001b[0m\u001b[1;33m\u001b[0m\u001b[1;33m\u001b[0m\u001b[1;33m\u001b[0m\u001b[0m\n",
      "\u001b[1;32m~\\anaconda3\\lib\\os.py\u001b[0m in \u001b[0;36mmakedirs\u001b[1;34m(name, mode, exist_ok)\u001b[0m\n\u001b[0;32m    211\u001b[0m     \u001b[1;32mif\u001b[0m \u001b[0mhead\u001b[0m \u001b[1;32mand\u001b[0m \u001b[0mtail\u001b[0m \u001b[1;32mand\u001b[0m \u001b[1;32mnot\u001b[0m \u001b[0mpath\u001b[0m\u001b[1;33m.\u001b[0m\u001b[0mexists\u001b[0m\u001b[1;33m(\u001b[0m\u001b[0mhead\u001b[0m\u001b[1;33m)\u001b[0m\u001b[1;33m:\u001b[0m\u001b[1;33m\u001b[0m\u001b[1;33m\u001b[0m\u001b[0m\n\u001b[0;32m    212\u001b[0m         \u001b[1;32mtry\u001b[0m\u001b[1;33m:\u001b[0m\u001b[1;33m\u001b[0m\u001b[1;33m\u001b[0m\u001b[0m\n\u001b[1;32m--> 213\u001b[1;33m             \u001b[0mmakedirs\u001b[0m\u001b[1;33m(\u001b[0m\u001b[0mhead\u001b[0m\u001b[1;33m,\u001b[0m \u001b[0mexist_ok\u001b[0m\u001b[1;33m=\u001b[0m\u001b[0mexist_ok\u001b[0m\u001b[1;33m)\u001b[0m\u001b[1;33m\u001b[0m\u001b[1;33m\u001b[0m\u001b[0m\n\u001b[0m\u001b[0;32m    214\u001b[0m         \u001b[1;32mexcept\u001b[0m \u001b[0mFileExistsError\u001b[0m\u001b[1;33m:\u001b[0m\u001b[1;33m\u001b[0m\u001b[1;33m\u001b[0m\u001b[0m\n\u001b[0;32m    215\u001b[0m             \u001b[1;31m# Defeats race condition when another thread created the path\u001b[0m\u001b[1;33m\u001b[0m\u001b[1;33m\u001b[0m\u001b[1;33m\u001b[0m\u001b[0m\n",
      "\u001b[1;32m~\\anaconda3\\lib\\os.py\u001b[0m in \u001b[0;36mmakedirs\u001b[1;34m(name, mode, exist_ok)\u001b[0m\n\u001b[0;32m    211\u001b[0m     \u001b[1;32mif\u001b[0m \u001b[0mhead\u001b[0m \u001b[1;32mand\u001b[0m \u001b[0mtail\u001b[0m \u001b[1;32mand\u001b[0m \u001b[1;32mnot\u001b[0m \u001b[0mpath\u001b[0m\u001b[1;33m.\u001b[0m\u001b[0mexists\u001b[0m\u001b[1;33m(\u001b[0m\u001b[0mhead\u001b[0m\u001b[1;33m)\u001b[0m\u001b[1;33m:\u001b[0m\u001b[1;33m\u001b[0m\u001b[1;33m\u001b[0m\u001b[0m\n\u001b[0;32m    212\u001b[0m         \u001b[1;32mtry\u001b[0m\u001b[1;33m:\u001b[0m\u001b[1;33m\u001b[0m\u001b[1;33m\u001b[0m\u001b[0m\n\u001b[1;32m--> 213\u001b[1;33m             \u001b[0mmakedirs\u001b[0m\u001b[1;33m(\u001b[0m\u001b[0mhead\u001b[0m\u001b[1;33m,\u001b[0m \u001b[0mexist_ok\u001b[0m\u001b[1;33m=\u001b[0m\u001b[0mexist_ok\u001b[0m\u001b[1;33m)\u001b[0m\u001b[1;33m\u001b[0m\u001b[1;33m\u001b[0m\u001b[0m\n\u001b[0m\u001b[0;32m    214\u001b[0m         \u001b[1;32mexcept\u001b[0m \u001b[0mFileExistsError\u001b[0m\u001b[1;33m:\u001b[0m\u001b[1;33m\u001b[0m\u001b[1;33m\u001b[0m\u001b[0m\n\u001b[0;32m    215\u001b[0m             \u001b[1;31m# Defeats race condition when another thread created the path\u001b[0m\u001b[1;33m\u001b[0m\u001b[1;33m\u001b[0m\u001b[1;33m\u001b[0m\u001b[0m\n",
      "\u001b[1;32m~\\anaconda3\\lib\\os.py\u001b[0m in \u001b[0;36mmakedirs\u001b[1;34m(name, mode, exist_ok)\u001b[0m\n\u001b[0;32m    211\u001b[0m     \u001b[1;32mif\u001b[0m \u001b[0mhead\u001b[0m \u001b[1;32mand\u001b[0m \u001b[0mtail\u001b[0m \u001b[1;32mand\u001b[0m \u001b[1;32mnot\u001b[0m \u001b[0mpath\u001b[0m\u001b[1;33m.\u001b[0m\u001b[0mexists\u001b[0m\u001b[1;33m(\u001b[0m\u001b[0mhead\u001b[0m\u001b[1;33m)\u001b[0m\u001b[1;33m:\u001b[0m\u001b[1;33m\u001b[0m\u001b[1;33m\u001b[0m\u001b[0m\n\u001b[0;32m    212\u001b[0m         \u001b[1;32mtry\u001b[0m\u001b[1;33m:\u001b[0m\u001b[1;33m\u001b[0m\u001b[1;33m\u001b[0m\u001b[0m\n\u001b[1;32m--> 213\u001b[1;33m             \u001b[0mmakedirs\u001b[0m\u001b[1;33m(\u001b[0m\u001b[0mhead\u001b[0m\u001b[1;33m,\u001b[0m \u001b[0mexist_ok\u001b[0m\u001b[1;33m=\u001b[0m\u001b[0mexist_ok\u001b[0m\u001b[1;33m)\u001b[0m\u001b[1;33m\u001b[0m\u001b[1;33m\u001b[0m\u001b[0m\n\u001b[0m\u001b[0;32m    214\u001b[0m         \u001b[1;32mexcept\u001b[0m \u001b[0mFileExistsError\u001b[0m\u001b[1;33m:\u001b[0m\u001b[1;33m\u001b[0m\u001b[1;33m\u001b[0m\u001b[0m\n\u001b[0;32m    215\u001b[0m             \u001b[1;31m# Defeats race condition when another thread created the path\u001b[0m\u001b[1;33m\u001b[0m\u001b[1;33m\u001b[0m\u001b[1;33m\u001b[0m\u001b[0m\n",
      "\u001b[1;32m~\\anaconda3\\lib\\os.py\u001b[0m in \u001b[0;36mmakedirs\u001b[1;34m(name, mode, exist_ok)\u001b[0m\n\u001b[0;32m    211\u001b[0m     \u001b[1;32mif\u001b[0m \u001b[0mhead\u001b[0m \u001b[1;32mand\u001b[0m \u001b[0mtail\u001b[0m \u001b[1;32mand\u001b[0m \u001b[1;32mnot\u001b[0m \u001b[0mpath\u001b[0m\u001b[1;33m.\u001b[0m\u001b[0mexists\u001b[0m\u001b[1;33m(\u001b[0m\u001b[0mhead\u001b[0m\u001b[1;33m)\u001b[0m\u001b[1;33m:\u001b[0m\u001b[1;33m\u001b[0m\u001b[1;33m\u001b[0m\u001b[0m\n\u001b[0;32m    212\u001b[0m         \u001b[1;32mtry\u001b[0m\u001b[1;33m:\u001b[0m\u001b[1;33m\u001b[0m\u001b[1;33m\u001b[0m\u001b[0m\n\u001b[1;32m--> 213\u001b[1;33m             \u001b[0mmakedirs\u001b[0m\u001b[1;33m(\u001b[0m\u001b[0mhead\u001b[0m\u001b[1;33m,\u001b[0m \u001b[0mexist_ok\u001b[0m\u001b[1;33m=\u001b[0m\u001b[0mexist_ok\u001b[0m\u001b[1;33m)\u001b[0m\u001b[1;33m\u001b[0m\u001b[1;33m\u001b[0m\u001b[0m\n\u001b[0m\u001b[0;32m    214\u001b[0m         \u001b[1;32mexcept\u001b[0m \u001b[0mFileExistsError\u001b[0m\u001b[1;33m:\u001b[0m\u001b[1;33m\u001b[0m\u001b[1;33m\u001b[0m\u001b[0m\n\u001b[0;32m    215\u001b[0m             \u001b[1;31m# Defeats race condition when another thread created the path\u001b[0m\u001b[1;33m\u001b[0m\u001b[1;33m\u001b[0m\u001b[1;33m\u001b[0m\u001b[0m\n",
      "\u001b[1;32m~\\anaconda3\\lib\\os.py\u001b[0m in \u001b[0;36mmakedirs\u001b[1;34m(name, mode, exist_ok)\u001b[0m\n\u001b[0;32m    211\u001b[0m     \u001b[1;32mif\u001b[0m \u001b[0mhead\u001b[0m \u001b[1;32mand\u001b[0m \u001b[0mtail\u001b[0m \u001b[1;32mand\u001b[0m \u001b[1;32mnot\u001b[0m \u001b[0mpath\u001b[0m\u001b[1;33m.\u001b[0m\u001b[0mexists\u001b[0m\u001b[1;33m(\u001b[0m\u001b[0mhead\u001b[0m\u001b[1;33m)\u001b[0m\u001b[1;33m:\u001b[0m\u001b[1;33m\u001b[0m\u001b[1;33m\u001b[0m\u001b[0m\n\u001b[0;32m    212\u001b[0m         \u001b[1;32mtry\u001b[0m\u001b[1;33m:\u001b[0m\u001b[1;33m\u001b[0m\u001b[1;33m\u001b[0m\u001b[0m\n\u001b[1;32m--> 213\u001b[1;33m             \u001b[0mmakedirs\u001b[0m\u001b[1;33m(\u001b[0m\u001b[0mhead\u001b[0m\u001b[1;33m,\u001b[0m \u001b[0mexist_ok\u001b[0m\u001b[1;33m=\u001b[0m\u001b[0mexist_ok\u001b[0m\u001b[1;33m)\u001b[0m\u001b[1;33m\u001b[0m\u001b[1;33m\u001b[0m\u001b[0m\n\u001b[0m\u001b[0;32m    214\u001b[0m         \u001b[1;32mexcept\u001b[0m \u001b[0mFileExistsError\u001b[0m\u001b[1;33m:\u001b[0m\u001b[1;33m\u001b[0m\u001b[1;33m\u001b[0m\u001b[0m\n\u001b[0;32m    215\u001b[0m             \u001b[1;31m# Defeats race condition when another thread created the path\u001b[0m\u001b[1;33m\u001b[0m\u001b[1;33m\u001b[0m\u001b[1;33m\u001b[0m\u001b[0m\n",
      "\u001b[1;32m~\\anaconda3\\lib\\os.py\u001b[0m in \u001b[0;36mmakedirs\u001b[1;34m(name, mode, exist_ok)\u001b[0m\n\u001b[0;32m    211\u001b[0m     \u001b[1;32mif\u001b[0m \u001b[0mhead\u001b[0m \u001b[1;32mand\u001b[0m \u001b[0mtail\u001b[0m \u001b[1;32mand\u001b[0m \u001b[1;32mnot\u001b[0m \u001b[0mpath\u001b[0m\u001b[1;33m.\u001b[0m\u001b[0mexists\u001b[0m\u001b[1;33m(\u001b[0m\u001b[0mhead\u001b[0m\u001b[1;33m)\u001b[0m\u001b[1;33m:\u001b[0m\u001b[1;33m\u001b[0m\u001b[1;33m\u001b[0m\u001b[0m\n\u001b[0;32m    212\u001b[0m         \u001b[1;32mtry\u001b[0m\u001b[1;33m:\u001b[0m\u001b[1;33m\u001b[0m\u001b[1;33m\u001b[0m\u001b[0m\n\u001b[1;32m--> 213\u001b[1;33m             \u001b[0mmakedirs\u001b[0m\u001b[1;33m(\u001b[0m\u001b[0mhead\u001b[0m\u001b[1;33m,\u001b[0m \u001b[0mexist_ok\u001b[0m\u001b[1;33m=\u001b[0m\u001b[0mexist_ok\u001b[0m\u001b[1;33m)\u001b[0m\u001b[1;33m\u001b[0m\u001b[1;33m\u001b[0m\u001b[0m\n\u001b[0m\u001b[0;32m    214\u001b[0m         \u001b[1;32mexcept\u001b[0m \u001b[0mFileExistsError\u001b[0m\u001b[1;33m:\u001b[0m\u001b[1;33m\u001b[0m\u001b[1;33m\u001b[0m\u001b[0m\n\u001b[0;32m    215\u001b[0m             \u001b[1;31m# Defeats race condition when another thread created the path\u001b[0m\u001b[1;33m\u001b[0m\u001b[1;33m\u001b[0m\u001b[1;33m\u001b[0m\u001b[0m\n",
      "\u001b[1;32m~\\anaconda3\\lib\\os.py\u001b[0m in \u001b[0;36mmakedirs\u001b[1;34m(name, mode, exist_ok)\u001b[0m\n\u001b[0;32m    221\u001b[0m             \u001b[1;32mreturn\u001b[0m\u001b[1;33m\u001b[0m\u001b[1;33m\u001b[0m\u001b[0m\n\u001b[0;32m    222\u001b[0m     \u001b[1;32mtry\u001b[0m\u001b[1;33m:\u001b[0m\u001b[1;33m\u001b[0m\u001b[1;33m\u001b[0m\u001b[0m\n\u001b[1;32m--> 223\u001b[1;33m         \u001b[0mmkdir\u001b[0m\u001b[1;33m(\u001b[0m\u001b[0mname\u001b[0m\u001b[1;33m,\u001b[0m \u001b[0mmode\u001b[0m\u001b[1;33m)\u001b[0m\u001b[1;33m\u001b[0m\u001b[1;33m\u001b[0m\u001b[0m\n\u001b[0m\u001b[0;32m    224\u001b[0m     \u001b[1;32mexcept\u001b[0m \u001b[0mOSError\u001b[0m\u001b[1;33m:\u001b[0m\u001b[1;33m\u001b[0m\u001b[1;33m\u001b[0m\u001b[0m\n\u001b[0;32m    225\u001b[0m         \u001b[1;31m# Cannot rely on checking for EEXIST, since the operating system\u001b[0m\u001b[1;33m\u001b[0m\u001b[1;33m\u001b[0m\u001b[1;33m\u001b[0m\u001b[0m\n",
      "\u001b[1;31mFileNotFoundError\u001b[0m: [WinError 3] Le chemin d’accès spécifié est introuvable: 'G:\\\\'"
     ]
    }
   ],
   "source": [
    "# visualize AE as raster image\n",
    "arrayAE = np.absolute(cloudFreeImg-targetImg)\n",
    "for i in range(cloudFreeImg.shape[0]):\n",
    "    for j in range(cloudFreeImg.shape[1]):\n",
    "        if cloudFreeImg[i,j] > 1e+36:\n",
    "            arrayAE[i,j] = cloudFreeImg[i,j]\n",
    "            \n",
    "maindir = r'G:\\MScThesis\\waterQualityMonitoring\\Data\\GapFilling\\testingPhase_France\\ExperimentOutput'\n",
    "name = 'Band'+str(band)+'___'+'clouded'+str(c)+'___'+'Experiment_'+n1+'_'+str(t)+'_'+str(f)+'_'+str(n2)+'_'+str(w1)+'_'+str(w2)\n",
    "\n",
    "path = os.path.join(maindir,name)\n",
    "os.makedirs(path, exist_ok=True) # Creates the folder if it does not exist\n",
    "\n",
    "\n",
    "outputdir1 = os.path.join(path, name+'.tiff')\n",
    "with rasterio.open(outputdir1,'w',driver='Gtiff', width=img.width, height=img.height, \n",
    "                    count=1,crs=img.crs,transform=img.transform, dtype='float32', nodata=9.96921e+36) as newImg:\n",
    "    newImg.write(arrayAE,1)\n",
    "    newImg.close()\n",
    "    \n",
    "outputdir2 = os.path.join(path, name+'.xlsx')\n",
    "df2.to_excel(outputdir2, index=False) "
   ]
  },
  {
   "cell_type": "code",
   "execution_count": null,
   "metadata": {},
   "outputs": [],
   "source": []
  }
 ],
 "metadata": {
  "kernelspec": {
   "display_name": "Python 3",
   "language": "python",
   "name": "python3"
  },
  "language_info": {
   "codemirror_mode": {
    "name": "ipython",
    "version": 3
   },
   "file_extension": ".py",
   "mimetype": "text/x-python",
   "name": "python",
   "nbconvert_exporter": "python",
   "pygments_lexer": "ipython3",
   "version": "3.8.3"
  },
  "toc": {
   "base_numbering": 1,
   "nav_menu": {},
   "number_sections": true,
   "sideBar": true,
   "skip_h1_title": false,
   "title_cell": "Table of Contents",
   "title_sidebar": "Contents",
   "toc_cell": false,
   "toc_position": {},
   "toc_section_display": true,
   "toc_window_display": false
  },
  "varInspector": {
   "cols": {
    "lenName": 16,
    "lenType": 16,
    "lenVar": 40
   },
   "kernels_config": {
    "python": {
     "delete_cmd_postfix": "",
     "delete_cmd_prefix": "del ",
     "library": "var_list.py",
     "varRefreshCmd": "print(var_dic_list())"
    },
    "r": {
     "delete_cmd_postfix": ") ",
     "delete_cmd_prefix": "rm(",
     "library": "var_list.r",
     "varRefreshCmd": "cat(var_dic_list()) "
    }
   },
   "types_to_exclude": [
    "module",
    "function",
    "builtin_function_or_method",
    "instance",
    "_Feature"
   ],
   "window_display": false
  }
 },
 "nbformat": 4,
 "nbformat_minor": 4
}
