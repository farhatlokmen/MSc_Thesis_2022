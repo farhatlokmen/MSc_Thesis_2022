{
 "cells": [
  {
   "cell_type": "code",
   "execution_count": null,
   "metadata": {},
   "outputs": [],
   "source": [
    "from sentinelsat import SentinelAPI, read_geojson, geojson_to_wkt\n",
    "from datetime import date"
   ]
  },
  {
   "cell_type": "code",
   "execution_count": null,
   "metadata": {},
   "outputs": [],
   "source": [
    "user = 'flokmen' \n",
    "password = 'TUNI2020gr' \n",
    "api = SentinelAPI(user, password, 'https://apihub.copernicus.eu/apihub/')\n",
    "geo_json_file = read_geojson(r'G:\\boundary.geojson')\n",
    "footprint = geojson_to_wkt(geo_json_file)"
   ]
  },
  {
   "cell_type": "code",
   "execution_count": null,
   "metadata": {},
   "outputs": [],
   "source": [
    "startDate = '20190110'\n",
    "endDate =   '20190122'\n",
    "products = api.query(footprint, date = (startDate, endDate), producttype = 'S2MSI2A')\n",
    "products_df = api.to_dataframe(products)\n",
    "labels = list()\n",
    "for i in range(0,len(products_df)):\n",
    "    if 'TFH' in products_df['title'][i]:\n",
    "        labels.append(products_df['uuid'][i])\n",
    "subset_df = products_df.drop(labels)"
   ]
  },
  {
   "cell_type": "code",
   "execution_count": null,
   "metadata": {},
   "outputs": [],
   "source": [
    "#################################################\n",
    "# S2 images part of the Long Term Archive (LTA) #\n",
    "#################################################\n",
    "# directory = r'C:\\Desktop'\n",
    "# api.download('32289753-121f-4c03-bc48-8e7603c84e17', directory_path= directory)\n",
    "\n",
    "#############################\n",
    "# S2 images NOT part of LTA #\n",
    "#############################\n",
    "directory = r'C:\\Desktop'\n",
    "L = list(subset_df['uuid'])\n",
    "[api.download(item, directory_path= directory) for item in L]"
   ]
  },
  {
   "cell_type": "code",
   "execution_count": null,
   "metadata": {},
   "outputs": [],
   "source": []
  }
 ],
 "metadata": {
  "kernelspec": {
   "display_name": "Python 3",
   "language": "python",
   "name": "python3"
  },
  "language_info": {
   "codemirror_mode": {
    "name": "ipython",
    "version": 3
   },
   "file_extension": ".py",
   "mimetype": "text/x-python",
   "name": "python",
   "nbconvert_exporter": "python",
   "pygments_lexer": "ipython3",
   "version": "3.8.3"
  },
  "toc": {
   "base_numbering": 1,
   "nav_menu": {},
   "number_sections": true,
   "sideBar": true,
   "skip_h1_title": false,
   "title_cell": "Table of Contents",
   "title_sidebar": "Contents",
   "toc_cell": false,
   "toc_position": {},
   "toc_section_display": true,
   "toc_window_display": false
  },
  "varInspector": {
   "cols": {
    "lenName": 16,
    "lenType": 16,
    "lenVar": 40
   },
   "kernels_config": {
    "python": {
     "delete_cmd_postfix": "",
     "delete_cmd_prefix": "del ",
     "library": "var_list.py",
     "varRefreshCmd": "print(var_dic_list())"
    },
    "r": {
     "delete_cmd_postfix": ") ",
     "delete_cmd_prefix": "rm(",
     "library": "var_list.r",
     "varRefreshCmd": "cat(var_dic_list()) "
    }
   },
   "types_to_exclude": [
    "module",
    "function",
    "builtin_function_or_method",
    "instance",
    "_Feature"
   ],
   "window_display": false
  }
 },
 "nbformat": 4,
 "nbformat_minor": 4
}
